{
 "cells": [
  {
   "cell_type": "markdown",
   "metadata": {},
   "source": [
    "Notebook which produces data required for figure 6. Executes a CIFAR network temporally."
   ]
  },
  {
   "cell_type": "code",
   "execution_count": 1,
   "metadata": {},
   "outputs": [],
   "source": [
    "import matplotlib.pyplot as plt\n",
    "import numpy as np\n",
    "\n",
    "import tensorflow as tf\n",
    "import tensorflow_datasets as tfds\n",
    "import tensorflow.keras as keras\n",
    "import tensorflow.keras.layers as layers\n",
    "import tensorflow.keras.backend as be"
   ]
  },
  {
   "cell_type": "code",
   "execution_count": 2,
   "metadata": {},
   "outputs": [],
   "source": [
    "from utils import *\n",
    "from data import *\n",
    "from layers import *\n",
    "from models import *"
   ]
  },
  {
   "cell_type": "code",
   "execution_count": 3,
   "metadata": {},
   "outputs": [],
   "source": [
    "from tensorflow.keras.preprocessing.image import ImageDataGenerator"
   ]
  },
  {
   "cell_type": "code",
   "execution_count": 4,
   "metadata": {},
   "outputs": [],
   "source": [
    "# Currently the eager execution mode in dynamic inference leads to GPU memory usage increasing over time. \n",
    "# GPU acceleration does not help accelerate the dynamic inference by much so it should be disabled during the\n",
    "# long inference over 1024 examples to prevent out-of-memory errors on GPU. \n",
    "\n",
    "limit_gpus()\n",
    "set_gpu(None)"
   ]
  },
  {
   "cell_type": "code",
   "execution_count": 5,
   "metadata": {},
   "outputs": [],
   "source": [
    "dataset = \"cifar10\"\n",
    "n_batch = 128\n",
    "ds_train, ds_test, ds_info = load_dataset(dataset, n_batch)\n",
    "\n",
    "input_shape = ds_info.features['image'].shape\n",
    "num_classes = ds_info.features['label'].num_classes"
   ]
  },
  {
   "cell_type": "code",
   "execution_count": 6,
   "metadata": {},
   "outputs": [
    {
     "data": {
      "text/plain": [
       "(32, 32, 3)"
      ]
     },
     "execution_count": 6,
     "metadata": {},
     "output_type": "execute_result"
    }
   ],
   "source": [
    "input_shape"
   ]
  },
  {
   "cell_type": "code",
   "execution_count": 7,
   "metadata": {},
   "outputs": [],
   "source": [
    "m_repeats = 20"
   ]
  },
  {
   "cell_type": "code",
   "execution_count": 8,
   "metadata": {},
   "outputs": [],
   "source": [
    "x_train, y_train = get_raw_dat(ds_train)\n",
    "datagen = ImageDataGenerator(\n",
    "    rotation_range=15,\n",
    "    width_shift_range=0.1,\n",
    "    height_shift_range=0.1,\n",
    "    horizontal_flip=True,\n",
    "    )\n",
    "datagen.fit(x_train)"
   ]
  },
  {
   "cell_type": "code",
   "execution_count": 9,
   "metadata": {
    "scrolled": false
   },
   "outputs": [],
   "source": [
    "model = Conv2DPhasorModel(input_shape, projection=\"dot\", onehot_offset=0.0, \n",
    "                    onehot_phase=0.5,n_hidden=1000, dropout_rate=0.20,\n",
    "                         repeats=m_repeats,\n",
    "                         exec_time=20.0,\n",
    "                         max_step=0.02)"
   ]
  },
  {
   "cell_type": "code",
   "execution_count": 10,
   "metadata": {},
   "outputs": [
    {
     "data": {
      "text/plain": [
       "{'leakage': -0.2,\n",
       " 'period': 1.0,\n",
       " 'window': 0.05,\n",
       " 'spk_mode': 'gradient',\n",
       " 'threshold': 0.03,\n",
       " 'exec_time': 20.0,\n",
       " 'max_step': 0.02}"
      ]
     },
     "execution_count": 10,
     "metadata": {},
     "output_type": "execute_result"
    }
   ],
   "source": [
    "model.dyn_params"
   ]
  },
  {
   "cell_type": "code",
   "execution_count": 11,
   "metadata": {},
   "outputs": [],
   "source": [
    "model.compile(optimizer=\"rmsprop\")"
   ]
  },
  {
   "cell_type": "code",
   "execution_count": 12,
   "metadata": {},
   "outputs": [],
   "source": [
    "#train the model with the augmented dataset or load the pre-trained model (below)\n",
    "#loss = model.train_aug(datagen.flow(x_train, y_train, batch_size=128), 76000)"
   ]
  },
  {
   "cell_type": "code",
   "execution_count": 13,
   "metadata": {},
   "outputs": [],
   "source": [
    "model.load_weights(\"models/cifar1.wg\")\n",
    "model.direction = tf.constant(np.load(\"models/cifar_projection.npz\")[\"a\"])"
   ]
  },
  {
   "cell_type": "code",
   "execution_count": 14,
   "metadata": {},
   "outputs": [],
   "source": [
    "(xs, ys) = next(iter(ds_train))"
   ]
  },
  {
   "cell_type": "code",
   "execution_count": 15,
   "metadata": {},
   "outputs": [
    {
     "data": {
      "text/plain": [
       "<tf.Tensor: shape=(128, 10), dtype=float32, numpy=\n",
       "array([[-5.2330323e-02,  1.0788250e-01, -1.9486897e-02, ...,\n",
       "        -1.5754322e-02,  2.8168571e-01,  3.7550521e-01],\n",
       "       [ 7.2824709e-02, -1.5171478e-02,  2.0406322e-01, ...,\n",
       "         4.9959682e-02, -5.2190356e-02,  3.3354409e-02],\n",
       "       [ 4.3151155e-02,  5.7944196e-01, -2.1184472e-02, ...,\n",
       "         1.3630139e-02, -2.7876033e-03, -3.9494406e-02],\n",
       "       ...,\n",
       "       [-5.2145150e-02,  5.2846146e-01,  1.3663142e-02, ...,\n",
       "        -7.0692399e-03,  5.0943788e-02, -6.3691832e-02],\n",
       "       [ 3.3246860e-01,  1.2359951e-02,  6.5897077e-02, ...,\n",
       "        -2.1171363e-02, -1.7319208e-02,  1.8507825e-02],\n",
       "       [ 1.4930843e-02,  5.3420726e-02, -3.2990839e-04, ...,\n",
       "        -1.7055605e-02,  5.3111702e-01,  9.1500573e-02]], dtype=float32)>"
      ]
     },
     "execution_count": 15,
     "metadata": {},
     "output_type": "execute_result"
    }
   ],
   "source": [
    "#make a static call first to build the network shapes\n",
    "model(xs)"
   ]
  },
  {
   "cell_type": "code",
   "execution_count": 16,
   "metadata": {
    "scrolled": false
   },
   "outputs": [],
   "source": [
    "#model.accuracy(ds_test, False)"
   ]
  },
  {
   "cell_type": "code",
   "execution_count": 17,
   "metadata": {},
   "outputs": [],
   "source": [
    "# dynamic call"
   ]
  },
  {
   "cell_type": "code",
   "execution_count": 18,
   "metadata": {},
   "outputs": [],
   "source": [
    "n_batches = 1"
   ]
  },
  {
   "cell_type": "code",
   "execution_count": 19,
   "metadata": {},
   "outputs": [],
   "source": [
    "#n_batches = 8"
   ]
  },
  {
   "cell_type": "code",
   "execution_count": 20,
   "metadata": {},
   "outputs": [],
   "source": [
    "n_subsample = n_batches * n_batch"
   ]
  },
  {
   "cell_type": "code",
   "execution_count": 21,
   "metadata": {},
   "outputs": [
    {
     "data": {
      "text/plain": [
       "128"
      ]
     },
     "execution_count": 21,
     "metadata": {},
     "output_type": "execute_result"
    }
   ],
   "source": [
    "n_subsample"
   ]
  },
  {
   "cell_type": "code",
   "execution_count": 22,
   "metadata": {},
   "outputs": [],
   "source": [
    "x_test, y_test = get_raw_dat(ds_test)"
   ]
  },
  {
   "cell_type": "code",
   "execution_count": 23,
   "metadata": {},
   "outputs": [],
   "source": [
    "# save each batch's output as it is computed\n",
    "# dynamic execution with the CIFAR network takes several hours per batch\n",
    "# this task is also done in the included cifar_execution_script.py which can be run safely e.g. in a screen session"
   ]
  },
  {
   "cell_type": "code",
   "execution_count": 25,
   "metadata": {
    "scrolled": false
   },
   "outputs": [
    {
     "name": "stdout",
     "output_type": "stream",
     "text": [
      "starting batch 0\n"
     ]
    },
    {
     "name": "stderr",
     "output_type": "stream",
     "text": [
      "\r",
      "  0%|          | 0/128 [00:00<?, ?it/s]"
     ]
    },
    {
     "name": "stdout",
     "output_type": "stream",
     "text": [
      "Dynamic Execution: Conv 1\n"
     ]
    },
    {
     "name": "stderr",
     "output_type": "stream",
     "text": [
      "100%|██████████| 128/128 [1:06:50<00:00, 31.33s/it]\n",
      "100%|██████████| 128/128 [1:12:48<00:00, 34.13s/it]\n",
      "  0%|          | 0/128 [00:00<?, ?it/s]"
     ]
    },
    {
     "name": "stdout",
     "output_type": "stream",
     "text": [
      "Dynamic Execution: Conv 2\n"
     ]
    },
    {
     "name": "stderr",
     "output_type": "stream",
     "text": [
      "100%|██████████| 128/128 [31:59<00:00, 14.99s/it]\n",
      "100%|██████████| 128/128 [27:47<00:00, 13.03s/it]\n",
      "  0%|          | 0/128 [00:00<?, ?it/s]"
     ]
    },
    {
     "name": "stdout",
     "output_type": "stream",
     "text": [
      "Dynamic Execution: Dense\n"
     ]
    },
    {
     "name": "stderr",
     "output_type": "stream",
     "text": [
      "100%|██████████| 128/128 [07:15<00:00,  3.40s/it]\n",
      "100%|██████████| 128/128 [03:35<00:00,  1.68s/it]\n"
     ]
    }
   ],
   "source": [
    "for i in range(n_batches):\n",
    "    i_start = i * n_batch\n",
    "    i_stop = (i+1) * n_batch\n",
    "    print(\"starting batch \" + str(i))\n",
    "    \n",
    "    test_subset = tf.data.Dataset.from_tensor_slices((x_test[i_start:i_stop, ...], y_test[i_start:i_stop, ...]))\n",
    "    test_subset = test_subset.batch(n_batch)\n",
    "    \n",
    "    dyn_y = model.evaluate(test_subset, method=\"dynamic\", solver=\"heun\")\n",
    "    \n",
    "    filename = \"runs/cifar_dyn_batch\"+str(i)+(\".npz\")\n",
    "    np.savez_compressed(filename, a=dyn_y.numpy())\n",
    "    "
   ]
  },
  {
   "cell_type": "code",
   "execution_count": 30,
   "metadata": {},
   "outputs": [],
   "source": [
    "def count_spikes(model, time):\n",
    "    count_lambda = lambda x: np.sum(x[1] < time)\n",
    "    #get the average, cumulative number of input spikes at the current time\n",
    "    input_sum = np.mean(list(map(count_lambda, model.input_spikes)))\n",
    "    #get the average, cumulative number of internal spikes for each layer\n",
    "    conv1_sum = np.mean(list(map(count_lambda, model.conv1.spike_trains)))\n",
    "    conv2_sum = np.mean(list(map(count_lambda, model.conv2.spike_trains)))\n",
    "    pool1_sum = np.mean(list(map(count_lambda, model.pool1_spikes)))\n",
    "\n",
    "    conv3_sum = np.mean(list(map(count_lambda, model.conv3.spike_trains)))\n",
    "    conv4_sum = np.mean(list(map(count_lambda, model.conv4.spike_trains)))\n",
    "    pool2_sum = np.mean(list(map(count_lambda, model.pool1_spikes)))\n",
    "\n",
    "    dense1_sum = np.mean(list(map(count_lambda, model.dense1.spike_trains)))\n",
    "\n",
    "    return np.array([input_sum, \n",
    "        conv1_sum,\n",
    "        conv2_sum,\n",
    "        pool1_sum,\n",
    "        conv3_sum,\n",
    "        conv4_sum,\n",
    "        pool2_sum,\n",
    "        dense1_sum])\n"
   ]
  },
  {
   "cell_type": "code",
   "execution_count": 34,
   "metadata": {},
   "outputs": [],
   "source": [
    "def count_ops(model, time):\n",
    "    #compute the fanout for each layer receiving inputs\n",
    "    conv1_fanout = np.prod(model.conv1.output_shape2)\n",
    "    conv2_fanout = np.prod(model.conv2.output_shape2)\n",
    "    pool1_fanout = 1\n",
    "\n",
    "    conv3_fanout = np.prod(model.conv3.output_shape2)\n",
    "    conv4_fanout = np.prod(model.conv4.output_shape2)\n",
    "    pool2_fanout = 1\n",
    "\n",
    "    dense1_fanout = np.prod(model.dense1.output_shape2)\n",
    "    dense2_fanout = np.prod(model.dense2.output_shape2)\n",
    "\n",
    "    fanout = np.array([conv1_fanout, \n",
    "        conv2_fanout,\n",
    "        pool1_fanout,\n",
    "        conv3_fanout,\n",
    "        conv4_fanout,\n",
    "        pool2_fanout,\n",
    "        dense1_fanout,\n",
    "        dense2_fanout])\n",
    "\n",
    "    spk_ops = count_spikes(model, time)\n",
    "    syn_ops = spk_ops * fanout\n",
    "\n",
    "    return syn_ops"
   ]
  },
  {
   "cell_type": "code",
   "execution_count": 32,
   "metadata": {
    "scrolled": true
   },
   "outputs": [
    {
     "data": {
      "text/plain": [
       "array([ 30724.90625  , 274305.703125 , 243004.3671875,  61898.21875  ,\n",
       "        87766.7734375,  59385.4296875,  61898.21875  ,   9049.875    ])"
      ]
     },
     "execution_count": 32,
     "metadata": {},
     "output_type": "execute_result"
    }
   ],
   "source": [
    "count_spikes(model, 10.0)"
   ]
  },
  {
   "cell_type": "code",
   "execution_count": 46,
   "metadata": {},
   "outputs": [],
   "source": [
    "cycles = np.arange(0,20)"
   ]
  },
  {
   "cell_type": "code",
   "execution_count": 49,
   "metadata": {},
   "outputs": [],
   "source": [
    "preds = [model._predict_ind(dyn_y, i) for i in cycles]"
   ]
  },
  {
   "cell_type": "code",
   "execution_count": 51,
   "metadata": {},
   "outputs": [],
   "source": [
    "#save the labels matching the dataset so ground truth for each sample is known later\n",
    "trueys = y_test[0:n_subsample,...]\n",
    "#np.savez_compressed(\"runs/matching_ys.npz\", a = trueys)"
   ]
  },
  {
   "cell_type": "code",
   "execution_count": 52,
   "metadata": {},
   "outputs": [],
   "source": [
    "accs = [np.mean(p == trueys) for p in preds]"
   ]
  },
  {
   "cell_type": "code",
   "execution_count": 53,
   "metadata": {},
   "outputs": [
    {
     "data": {
      "text/plain": [
       "[<matplotlib.lines.Line2D at 0x7ff6705ab430>]"
      ]
     },
     "execution_count": 53,
     "metadata": {},
     "output_type": "execute_result"
    },
    {
     "data": {
      "image/png": "[encoded data removed]",
      "text/plain": [
       "<Figure size 432x288 with 1 Axes>"
      ]
     },
     "metadata": {
      "needs_background": "light"
     },
     "output_type": "display_data"
    }
   ],
   "source": [
    "plt.plot(accs)"
   ]
  },
  {
   "cell_type": "code",
   "execution_count": 54,
   "metadata": {
    "scrolled": true
   },
   "outputs": [],
   "source": [
    "ops = np.array([count_ops(model, c + 1.0) for c in cycles])"
   ]
  },
  {
   "cell_type": "code",
   "execution_count": 58,
   "metadata": {},
   "outputs": [
    {
     "data": {
      "text/plain": [
       "(20, 8)"
      ]
     },
     "execution_count": 58,
     "metadata": {},
     "output_type": "execute_result"
    }
   ],
   "source": [
    "ops.shape"
   ]
  },
  {
   "cell_type": "code",
   "execution_count": 59,
   "metadata": {},
   "outputs": [
    {
     "data": {
      "text/plain": [
       "<matplotlib.collections.PathCollection at 0x7ff658470a30>"
      ]
     },
     "execution_count": 59,
     "metadata": {},
     "output_type": "execute_result"
    },
    {
     "data": {
      "image/png": "[encoded data removed]",
      "text/plain": [
       "<Figure size 432x288 with 1 Axes>"
      ]
     },
     "metadata": {
      "needs_background": "light"
     },
     "output_type": "display_data"
    }
   ],
   "source": [
    "plt.scatter(ops.sum(axis=1), accs)"
   ]
  },
  {
   "cell_type": "code",
   "execution_count": 67,
   "metadata": {},
   "outputs": [],
   "source": [
    "results = {\"synaptic_ops\": ops.sum(axis=1), \"accuracy\": accs, \"ann_reference\": static_acc}"
   ]
  },
  {
   "cell_type": "code",
   "execution_count": 68,
   "metadata": {},
   "outputs": [],
   "source": [
    "np.savez_compressed(\"runs/conv_phasor_ops.npz\", **results)"
   ]
  },
  {
   "cell_type": "code",
   "execution_count": 43,
   "metadata": {},
   "outputs": [],
   "source": [
    "x = ops.sum()"
   ]
  },
  {
   "cell_type": "code",
   "execution_count": 44,
   "metadata": {},
   "outputs": [
    {
     "data": {
      "text/plain": [
       "18272014746.0"
      ]
     },
     "execution_count": 44,
     "metadata": {},
     "output_type": "execute_result"
    }
   ],
   "source": [
    "x"
   ]
  },
  {
   "cell_type": "code",
   "execution_count": 45,
   "metadata": {},
   "outputs": [
    {
     "data": {
      "text/plain": [
       "'1.8272014746e+10'"
      ]
     },
     "execution_count": 45,
     "metadata": {},
     "output_type": "execute_result"
    }
   ],
   "source": [
    "np.format_float_scientific(x)"
   ]
  },
  {
   "cell_type": "code",
   "execution_count": 29,
   "metadata": {},
   "outputs": [
    {
     "data": {
      "text/plain": [
       "ListWrapper([(<tf.Tensor: shape=(3, 61440), dtype=int64, numpy=\n",
       "array([[ 0,  0,  0, ..., 31, 31, 31],\n",
       "       [ 0,  0,  0, ..., 31, 31, 31],\n",
       "       [ 0,  1,  2, ...,  0,  1,  2]])>, <tf.Tensor: shape=(61440,), dtype=float32, numpy=\n",
       "array([ 0.27014992,  0.8044724 ,  0.7205596 , ..., 19.73339   ,\n",
       "       19.804472  , 19.717562  ], dtype=float32)>), (<tf.Tensor: shape=(3, 61440), dtype=int64, numpy=\n",
       "array([[ 0,  0,  0, ..., 31, 31, 31],\n",
       "       [ 0,  0,  0, ..., 31, 31, 31],\n",
       "       [ 0,  1,  2, ...,  0,  1,  2]])>, <tf.Tensor: shape=(61440,), dtype=float32, numpy=\n",
       "array([ 0.32265046,  0.8874712 ,  0.8674611 , ..., 19.668537  ,\n",
       "       19.657629  , 19.59914   ], dtype=float32)>), (<tf.Tensor: shape=(3, 61440), dtype=int64, numpy=\n",
       "array([[ 0,  0,  0, ..., 31, 31, 31],\n",
       "       [ 0,  0,  0, ..., 31, 31, 31],\n",
       "       [ 0,  1,  2, ...,  0,  1,  2]])>, <tf.Tensor: shape=(61440,), dtype=float32, numpy=\n",
       "array([ 0.2238259,  0.8789585,  0.7745234, ..., 19.887804 , 20.015162 ,\n",
       "       19.865963 ], dtype=float32)>), (<tf.Tensor: shape=(3, 61440), dtype=int64, numpy=\n",
       "array([[ 0,  0,  0, ..., 31, 31, 31],\n",
       "       [ 0,  0,  0, ..., 31, 31, 31],\n",
       "       [ 0,  1,  2, ...,  0,  1,  2]])>, <tf.Tensor: shape=(61440,), dtype=float32, numpy=\n",
       "array([ 0.1728695,  1.0258026,  0.8704591, ..., 19.861553 , 20.023674 ,\n",
       "       19.873457 ], dtype=float32)>), (<tf.Tensor: shape=(3, 61440), dtype=int64, numpy=\n",
       "array([[ 0,  0,  0, ..., 31, 31, 31],\n",
       "       [ 0,  0,  0, ..., 31, 31, 31],\n",
       "       [ 0,  1,  2, ...,  0,  1,  2]])>, <tf.Tensor: shape=(61440,), dtype=float32, numpy=\n",
       "array([ 0.33345938,  0.666141  ,  0.57515705, ..., 19.685522  ,\n",
       "       19.81937   , 19.67559   ], dtype=float32)>), (<tf.Tensor: shape=(3, 61440), dtype=int64, numpy=\n",
       "array([[ 0,  0,  0, ..., 31, 31, 31],\n",
       "       [ 0,  0,  0, ..., 31, 31, 31],\n",
       "       [ 0,  1,  2, ...,  0,  1,  2]])>, <tf.Tensor: shape=(61440,), dtype=float32, numpy=\n",
       "array([ 0.35353315,  0.8087287 ,  0.81799424, ..., 19.560448  ,\n",
       "       19.602295  , 19.609634  ], dtype=float32)>), (<tf.Tensor: shape=(3, 61440), dtype=int64, numpy=\n",
       "array([[ 0,  0,  0, ..., 31, 31, 31],\n",
       "       [ 0,  0,  0, ..., 31, 31, 31],\n",
       "       [ 0,  1,  2, ...,  0,  1,  2]])>, <tf.Tensor: shape=(61440,), dtype=float32, numpy=\n",
       "array([ 0.33654767,  0.73211443,  0.605137  , ..., 19.671625  ,\n",
       "       19.791704  , 19.603638  ], dtype=float32)>), (<tf.Tensor: shape=(3, 61440), dtype=int64, numpy=\n",
       "array([[ 0,  0,  0, ..., 31, 31, 31],\n",
       "       [ 0,  0,  0, ..., 31, 31, 31],\n",
       "       [ 0,  1,  2, ...,  0,  1,  2]])>, <tf.Tensor: shape=(61440,), dtype=float32, numpy=\n",
       "array([ 0.37669516,  0.76616526,  0.7280545 , ..., 19.7967    ,\n",
       "       19.906624  , 19.77902   ], dtype=float32)>), (<tf.Tensor: shape=(3, 61440), dtype=int64, numpy=\n",
       "array([[ 0,  0,  0, ..., 31, 31, 31],\n",
       "       [ 0,  0,  0, ..., 31, 31, 31],\n",
       "       [ 0,  1,  2, ...,  0,  1,  2]])>, <tf.Tensor: shape=(61440,), dtype=float32, numpy=\n",
       "array([ 0.26397339,  0.93854743,  0.8644631 , ..., 19.844568  ,\n",
       "       19.88747   , 19.70557   ], dtype=float32)>), (<tf.Tensor: shape=(3, 61440), dtype=int64, numpy=\n",
       "array([[ 0,  0,  0, ..., 31, 31, 31],\n",
       "       [ 0,  0,  0, ..., 31, 31, 31],\n",
       "       [ 0,  1,  2, ...,  0,  1,  2]])>, <tf.Tensor: shape=(61440,), dtype=float32, numpy=\n",
       "array([ 0.10801589,  1.0258026 ,  0.8734571 , ..., 19.755009  ,\n",
       "       19.789576  , 19.70557   ], dtype=float32)>), (<tf.Tensor: shape=(3, 61440), dtype=int64, numpy=\n",
       "array([[ 0,  0,  0, ..., 31, 31, 31],\n",
       "       [ 0,  0,  0, ..., 31, 31, 31],\n",
       "       [ 0,  1,  2, ...,  0,  1,  2]])>, <tf.Tensor: shape=(61440,), dtype=float32, numpy=\n",
       "array([ 0.26397339,  0.81724143,  0.69807464, ..., 19.665447  ,\n",
       "       19.700191  , 19.621626  ], dtype=float32)>), (<tf.Tensor: shape=(3, 61440), dtype=int64, numpy=\n",
       "array([[ 0,  0,  0, ..., 31, 31, 31],\n",
       "       [ 0,  0,  0, ..., 31, 31, 31],\n",
       "       [ 0,  1,  2, ...,  0,  1,  2]])>, <tf.Tensor: shape=(61440,), dtype=float32, numpy=\n",
       "array([ 0.45390183,  0.58952665,  0.55417114, ..., 19.545006  ,\n",
       "       19.604424  , 19.551172  ], dtype=float32)>), (<tf.Tensor: shape=(3, 61440), dtype=int64, numpy=\n",
       "array([[ 0,  0,  0, ..., 31, 31, 31],\n",
       "       [ 0,  0,  0, ..., 31, 31, 31],\n",
       "       [ 0,  1,  2, ...,  0,  1,  2]])>, <tf.Tensor: shape=(61440,), dtype=float32, numpy=\n",
       "array([ 0.3797834 ,  0.63421834,  0.58565   , ..., 19.717949  ,\n",
       "       19.757652  , 19.668095  ], dtype=float32)>), (<tf.Tensor: shape=(3, 61440), dtype=int64, numpy=\n",
       "array([[ 0,  0,  0, ..., 31, 31, 31],\n",
       "       [ 0,  0,  0, ..., 31, 31, 31],\n",
       "       [ 0,  1,  2, ...,  0,  1,  2]])>, <tf.Tensor: shape=(61440,), dtype=float32, numpy=\n",
       "array([ 0.4585342 ,  0.56398857,  0.5166963 , ..., 19.844568  ,\n",
       "       19.9577    , 19.804502  ], dtype=float32)>), (<tf.Tensor: shape=(3, 61440), dtype=int64, numpy=\n",
       "array([[ 0,  0,  0, ..., 31, 31, 31],\n",
       "       [ 0,  0,  0, ..., 31, 31, 31],\n",
       "       [ 0,  1,  2, ...,  0,  1,  2]])>, <tf.Tensor: shape=(61440,), dtype=float32, numpy=\n",
       "array([ 0.3844158 ,  0.67252547,  0.597642  , ..., 19.700964  ,\n",
       "       19.757652  , 19.699574  ], dtype=float32)>), (<tf.Tensor: shape=(3, 61440), dtype=int64, numpy=\n",
       "array([[ 0,  0,  0, ..., 31, 31, 31],\n",
       "       [ 0,  0,  0, ..., 31, 31, 31],\n",
       "       [ 0,  1,  2, ...,  0,  1,  2]])>, <tf.Tensor: shape=(61440,), dtype=float32, numpy=\n",
       "array([ 0.28250298,  0.8619331 ,  0.82099223, ..., 19.676256  ,\n",
       "       19.79596   , 19.723558  ], dtype=float32)>), (<tf.Tensor: shape=(3, 61440), dtype=int64, numpy=\n",
       "array([[ 0,  0,  0, ..., 31, 31, 31],\n",
       "       [ 0,  0,  0, ..., 31, 31, 31],\n",
       "       [ 0,  1,  2, ...,  0,  1,  2]])>, <tf.Tensor: shape=(61440,), dtype=float32, numpy=\n",
       "array([ 0.35044485,  0.7087045 ,  0.6561028 , ..., 19.608315  ,\n",
       "       19.653372  , 19.659101  ], dtype=float32)>), (<tf.Tensor: shape=(3, 61440), dtype=int64, numpy=\n",
       "array([[ 0,  0,  0, ..., 31, 31, 31],\n",
       "       [ 0,  0,  0, ..., 31, 31, 31],\n",
       "       [ 0,  1,  2, ...,  0,  1,  2]])>, <tf.Tensor: shape=(61440,), dtype=float32, numpy=\n",
       "array([ 0.2933119 ,  0.75126797,  0.6366159 , ..., 19.70714   ,\n",
       "       19.723602  , 19.617128  ], dtype=float32)>), (<tf.Tensor: shape=(3, 61440), dtype=int64, numpy=\n",
       "array([[ 0,  0,  0, ..., 31, 31, 31],\n",
       "       [ 0,  0,  0, ..., 31, 31, 31],\n",
       "       [ 0,  1,  2, ...,  0,  1,  2]])>, <tf.Tensor: shape=(61440,), dtype=float32, numpy=\n",
       "array([ 0.11264831,  0.9193939 ,  0.68758166, ..., 19.881626  ,\n",
       "       19.927906  , 19.716063  ], dtype=float32)>), (<tf.Tensor: shape=(3, 61440), dtype=int64, numpy=\n",
       "array([[ 0,  0,  0, ..., 31, 31, 31],\n",
       "       [ 0,  0,  0, ..., 31, 31, 31],\n",
       "       [ 0,  1,  2, ...,  0,  1,  2]])>, <tf.Tensor: shape=(61440,), dtype=float32, numpy=\n",
       "array([ 0.10801589,  1.0258026 ,  0.8734571 , ..., 19.700964  ,\n",
       "       19.815113  , 19.644112  ], dtype=float32)>), (<tf.Tensor: shape=(3, 61440), dtype=int64, numpy=\n",
       "array([[ 0,  0,  0, ..., 31, 31, 31],\n",
       "       [ 0,  0,  0, ..., 31, 31, 31],\n",
       "       [ 0,  1,  2, ...,  0,  1,  2]])>, <tf.Tensor: shape=(61440,), dtype=float32, numpy=\n",
       "array([ 0.30720913,  0.7172172 ,  0.602139  , ..., 19.821405  ,\n",
       "       19.827883  , 19.657602  ], dtype=float32)>), (<tf.Tensor: shape=(3, 61440), dtype=int64, numpy=\n",
       "array([[ 0,  0,  0, ..., 31, 31, 31],\n",
       "       [ 0,  0,  0, ..., 31, 31, 31],\n",
       "       [ 0,  1,  2, ...,  0,  1,  2]])>, <tf.Tensor: shape=(61440,), dtype=float32, numpy=\n",
       "array([ 0.30412084,  0.7299862 ,  0.66809475, ..., 19.72567   ,\n",
       "       19.740627  , 19.55567   ], dtype=float32)>), (<tf.Tensor: shape=(3, 61440), dtype=int64, numpy=\n",
       "array([[ 0,  0,  0, ..., 31, 31, 31],\n",
       "       [ 0,  0,  0, ..., 31, 31, 31],\n",
       "       [ 0,  1,  2, ...,  0,  1,  2]])>, <tf.Tensor: shape=(61440,), dtype=float32, numpy=\n",
       "array([ 0.328827 ,  0.8385232,  0.7775214, ..., 19.693243 , 19.723602 ,\n",
       "       19.620127 ], dtype=float32)>), (<tf.Tensor: shape=(3, 61440), dtype=int64, numpy=\n",
       "array([[ 0,  0,  0, ..., 31, 31, 31],\n",
       "       [ 0,  0,  0, ..., 31, 31, 31],\n",
       "       [ 0,  1,  2, ...,  0,  1,  2]])>, <tf.Tensor: shape=(61440,), dtype=float32, numpy=\n",
       "array([ 0.22228178,  0.89598393,  0.80300426, ..., 19.595963  ,\n",
       "       19.640602  , 19.58415   ], dtype=float32)>), (<tf.Tensor: shape=(3, 61440), dtype=int64, numpy=\n",
       "array([[ 0,  0,  0, ..., 31, 31, 31],\n",
       "       [ 0,  0,  0, ..., 31, 31, 31],\n",
       "       [ 0,  1,  2, ...,  0,  1,  2]])>, <tf.Tensor: shape=(61440,), dtype=float32, numpy=\n",
       "array([ 0.3427242 ,  0.77042156,  0.80600226, ..., 19.625301  ,\n",
       "       19.727858  , 19.789513  ], dtype=float32)>), (<tf.Tensor: shape=(3, 61440), dtype=int64, numpy=\n",
       "array([[ 0,  0,  0, ..., 31, 31, 31],\n",
       "       [ 0,  0,  0, ..., 31, 31, 31],\n",
       "       [ 0,  1,  2, ...,  0,  1,  2]])>, <tf.Tensor: shape=(61440,), dtype=float32, numpy=\n",
       "array([ 0.12963375,  0.99600816,  0.8554691 , ..., 19.74111   ,\n",
       "       19.81937   , 19.73555   ], dtype=float32)>), (<tf.Tensor: shape=(3, 61440), dtype=int64, numpy=\n",
       "array([[ 0,  0,  0, ..., 31, 31, 31],\n",
       "       [ 0,  0,  0, ..., 31, 31, 31],\n",
       "       [ 0,  1,  2, ...,  0,  1,  2]])>, <tf.Tensor: shape=(61440,), dtype=float32, numpy=\n",
       "array([ 0.20838457,  0.89598393,  0.8000063 , ..., 19.541918  ,\n",
       "       19.536322  , 19.533186  ], dtype=float32)>), (<tf.Tensor: shape=(3, 61440), dtype=int64, numpy=\n",
       "array([[ 0,  0,  0, ..., 31, 31, 31],\n",
       "       [ 0,  0,  0, ..., 31, 31, 31],\n",
       "       [ 0,  1,  2, ...,  0,  1,  2]])>, <tf.Tensor: shape=(61440,), dtype=float32, numpy=\n",
       "array([ 0.29948846,  0.7236017 ,  0.590147  , ..., 19.606771  ,\n",
       "       19.612936  , 19.56916   ], dtype=float32)>), (<tf.Tensor: shape=(3, 61440), dtype=int64, numpy=\n",
       "array([[ 0,  0,  0, ..., 31, 31, 31],\n",
       "       [ 0,  0,  0, ..., 31, 31, 31],\n",
       "       [ 0,  1,  2, ...,  0,  1,  2]])>, <tf.Tensor: shape=(61440,), dtype=float32, numpy=\n",
       "array([ 0.12036896,  1.0087773 ,  0.8584671 , ..., 19.776627  ,\n",
       "       19.874702  , 19.741545  ], dtype=float32)>), (<tf.Tensor: shape=(3, 61440), dtype=int64, numpy=\n",
       "array([[ 0,  0,  0, ..., 31, 31, 31],\n",
       "       [ 0,  0,  0, ..., 31, 31, 31],\n",
       "       [ 0,  1,  2, ...,  0,  1,  2]])>, <tf.Tensor: shape=(61440,), dtype=float32, numpy=\n",
       "array([ 0.10801589,  1.0258026 ,  0.8734571 , ..., 19.895523  ,\n",
       "       20.025803  , 19.873457  ], dtype=float32)>), (<tf.Tensor: shape=(3, 61440), dtype=int64, numpy=\n",
       "array([[ 0,  0,  0, ..., 31, 31, 31],\n",
       "       [ 0,  0,  0, ..., 31, 31, 31],\n",
       "       [ 0,  1,  2, ...,  0,  1,  2]])>, <tf.Tensor: shape=(61440,), dtype=float32, numpy=\n",
       "array([ 0.22228178,  0.86831766,  0.7775214 , ..., 19.637653  ,\n",
       "       19.700191  , 19.642612  ], dtype=float32)>), (<tf.Tensor: shape=(3, 61440), dtype=int64, numpy=\n",
       "array([[ 0,  0,  0, ..., 31, 31, 31],\n",
       "       [ 0,  0,  0, ..., 31, 31, 31],\n",
       "       [ 0,  1,  2, ...,  0,  1,  2]])>, <tf.Tensor: shape=(61440,), dtype=float32, numpy=\n",
       "array([ 0.12500137,  1.0023928 ,  0.8524711 , ..., 19.884716  ,\n",
       "       20.013033  , 19.856968  ], dtype=float32)>), (<tf.Tensor: shape=(3, 61440), dtype=int64, numpy=\n",
       "array([[ 0,  0,  0, ..., 31, 31, 31],\n",
       "       [ 0,  0,  0, ..., 31, 31, 31],\n",
       "       [ 0,  1,  2, ...,  0,  1,  2]])>, <tf.Tensor: shape=(61440,), dtype=float32, numpy=\n",
       "array([ 0.3411801,  0.7619089,  0.7565354, ..., 19.521843 , 19.589527 ,\n",
       "       19.617128 ], dtype=float32)>), (<tf.Tensor: shape=(3, 61440), dtype=int64, numpy=\n",
       "array([[ 0,  0,  0, ..., 31, 31, 31],\n",
       "       [ 0,  0,  0, ..., 31, 31, 31],\n",
       "       [ 0,  1,  2, ...,  0,  1,  2]])>, <tf.Tensor: shape=(61440,), dtype=float32, numpy=\n",
       "array([ 0.45390183,  0.5682449 ,  0.590147  , ..., 19.55427   ,\n",
       "       19.593782  , 19.624624  ], dtype=float32)>), (<tf.Tensor: shape=(3, 61440), dtype=int64, numpy=\n",
       "array([[ 0,  0,  0, ..., 31, 31, 31],\n",
       "       [ 0,  0,  0, ..., 31, 31, 31],\n",
       "       [ 0,  1,  2, ...,  0,  1,  2]])>, <tf.Tensor: shape=(61440,), dtype=float32, numpy=\n",
       "array([ 0.49096102,  0.6044239 ,  0.49121335, ..., 19.558903  ,\n",
       "       19.568245  , 19.521193  ], dtype=float32)>), (<tf.Tensor: shape=(3, 61440), dtype=int64, numpy=\n",
       "array([[ 0,  0,  0, ..., 31, 31, 31],\n",
       "       [ 0,  0,  0, ..., 31, 31, 31],\n",
       "       [ 0,  1,  2, ...,  0,  1,  2]])>, <tf.Tensor: shape=(61440,), dtype=float32, numpy=\n",
       "array([ 0.3010326 ,  0.77042156,  0.67708874, ..., 19.653095  ,\n",
       "       19.70232   , 19.641113  ], dtype=float32)>), (<tf.Tensor: shape=(3, 61440), dtype=int64, numpy=\n",
       "array([[ 0,  0,  0, ..., 31, 31, 31],\n",
       "       [ 0,  0,  0, ..., 31, 31, 31],\n",
       "       [ 0,  1,  2, ...,  0,  1,  2]])>, <tf.Tensor: shape=(61440,), dtype=float32, numpy=\n",
       "array([ 0.38750407,  0.6959354 ,  0.5331852 , ..., 19.73339   ,\n",
       "       19.883215  , 19.587149  ], dtype=float32)>), (<tf.Tensor: shape=(3, 61440), dtype=int64, numpy=\n",
       "array([[ 0,  0,  0, ..., 31, 31, 31],\n",
       "       [ 0,  0,  0, ..., 31, 31, 31],\n",
       "       [ 0,  1,  2, ...,  0,  1,  2]])>, <tf.Tensor: shape=(61440,), dtype=float32, numpy=\n",
       "array([ 0.11419243,  1.01729   ,  0.8674611 , ..., 19.637653  ,\n",
       "       19.63209   , 19.579655  ], dtype=float32)>), (<tf.Tensor: shape=(3, 61440), dtype=int64, numpy=\n",
       "array([[ 0,  0,  0, ..., 31, 31, 31],\n",
       "       [ 0,  0,  0, ..., 31, 31, 31],\n",
       "       [ 0,  1,  2, ...,  0,  1,  2]])>, <tf.Tensor: shape=(61440,), dtype=float32, numpy=\n",
       "array([ 0.35507727,  0.75339615,  0.6890807 , ..., 19.835302  ,\n",
       "       19.951317  , 19.82249   ], dtype=float32)>), (<tf.Tensor: shape=(3, 61440), dtype=int64, numpy=\n",
       "array([[ 0,  0,  0, ..., 31, 31, 31],\n",
       "       [ 0,  0,  0, ..., 31, 31, 31],\n",
       "       [ 0,  1,  2, ...,  0,  1,  2]])>, <tf.Tensor: shape=(61440,), dtype=float32, numpy=\n",
       "array([ 0.3241946 ,  0.6597564 ,  0.57815504, ..., 19.673168  ,\n",
       "       19.657629  , 19.582651  ], dtype=float32)>), (<tf.Tensor: shape=(3, 61440), dtype=int64, numpy=\n",
       "array([[ 0,  0,  0, ..., 31, 31, 31],\n",
       "       [ 0,  0,  0, ..., 31, 31, 31],\n",
       "       [ 0,  1,  2, ...,  0,  1,  2]])>, <tf.Tensor: shape=(61440,), dtype=float32, numpy=\n",
       "array([ 0.43073982,  0.7299862 ,  0.7745234 , ..., 19.58052   ,\n",
       "       19.66827   , 19.63062   ], dtype=float32)>), (<tf.Tensor: shape=(3, 61440), dtype=int64, numpy=\n",
       "array([[ 0,  0,  0, ..., 31, 31, 31],\n",
       "       [ 0,  0,  0, ..., 31, 31, 31],\n",
       "       [ 0,  1,  2, ...,  0,  1,  2]])>, <tf.Tensor: shape=(61440,), dtype=float32, numpy=\n",
       "array([ 0.10801589,  1.0258026 ,  0.8734571 , ..., 19.895523  ,\n",
       "       20.025803  , 19.873457  ], dtype=float32)>), (<tf.Tensor: shape=(3, 61440), dtype=int64, numpy=\n",
       "array([[ 0,  0,  0, ..., 31, 31, 31],\n",
       "       [ 0,  0,  0, ..., 31, 31, 31],\n",
       "       [ 0,  1,  2, ...,  0,  1,  2]])>, <tf.Tensor: shape=(61440,), dtype=float32, numpy=\n",
       "array([ 0.44154873,  0.5661167 ,  0.5376822 , ..., 19.557358  ,\n",
       "       19.561861  , 19.537682  ], dtype=float32)>), (<tf.Tensor: shape=(3, 61440), dtype=int64, numpy=\n",
       "array([[ 0,  0,  0, ..., 31, 31, 31],\n",
       "       [ 0,  0,  0, ..., 31, 31, 31],\n",
       "       [ 0,  1,  2, ...,  0,  1,  2]])>, <tf.Tensor: shape=(61440,), dtype=float32, numpy=\n",
       "array([ 0.36743033,  0.6959354 ,  0.66809475, ..., 19.677801  ,\n",
       "       19.712961  , 19.642612  ], dtype=float32)>), (<tf.Tensor: shape=(3, 61440), dtype=int64, numpy=\n",
       "array([[ 0,  0,  0, ..., 31, 31, 31],\n",
       "       [ 0,  0,  0, ..., 31, 31, 31],\n",
       "       [ 0,  1,  2, ...,  0,  1,  2]])>, <tf.Tensor: shape=(61440,), dtype=float32, numpy=\n",
       "array([ 0.4986817,  0.7406271,  0.6890807, ..., 19.66236  , 19.751268 ,\n",
       "       19.726555 ], dtype=float32)>), (<tf.Tensor: shape=(3, 61440), dtype=int64, numpy=\n",
       "array([[ 0,  0,  0, ..., 31, 31, 31],\n",
       "       [ 0,  0,  0, ..., 31, 31, 31],\n",
       "       [ 0,  1,  2, ...,  0,  1,  2]])>, <tf.Tensor: shape=(61440,), dtype=float32, numpy=\n",
       "array([ 0.26860577,  0.8151133 ,  0.7595334 , ..., 19.809053  ,\n",
       "       19.893856  , 19.792511  ], dtype=float32)>), (<tf.Tensor: shape=(3, 61440), dtype=int64, numpy=\n",
       "array([[ 0,  0,  0, ..., 31, 31, 31],\n",
       "       [ 0,  0,  0, ..., 31, 31, 31],\n",
       "       [ 0,  1,  2, ...,  0,  1,  2]])>, <tf.Tensor: shape=(61440,), dtype=float32, numpy=\n",
       "array([ 0.17750192,  0.8981121 ,  0.78351736, ..., 19.76736   ,\n",
       "       19.861933  , 19.773024  ], dtype=float32)>), (<tf.Tensor: shape=(3, 61440), dtype=int64, numpy=\n",
       "array([[ 0,  0,  0, ..., 31, 31, 31],\n",
       "       [ 0,  0,  0, ..., 31, 31, 31],\n",
       "       [ 0,  1,  2, ...,  0,  1,  2]])>, <tf.Tensor: shape=(61440,), dtype=float32, numpy=\n",
       "array([ 0.33037114,  0.7768061 ,  0.6171289 , ..., 19.671625  ,\n",
       "       19.770422  , 19.642612  ], dtype=float32)>), (<tf.Tensor: shape=(3, 61440), dtype=int64, numpy=\n",
       "array([[ 0,  0,  0, ..., 31, 31, 31],\n",
       "       [ 0,  0,  0, ..., 31, 31, 31],\n",
       "       [ 0,  1,  2, ...,  0,  1,  2]])>, <tf.Tensor: shape=(61440,), dtype=float32, numpy=\n",
       "array([ 0.46316662,  0.5427068 ,  0.57515705, ..., 19.515667  ,\n",
       "       19.495888  , 19.522692  ], dtype=float32)>), (<tf.Tensor: shape=(3, 61440), dtype=int64, numpy=\n",
       "array([[ 0,  0,  0, ..., 31, 31, 31],\n",
       "       [ 0,  0,  0, ..., 31, 31, 31],\n",
       "       [ 0,  1,  2, ...,  0,  1,  2]])>, <tf.Tensor: shape=(61440,), dtype=float32, numpy=\n",
       "array([ 0.4261074,  0.5597322,  0.5331852, ..., 19.653095 , 19.691679 ,\n",
       "       19.593145 ], dtype=float32)>), (<tf.Tensor: shape=(3, 61440), dtype=int64, numpy=\n",
       "array([[ 0,  0,  0, ..., 31, 31, 31],\n",
       "       [ 0,  0,  0, ..., 31, 31, 31],\n",
       "       [ 0,  1,  2, ...,  0,  1,  2]])>, <tf.Tensor: shape=(61440,), dtype=float32, numpy=\n",
       "array([ 0.49713755,  0.49163055,  0.5002073 , ..., 19.523388  ,\n",
       "       19.519297  , 19.518196  ], dtype=float32)>), (<tf.Tensor: shape=(3, 61440), dtype=int64, numpy=\n",
       "array([[ 0,  0,  0, ..., 31, 31, 31],\n",
       "       [ 0,  0,  0, ..., 31, 31, 31],\n",
       "       [ 0,  1,  2, ...,  0,  1,  2]])>, <tf.Tensor: shape=(61440,), dtype=float32, numpy=\n",
       "array([ 0.4168426 ,  0.5810139 ,  0.56166613, ..., 19.654638  ,\n",
       "       19.687424  , 19.636616  ], dtype=float32)>), (<tf.Tensor: shape=(3, 61440), dtype=int64, numpy=\n",
       "array([[ 0,  0,  0, ..., 31, 31, 31],\n",
       "       [ 0,  0,  0, ..., 31, 31, 31],\n",
       "       [ 0,  1,  2, ...,  0,  1,  2]])>, <tf.Tensor: shape=(61440,), dtype=float32, numpy=\n",
       "array([ 0.30720913,  0.75552434,  0.6096339 , ..., 19.63611   ,\n",
       "       19.66827   , 19.567661  ], dtype=float32)>), (<tf.Tensor: shape=(3, 61440), dtype=int64, numpy=\n",
       "array([[ 0,  0,  0, ..., 31, 31, 31],\n",
       "       [ 0,  0,  0, ..., 31, 31, 31],\n",
       "       [ 0,  1,  2, ...,  0,  1,  2]])>, <tf.Tensor: shape=(61440,), dtype=float32, numpy=\n",
       "array([ 0.32573873,  0.66826916,  0.6216259 , ..., 19.719492  ,\n",
       "       19.700191  , 19.606636  ], dtype=float32)>), (<tf.Tensor: shape=(3, 61440), dtype=int64, numpy=\n",
       "array([[ 0,  0,  0, ..., 31, 31, 31],\n",
       "       [ 0,  0,  0, ..., 31, 31, 31],\n",
       "       [ 0,  1,  2, ...,  0,  1,  2]])>, <tf.Tensor: shape=(61440,), dtype=float32, numpy=\n",
       "array([ 0.21147284,  0.91726565,  0.81649524, ..., 19.702507  ,\n",
       "       19.78319   , 19.684584  ], dtype=float32)>), (<tf.Tensor: shape=(3, 61440), dtype=int64, numpy=\n",
       "array([[ 0,  0,  0, ..., 31, 31, 31],\n",
       "       [ 0,  0,  0, ..., 31, 31, 31],\n",
       "       [ 0,  1,  2, ...,  0,  1,  2]])>, <tf.Tensor: shape=(61440,), dtype=float32, numpy=\n",
       "array([ 0.45544595,  0.5831421 ,  0.49720934, ..., 19.776627  ,\n",
       "       19.885344  , 19.6606    ], dtype=float32)>), (<tf.Tensor: shape=(3, 61440), dtype=int64, numpy=\n",
       "array([[ 0,  0,  0, ..., 31, 31, 31],\n",
       "       [ 0,  0,  0, ..., 31, 31, 31],\n",
       "       [ 0,  1,  2, ...,  0,  1,  2]])>, <tf.Tensor: shape=(61440,), dtype=float32, numpy=\n",
       "array([ 0.4662549,  0.5469631,  0.5092013, ..., 19.682434 , 19.685295 ,\n",
       "       19.56916  ], dtype=float32)>), (<tf.Tensor: shape=(3, 61440), dtype=int64, numpy=\n",
       "array([[ 0,  0,  0, ..., 31, 31, 31],\n",
       "       [ 0,  0,  0, ..., 31, 31, 31],\n",
       "       [ 0,  1,  2, ...,  0,  1,  2]])>, <tf.Tensor: shape=(61440,), dtype=float32, numpy=\n",
       "array([ 0.38750407,  0.72785807,  0.54068017, ..., 19.597506  ,\n",
       "       19.706575  , 19.52569   ], dtype=float32)>), (<tf.Tensor: shape=(3, 61440), dtype=int64, numpy=\n",
       "array([[ 0,  0,  0, ..., 31, 31, 31],\n",
       "       [ 0,  0,  0, ..., 31, 31, 31],\n",
       "       [ 0,  1,  2, ...,  0,  1,  2]])>, <tf.Tensor: shape=(61440,), dtype=float32, numpy=\n",
       "array([ 0.36743033,  0.65550005,  0.596143  , ..., 19.827581  ,\n",
       "       19.898111  , 19.770027  ], dtype=float32)>), (<tf.Tensor: shape=(3, 61440), dtype=int64, numpy=\n",
       "array([[ 0,  0,  0, ..., 31, 31, 31],\n",
       "       [ 0,  0,  0, ..., 31, 31, 31],\n",
       "       [ 0,  1,  2, ...,  0,  1,  2]])>, <tf.Tensor: shape=(61440,), dtype=float32, numpy=\n",
       "array([ 0.45390183,  0.5405786 ,  0.5107003 , ..., 19.683977  ,\n",
       "       19.706575  , 19.635117  ], dtype=float32)>), (<tf.Tensor: shape=(3, 61440), dtype=int64, numpy=\n",
       "array([[ 0,  0,  0, ..., 31, 31, 31],\n",
       "       [ 0,  0,  0, ..., 31, 31, 31],\n",
       "       [ 0,  1,  2, ...,  0,  1,  2]])>, <tf.Tensor: shape=(61440,), dtype=float32, numpy=\n",
       "array([ 0.29948846,  0.8406514 ,  0.78651536, ..., 19.602139  ,\n",
       "       19.674654  , 19.641113  ], dtype=float32)>), (<tf.Tensor: shape=(3, 61440), dtype=int64, numpy=\n",
       "array([[ 0,  0,  0, ..., 31, 31, 31],\n",
       "       [ 0,  0,  0, ..., 31, 31, 31],\n",
       "       [ 0,  1,  2, ...,  0,  1,  2]])>, <tf.Tensor: shape=(61440,), dtype=float32, numpy=\n",
       "array([ 0.22228178,  0.8832149 ,  0.81199825, ..., 19.76736   ,\n",
       "       19.872574  , 19.801506  ], dtype=float32)>), (<tf.Tensor: shape=(3, 61440), dtype=int64, numpy=\n",
       "array([[ 0,  0,  0, ..., 31, 31, 31],\n",
       "       [ 0,  0,  0, ..., 31, 31, 31],\n",
       "       [ 0,  1,  2, ...,  0,  1,  2]])>, <tf.Tensor: shape=(61440,), dtype=float32, numpy=\n",
       "array([ 0.42919567,  0.5916548 ,  0.54068017, ..., 19.685522  ,\n",
       "       19.708704  , 19.669594  ], dtype=float32)>), (<tf.Tensor: shape=(3, 61440), dtype=int64, numpy=\n",
       "array([[ 0,  0,  0, ..., 31, 31, 31],\n",
       "       [ 0,  0,  0, ..., 31, 31, 31],\n",
       "       [ 0,  1,  2, ...,  0,  1,  2]])>, <tf.Tensor: shape=(61440,), dtype=float32, numpy=\n",
       "array([ 0.13581029,  0.9917518 ,  0.8479741 , ..., 19.74883   ,\n",
       "       19.830011  , 19.74904   ], dtype=float32)>), (<tf.Tensor: shape=(3, 61440), dtype=int64, numpy=\n",
       "array([[ 0,  0,  0, ..., 31, 31, 31],\n",
       "       [ 0,  0,  0, ..., 31, 31, 31],\n",
       "       [ 0,  1,  2, ...,  0,  1,  2]])>, <tf.Tensor: shape=(61440,), dtype=float32, numpy=\n",
       "array([ 0.39213645,  0.71934533,  0.55866814, ..., 19.65155   ,\n",
       "       19.659756  , 19.561666  ], dtype=float32)>), (<tf.Tensor: shape=(3, 61440), dtype=int64, numpy=\n",
       "array([[ 0,  0,  0, ..., 31, 31, 31],\n",
       "       [ 0,  0,  0, ..., 31, 31, 31],\n",
       "       [ 0,  1,  2, ...,  0,  1,  2]])>, <tf.Tensor: shape=(61440,), dtype=float32, numpy=\n",
       "array([ 0.1913991,  0.921522 ,  0.8015053, ..., 19.682434 , 19.698063 ,\n",
       "       19.58565  ], dtype=float32)>), (<tf.Tensor: shape=(3, 61440), dtype=int64, numpy=\n",
       "array([[ 0,  0,  0, ..., 31, 31, 31],\n",
       "       [ 0,  0,  0, ..., 31, 31, 31],\n",
       "       [ 0,  1,  2, ...,  0,  1,  2]])>, <tf.Tensor: shape=(61440,), dtype=float32, numpy=\n",
       "array([ 0.398313  ,  0.5980393 ,  0.54217917, ..., 19.665447  ,\n",
       "       19.6555    , 19.53918   ], dtype=float32)>), (<tf.Tensor: shape=(3, 61440), dtype=int64, numpy=\n",
       "array([[ 0,  0,  0, ..., 31, 31, 31],\n",
       "       [ 0,  0,  0, ..., 31, 31, 31],\n",
       "       [ 0,  1,  2, ...,  0,  1,  2]])>, <tf.Tensor: shape=(61440,), dtype=float32, numpy=\n",
       "array([ 0.10801589,  1.0215464 ,  0.871958  , ..., 19.890892  ,\n",
       "       20.021545  , 19.870459  ], dtype=float32)>), (<tf.Tensor: shape=(3, 61440), dtype=int64, numpy=\n",
       "array([[ 0,  0,  0, ..., 31, 31, 31],\n",
       "       [ 0,  0,  0, ..., 31, 31, 31],\n",
       "       [ 0,  1,  2, ...,  0,  1,  2]])>, <tf.Tensor: shape=(61440,), dtype=float32, numpy=\n",
       "array([ 0.39522475,  0.75339615,  0.7400465 , ..., 19.700964  ,\n",
       "       19.785318  , 19.642612  ], dtype=float32)>), (<tf.Tensor: shape=(3, 61440), dtype=int64, numpy=\n",
       "array([[ 0,  0,  0, ..., 31, 31, 31],\n",
       "       [ 0,  0,  0, ..., 31, 31, 31],\n",
       "       [ 0,  1,  2, ...,  0,  1,  2]])>, <tf.Tensor: shape=(61440,), dtype=float32, numpy=\n",
       "array([ 0.15279576,  0.98111093,  0.8419782 , ..., 19.738022  ,\n",
       "       19.823626  , 19.665096  ], dtype=float32)>), (<tf.Tensor: shape=(3, 61440), dtype=int64, numpy=\n",
       "array([[ 0,  0,  0, ..., 31, 31, 31],\n",
       "       [ 0,  0,  0, ..., 31, 31, 31],\n",
       "       [ 0,  1,  2, ...,  0,  1,  2]])>, <tf.Tensor: shape=(61440,), dtype=float32, numpy=\n",
       "array([ 0.41993088,  0.606552  ,  0.49720934, ..., 19.82295   ,\n",
       "       19.832138  , 19.612633  ], dtype=float32)>), (<tf.Tensor: shape=(3, 61440), dtype=int64, numpy=\n",
       "array([[ 0,  0,  0, ..., 31, 31, 31],\n",
       "       [ 0,  0,  0, ..., 31, 31, 31],\n",
       "       [ 0,  1,  2, ...,  0,  1,  2]])>, <tf.Tensor: shape=(61440,), dtype=float32, numpy=\n",
       "array([ 0.30257672,  0.7427553 ,  0.64860785, ..., 19.625301  ,\n",
       "       19.651243  , 19.581154  ], dtype=float32)>), (<tf.Tensor: shape=(3, 61440), dtype=int64, numpy=\n",
       "array([[ 0,  0,  0, ..., 31, 31, 31],\n",
       "       [ 0,  0,  0, ..., 31, 31, 31],\n",
       "       [ 0,  1,  2, ...,  0,  1,  2]])>, <tf.Tensor: shape=(61440,), dtype=float32, numpy=\n",
       "array([ 0.28095883,  0.7810625 ,  0.68758166, ..., 19.704052  ,\n",
       "       19.747011  , 19.650106  ], dtype=float32)>), (<tf.Tensor: shape=(3, 61440), dtype=int64, numpy=\n",
       "array([[ 0,  0,  0, ..., 31, 31, 31],\n",
       "       [ 0,  0,  0, ..., 31, 31, 31],\n",
       "       [ 0,  1,  2, ...,  0,  1,  2]])>, <tf.Tensor: shape=(61440,), dtype=float32, numpy=\n",
       "array([ 0.25934097,  0.81724143,  0.7175616 , ..., 19.673168  ,\n",
       "       19.77255   , 19.635117  ], dtype=float32)>), (<tf.Tensor: shape=(3, 61440), dtype=int64, numpy=\n",
       "array([[ 0,  0,  0, ..., 31, 31, 31],\n",
       "       [ 0,  0,  0, ..., 31, 31, 31],\n",
       "       [ 0,  1,  2, ...,  0,  1,  2]])>, <tf.Tensor: shape=(61440,), dtype=float32, numpy=\n",
       "array([ 0.44154873,  0.6257056 ,  0.57665604, ..., 19.665447  ,\n",
       "       19.798088  , 19.567661  ], dtype=float32)>), (<tf.Tensor: shape=(3, 61440), dtype=int64, numpy=\n",
       "array([[ 0,  0,  0, ..., 31, 31, 31],\n",
       "       [ 0,  0,  0, ..., 31, 31, 31],\n",
       "       [ 0,  1,  2, ...,  0,  1,  2]])>, <tf.Tensor: shape=(61440,), dtype=float32, numpy=\n",
       "array([ 0.18985498,  0.9151375 ,  0.7490405 , ..., 19.738022  ,\n",
       "       19.774677  , 19.647108  ], dtype=float32)>), (<tf.Tensor: shape=(3, 61440), dtype=int64, numpy=\n",
       "array([[ 0,  0,  0, ..., 31, 31, 31],\n",
       "       [ 0,  0,  0, ..., 31, 31, 31],\n",
       "       [ 0,  1,  2, ...,  0,  1,  2]])>, <tf.Tensor: shape=(61440,), dtype=float32, numpy=\n",
       "array([ 0.33654767,  0.7682934 ,  0.6890807 , ..., 19.864641  ,\n",
       "       19.968342  , 19.814997  ], dtype=float32)>), (<tf.Tensor: shape=(3, 61440), dtype=int64, numpy=\n",
       "array([[ 0,  0,  0, ..., 31, 31, 31],\n",
       "       [ 0,  0,  0, ..., 31, 31, 31],\n",
       "       [ 0,  1,  2, ...,  0,  1,  2]])>, <tf.Tensor: shape=(61440,), dtype=float32, numpy=\n",
       "array([ 0.42765155,  0.6108084 ,  0.6441108 , ..., 19.532652  ,\n",
       "       19.517168  , 19.528688  ], dtype=float32)>), (<tf.Tensor: shape=(3, 61440), dtype=int64, numpy=\n",
       "array([[ 0,  0,  0, ..., 31, 31, 31],\n",
       "       [ 0,  0,  0, ..., 31, 31, 31],\n",
       "       [ 0,  1,  2, ...,  0,  1,  2]])>, <tf.Tensor: shape=(61440,), dtype=float32, numpy=\n",
       "array([ 0.38750407,  0.6597564 ,  0.52569026, ..., 19.606771  ,\n",
       "       19.664013  , 19.534683  ], dtype=float32)>), (<tf.Tensor: shape=(3, 61440), dtype=int64, numpy=\n",
       "array([[ 0,  0,  0, ..., 31, 31, 31],\n",
       "       [ 0,  0,  0, ..., 31, 31, 31],\n",
       "       [ 0,  1,  2, ...,  0,  1,  2]])>, <tf.Tensor: shape=(61440,), dtype=float32, numpy=\n",
       "array([ 0.43228394,  0.57250124,  0.54517716, ..., 19.657728  ,\n",
       "       19.695936  , 19.635117  ], dtype=float32)>), (<tf.Tensor: shape=(3, 61440), dtype=int64, numpy=\n",
       "array([[ 0,  0,  0, ..., 31, 31, 31],\n",
       "       [ 0,  0,  0, ..., 31, 31, 31],\n",
       "       [ 0,  1,  2, ...,  0,  1,  2]])>, <tf.Tensor: shape=(61440,), dtype=float32, numpy=\n",
       "array([ 0.3010326 ,  0.77254975,  0.64560986, ..., 19.889347  ,\n",
       "       20.015162  , 19.85397   ], dtype=float32)>), (<tf.Tensor: shape=(3, 61440), dtype=int64, numpy=\n",
       "array([[ 0,  0,  0, ..., 31, 31, 31],\n",
       "       [ 0,  0,  0, ..., 31, 31, 31],\n",
       "       [ 0,  1,  2, ...,  0,  1,  2]])>, <tf.Tensor: shape=(61440,), dtype=float32, numpy=\n",
       "array([ 0.10801589,  1.0258026 ,  0.8734571 , ..., 19.843023  ,\n",
       "       19.964085  , 19.819492  ], dtype=float32)>), (<tf.Tensor: shape=(3, 61440), dtype=int64, numpy=\n",
       "array([[ 0,  0,  0, ..., 31, 31, 31],\n",
       "       [ 0,  0,  0, ..., 31, 31, 31],\n",
       "       [ 0,  1,  2, ...,  0,  1,  2]])>, <tf.Tensor: shape=(61440,), dtype=float32, numpy=\n",
       "array([ 0.20529631,  0.9257784 ,  0.81799424, ..., 19.640741  ,\n",
       "       19.747011  , 19.701073  ], dtype=float32)>), (<tf.Tensor: shape=(3, 61440), dtype=int64, numpy=\n",
       "array([[ 0,  0,  0, ..., 31, 31, 31],\n",
       "       [ 0,  0,  0, ..., 31, 31, 31],\n",
       "       [ 0,  1,  2, ...,  0,  1,  2]])>, <tf.Tensor: shape=(61440,), dtype=float32, numpy=\n",
       "array([ 0.2886795,  0.7831906,  0.7160626, ..., 19.653095 , 19.717216 ,\n",
       "       19.67559  ], dtype=float32)>), (<tf.Tensor: shape=(3, 61440), dtype=int64, numpy=\n",
       "array([[ 0,  0,  0, ..., 31, 31, 31],\n",
       "       [ 0,  0,  0, ..., 31, 31, 31],\n",
       "       [ 0,  1,  2, ...,  0,  1,  2]])>, <tf.Tensor: shape=(61440,), dtype=float32, numpy=\n",
       "array([ 0.27323818,  0.51078415,  0.54817516, ..., 19.830671  ,\n",
       "       19.891727  , 19.729553  ], dtype=float32)>), (<tf.Tensor: shape=(3, 61440), dtype=int64, numpy=\n",
       "array([[ 0,  0,  0, ..., 31, 31, 31],\n",
       "       [ 0,  0,  0, ..., 31, 31, 31],\n",
       "       [ 0,  1,  2, ...,  0,  1,  2]])>, <tf.Tensor: shape=(61440,), dtype=float32, numpy=\n",
       "array([ 0.15742818,  0.8789585 ,  0.7115656 , ..., 19.64383   ,\n",
       "       19.695936  , 19.644112  ], dtype=float32)>), (<tf.Tensor: shape=(3, 61440), dtype=int64, numpy=\n",
       "array([[ 0,  0,  0, ..., 31, 31, 31],\n",
       "       [ 0,  0,  0, ..., 31, 31, 31],\n",
       "       [ 0,  1,  2, ...,  0,  1,  2]])>, <tf.Tensor: shape=(61440,), dtype=float32, numpy=\n",
       "array([ 0.2794147 ,  0.91088116,  0.81949323, ..., 19.56199   ,\n",
       "       19.649117  , 19.611134  ], dtype=float32)>), (<tf.Tensor: shape=(3, 61440), dtype=int64, numpy=\n",
       "array([[ 0,  0,  0, ..., 31, 31, 31],\n",
       "       [ 0,  0,  0, ..., 31, 31, 31],\n",
       "       [ 0,  1,  2, ...,  0,  1,  2]])>, <tf.Tensor: shape=(61440,), dtype=float32, numpy=\n",
       "array([ 0.2747823,  0.8044724,  0.7265556, ..., 19.76736  , 19.891727 ,\n",
       "       19.683084 ], dtype=float32)>), (<tf.Tensor: shape=(3, 61440), dtype=int64, numpy=\n",
       "array([[ 0,  0,  0, ..., 31, 31, 31],\n",
       "       [ 0,  0,  0, ..., 31, 31, 31],\n",
       "       [ 0,  1,  2, ...,  0,  1,  2]])>, <tf.Tensor: shape=(61440,), dtype=float32, numpy=\n",
       "array([ 0.3427242,  0.6618846,  0.591646 , ..., 19.724125 , 19.817242 ,\n",
       "       19.731052 ], dtype=float32)>), (<tf.Tensor: shape=(3, 61440), dtype=int64, numpy=\n",
       "array([[ 0,  0,  0, ..., 31, 31, 31],\n",
       "       [ 0,  0,  0, ..., 31, 31, 31],\n",
       "       [ 0,  1,  2, ...,  0,  1,  2]])>, <tf.Tensor: shape=(61440,), dtype=float32, numpy=\n",
       "array([ 0.11110416,  1.0258026 ,  0.8734571 , ..., 19.7442    ,\n",
       "       19.778934  , 19.695076  ], dtype=float32)>), (<tf.Tensor: shape=(3, 61440), dtype=int64, numpy=\n",
       "array([[ 0,  0,  0, ..., 31, 31, 31],\n",
       "       [ 0,  0,  0, ..., 31, 31, 31],\n",
       "       [ 0,  1,  2, ...,  0,  1,  2]])>, <tf.Tensor: shape=(61440,), dtype=float32, numpy=\n",
       "array([ 0.29485604,  0.78957516,  0.6576018 , ..., 19.694786  ,\n",
       "       19.768293  , 19.654604  ], dtype=float32)>), (<tf.Tensor: shape=(3, 61440), dtype=int64, numpy=\n",
       "array([[ 0,  0,  0, ..., 31, 31, 31],\n",
       "       [ 0,  0,  0, ..., 31, 31, 31],\n",
       "       [ 0,  1,  2, ...,  0,  1,  2]])>, <tf.Tensor: shape=(61440,), dtype=float32, numpy=\n",
       "array([ 0.28404713,  0.7172172 ,  0.57215905, ..., 19.711773  ,\n",
       "       19.791704  , 19.581154  ], dtype=float32)>), (<tf.Tensor: shape=(3, 61440), dtype=int64, numpy=\n",
       "array([[ 0,  0,  0, ..., 31, 31, 31],\n",
       "       [ 0,  0,  0, ..., 31, 31, 31],\n",
       "       [ 0,  1,  2, ...,  0,  1,  2]])>, <tf.Tensor: shape=(61440,), dtype=float32, numpy=\n",
       "array([ 0.23463485,  0.8214978 ,  0.7100666 , ..., 19.739567  ,\n",
       "       19.810858  , 19.723558  ], dtype=float32)>), (<tf.Tensor: shape=(3, 61440), dtype=int64, numpy=\n",
       "array([[ 0,  0,  0, ..., 31, 31, 31],\n",
       "       [ 0,  0,  0, ..., 31, 31, 31],\n",
       "       [ 0,  1,  2, ...,  0,  1,  2]])>, <tf.Tensor: shape=(61440,), dtype=float32, numpy=\n",
       "array([ 0.10801589,  1.0258026 ,  0.8734571 , ..., 19.895523  ,\n",
       "       20.025803  , 19.873457  ], dtype=float32)>), (<tf.Tensor: shape=(3, 61440), dtype=int64, numpy=\n",
       "array([[ 0,  0,  0, ..., 31, 31, 31],\n",
       "       [ 0,  0,  0, ..., 31, 31, 31],\n",
       "       [ 0,  1,  2, ...,  0,  1,  2]])>, <tf.Tensor: shape=(61440,), dtype=float32, numpy=\n",
       "array([ 0.27632645,  0.7448834 ,  0.69957364, ..., 19.70714   ,\n",
       "       19.712961  , 19.678587  ], dtype=float32)>), (<tf.Tensor: shape=(3, 61440), dtype=int64, numpy=\n",
       "array([[ 0,  0,  0, ..., 31, 31, 31],\n",
       "       [ 0,  0,  0, ..., 31, 31, 31],\n",
       "       [ 0,  1,  2, ...,  0,  1,  2]])>, <tf.Tensor: shape=(61440,), dtype=float32, numpy=\n",
       "array([ 0.30566502,  0.7384989 ,  0.66059977, ..., 19.535742  ,\n",
       "       19.68955   , 19.687582  ], dtype=float32)>), (<tf.Tensor: shape=(3, 61440), dtype=int64, numpy=\n",
       "array([[ 0,  0,  0, ..., 31, 31, 31],\n",
       "       [ 0,  0,  0, ..., 31, 31, 31],\n",
       "       [ 0,  1,  2, ...,  0,  1,  2]])>, <tf.Tensor: shape=(61440,), dtype=float32, numpy=\n",
       "array([ 0.48324037,  0.50865597,  0.5107003 , ..., 19.623756  ,\n",
       "       19.659756  , 19.626123  ], dtype=float32)>), (<tf.Tensor: shape=(3, 61440), dtype=int64, numpy=\n",
       "array([[ 0,  0,  0, ..., 31, 31, 31],\n",
       "       [ 0,  0,  0, ..., 31, 31, 31],\n",
       "       [ 0,  1,  2, ...,  0,  1,  2]])>, <tf.Tensor: shape=(61440,), dtype=float32, numpy=\n",
       "array([ 0.28095883,  0.8151133 ,  0.7400465 , ..., 19.722582  ,\n",
       "       19.817242  , 19.743044  ], dtype=float32)>), (<tf.Tensor: shape=(3, 61440), dtype=int64, numpy=\n",
       "array([[ 0,  0,  0, ..., 31, 31, 31],\n",
       "       [ 0,  0,  0, ..., 31, 31, 31],\n",
       "       [ 0,  1,  2, ...,  0,  1,  2]])>, <tf.Tensor: shape=(61440,), dtype=float32, numpy=\n",
       "array([ 0.32728285,  0.7065763 ,  0.6306199 , ..., 19.813684  ,\n",
       "       19.987495  , 19.865963  ], dtype=float32)>), (<tf.Tensor: shape=(3, 61440), dtype=int64, numpy=\n",
       "array([[ 0,  0,  0, ..., 31, 31, 31],\n",
       "       [ 0,  0,  0, ..., 31, 31, 31],\n",
       "       [ 0,  1,  2, ...,  0,  1,  2]])>, <tf.Tensor: shape=(61440,), dtype=float32, numpy=\n",
       "array([ 0.23772311,  0.8406514 ,  0.7565354 , ..., 19.727213  ,\n",
       "       19.755524  , 19.624624  ], dtype=float32)>), (<tf.Tensor: shape=(3, 61440), dtype=int64, numpy=\n",
       "array([[ 0,  0,  0, ..., 31, 31, 31],\n",
       "       [ 0,  0,  0, ..., 31, 31, 31],\n",
       "       [ 0,  1,  2, ...,  0,  1,  2]])>, <tf.Tensor: shape=(61440,), dtype=float32, numpy=\n",
       "array([ 0.49096102,  0.5192968 ,  0.5331852 , ..., 19.503315  ,\n",
       "       19.498014  , 19.513699  ], dtype=float32)>), (<tf.Tensor: shape=(3, 61440), dtype=int64, numpy=\n",
       "array([[ 0,  0,  0, ..., 31, 31, 31],\n",
       "       [ 0,  0,  0, ..., 31, 31, 31],\n",
       "       [ 0,  1,  2, ...,  0,  1,  2]])>, <tf.Tensor: shape=(61440,), dtype=float32, numpy=\n",
       "array([ 0.46162248,  0.5788858 ,  0.52718925, ..., 19.704052  ,\n",
       "       19.802343  , 19.650106  ], dtype=float32)>), (<tf.Tensor: shape=(3, 61440), dtype=int64, numpy=\n",
       "array([[ 0,  0,  0, ..., 31, 31, 31],\n",
       "       [ 0,  0,  0, ..., 31, 31, 31],\n",
       "       [ 0,  1,  2, ...,  0,  1,  2]])>, <tf.Tensor: shape=(61440,), dtype=float32, numpy=\n",
       "array([ 0.18985498,  0.8789585 ,  0.7175616 , ..., 19.839935  ,\n",
       "       19.908752  , 19.738548  ], dtype=float32)>), (<tf.Tensor: shape=(3, 61440), dtype=int64, numpy=\n",
       "array([[ 0,  0,  0, ..., 31, 31, 31],\n",
       "       [ 0,  0,  0, ..., 31, 31, 31],\n",
       "       [ 0,  1,  2, ...,  0,  1,  2]])>, <tf.Tensor: shape=(61440,), dtype=float32, numpy=\n",
       "array([ 0.3844158 ,  0.8002161 ,  0.79550934, ..., 19.552727  ,\n",
       "       19.555475  , 19.57066   ], dtype=float32)>), (<tf.Tensor: shape=(3, 61440), dtype=int64, numpy=\n",
       "array([[ 0,  0,  0, ..., 31, 31, 31],\n",
       "       [ 0,  0,  0, ..., 31, 31, 31],\n",
       "       [ 0,  1,  2, ...,  0,  1,  2]])>, <tf.Tensor: shape=(61440,), dtype=float32, numpy=\n",
       "array([ 0.33037114,  0.7299862 ,  0.66959375, ..., 19.668537  ,\n",
       "       19.704449  , 19.657602  ], dtype=float32)>), (<tf.Tensor: shape=(3, 61440), dtype=int64, numpy=\n",
       "array([[ 0,  0,  0, ..., 31, 31, 31],\n",
       "       [ 0,  0,  0, ..., 31, 31, 31],\n",
       "       [ 0,  1,  2, ...,  0,  1,  2]])>, <tf.Tensor: shape=(61440,), dtype=float32, numpy=\n",
       "array([ 0.11728069,  0.77893424,  0.7265556 , ..., 19.656183  ,\n",
       "       19.693808  , 19.653105  ], dtype=float32)>), (<tf.Tensor: shape=(3, 61440), dtype=int64, numpy=\n",
       "array([[ 0,  0,  0, ..., 31, 31, 31],\n",
       "       [ 0,  0,  0, ..., 31, 31, 31],\n",
       "       [ 0,  1,  2, ...,  0,  1,  2]])>, <tf.Tensor: shape=(61440,), dtype=float32, numpy=\n",
       "array([ 0.10956004,  1.0236745 ,  0.871958  , ..., 19.758097  ,\n",
       "       19.925777  , 19.684584  ], dtype=float32)>), (<tf.Tensor: shape=(3, 61440), dtype=int64, numpy=\n",
       "array([[ 0,  0,  0, ..., 31, 31, 31],\n",
       "       [ 0,  0,  0, ..., 31, 31, 31],\n",
       "       [ 0,  1,  2, ...,  0,  1,  2]])>, <tf.Tensor: shape=(61440,), dtype=float32, numpy=\n",
       "array([ 0.23463485,  0.9023684 ,  0.8224912 , ..., 19.568169  ,\n",
       "       19.659756  , 19.626123  ], dtype=float32)>), (<tf.Tensor: shape=(3, 61440), dtype=int64, numpy=\n",
       "array([[ 0,  0,  0, ..., 31, 31, 31],\n",
       "       [ 0,  0,  0, ..., 31, 31, 31],\n",
       "       [ 0,  1,  2, ...,  0,  1,  2]])>, <tf.Tensor: shape=(61440,), dtype=float32, numpy=\n",
       "array([ 0.32573873,  0.8236259 ,  0.60363793, ..., 19.653095  ,\n",
       "       19.789576  , 19.60064   ], dtype=float32)>), (<tf.Tensor: shape=(3, 61440), dtype=int64, numpy=\n",
       "array([[ 0,  0,  0, ..., 31, 31, 31],\n",
       "       [ 0,  0,  0, ..., 31, 31, 31],\n",
       "       [ 0,  1,  2, ...,  0,  1,  2]])>, <tf.Tensor: shape=(61440,), dtype=float32, numpy=\n",
       "array([ 0.34581247,  0.9342911 ,  0.8584671 , ..., 19.50177   ,\n",
       "       19.74914   , 19.8105    ], dtype=float32)>), (<tf.Tensor: shape=(3, 61440), dtype=int64, numpy=\n",
       "array([[ 0,  0,  0, ..., 31, 31, 31],\n",
       "       [ 0,  0,  0, ..., 31, 31, 31],\n",
       "       [ 0,  1,  2, ...,  0,  1,  2]])>, <tf.Tensor: shape=(61440,), dtype=float32, numpy=\n",
       "array([ 0.2238259 ,  0.84490776,  0.7520385 , ..., 19.76736   ,\n",
       "       19.893856  , 19.753538  ], dtype=float32)>), (<tf.Tensor: shape=(3, 61440), dtype=int64, numpy=\n",
       "array([[ 0,  0,  0, ..., 31, 31, 31],\n",
       "       [ 0,  0,  0, ..., 31, 31, 31],\n",
       "       [ 0,  1,  2, ...,  0,  1,  2]])>, <tf.Tensor: shape=(61440,), dtype=float32, numpy=\n",
       "array([ 0.43073982,  0.6022957 ,  0.66359776, ..., 19.74883   ,\n",
       "       19.832138  , 19.801506  ], dtype=float32)>), (<tf.Tensor: shape=(3, 61440), dtype=int64, numpy=\n",
       "array([[ 0,  0,  0, ..., 31, 31, 31],\n",
       "       [ 0,  0,  0, ..., 31, 31, 31],\n",
       "       [ 0,  1,  2, ...,  0,  1,  2]])>, <tf.Tensor: shape=(61440,), dtype=float32, numpy=\n",
       "array([ 0.30566502,  0.8087287 ,  0.76103246, ..., 19.687065  ,\n",
       "       19.717216  , 19.647108  ], dtype=float32)>), (<tf.Tensor: shape=(3, 61440), dtype=int64, numpy=\n",
       "array([[ 0,  0,  0, ..., 31, 31, 31],\n",
       "       [ 0,  0,  0, ..., 31, 31, 31],\n",
       "       [ 0,  1,  2, ...,  0,  1,  2]])>, <tf.Tensor: shape=(61440,), dtype=float32, numpy=\n",
       "array([ 0.4338281 ,  0.5788858 ,  0.54967415, ..., 19.78589   ,\n",
       "       19.88747   , 19.683084  ], dtype=float32)>), (<tf.Tensor: shape=(3, 61440), dtype=int64, numpy=\n",
       "array([[ 0,  0,  0, ..., 31, 31, 31],\n",
       "       [ 0,  0,  0, ..., 31, 31, 31],\n",
       "       [ 0,  1,  2, ...,  0,  1,  2]])>, <tf.Tensor: shape=(61440,), dtype=float32, numpy=\n",
       "array([ 0.46007836,  0.5405786 ,  0.5316862 , ..., 19.656183  ,\n",
       "       19.64486   , 19.578156  ], dtype=float32)>), (<tf.Tensor: shape=(3, 61440), dtype=int64, numpy=\n",
       "array([[ 0,  0,  0, ..., 31, 31, 31],\n",
       "       [ 0,  0,  0, ..., 31, 31, 31],\n",
       "       [ 0,  1,  2, ...,  0,  1,  2]])>, <tf.Tensor: shape=(61440,), dtype=float32, numpy=\n",
       "array([ 0.30412084,  0.7087045 ,  0.6156299 , ..., 19.62839   ,\n",
       "       19.691679  , 19.582651  ], dtype=float32)>), (<tf.Tensor: shape=(3, 61440), dtype=int64, numpy=\n",
       "array([[ 0,  0,  0, ..., 31, 31, 31],\n",
       "       [ 0,  0,  0, ..., 31, 31, 31],\n",
       "       [ 0,  1,  2, ...,  0,  1,  2]])>, <tf.Tensor: shape=(61440,), dtype=float32, numpy=\n",
       "array([ 0.2778706 ,  0.6044239 ,  0.56916106, ..., 19.71486   ,\n",
       "       19.634218  , 19.606636  ], dtype=float32)>), (<tf.Tensor: shape=(3, 61440), dtype=int64, numpy=\n",
       "array([[ 0,  0,  0, ..., 31, 31, 31],\n",
       "       [ 0,  0,  0, ..., 31, 31, 31],\n",
       "       [ 0,  1,  2, ...,  0,  1,  2]])>, <tf.Tensor: shape=(61440,), dtype=float32, numpy=\n",
       "array([ 0.24544376,  0.78531885,  0.6890807 , ..., 19.551182  ,\n",
       "       19.519297  , 19.519693  ], dtype=float32)>), (<tf.Tensor: shape=(3, 61440), dtype=int64, numpy=\n",
       "array([[ 0,  0,  0, ..., 31, 31, 31],\n",
       "       [ 0,  0,  0, ..., 31, 31, 31],\n",
       "       [ 0,  1,  2, ...,  0,  1,  2]])>, <tf.Tensor: shape=(61440,), dtype=float32, numpy=\n",
       "array([ 0.29948846,  0.764037  ,  0.68158567, ..., 19.787436  ,\n",
       "       19.883215  , 19.776022  ], dtype=float32)>), (<tf.Tensor: shape=(3, 61440), dtype=int64, numpy=\n",
       "array([[ 0,  0,  0, ..., 31, 31, 31],\n",
       "       [ 0,  0,  0, ..., 31, 31, 31],\n",
       "       [ 0,  1,  2, ...,  0,  1,  2]])>, <tf.Tensor: shape=(61440,), dtype=float32, numpy=\n",
       "array([ 0.46007836,  0.5682449 ,  0.5361832 , ..., 19.883171  ,\n",
       "       20.008778  , 19.861465  ], dtype=float32)>), (<tf.Tensor: shape=(3, 61440), dtype=int64, numpy=\n",
       "array([[ 0,  0,  0, ..., 31, 31, 31],\n",
       "       [ 0,  0,  0, ..., 31, 31, 31],\n",
       "       [ 0,  1,  2, ...,  0,  1,  2]])>, <tf.Tensor: shape=(61440,), dtype=float32, numpy=\n",
       "array([ 0.2933119 ,  0.76616526,  0.7100666 , ..., 19.614492  ,\n",
       "       19.64486   , 19.566162  ], dtype=float32)>), (<tf.Tensor: shape=(3, 61440), dtype=int64, numpy=\n",
       "array([[ 0,  0,  0, ..., 31, 31, 31],\n",
       "       [ 0,  0,  0, ..., 31, 31, 31],\n",
       "       [ 0,  1,  2, ...,  0,  1,  2]])>, <tf.Tensor: shape=(61440,), dtype=float32, numpy=\n",
       "array([ 0.13272202,  1.0002646 ,  0.86896   , ..., 19.524933  ,\n",
       "       19.52781   , 19.534683  ], dtype=float32)>), (<tf.Tensor: shape=(3, 61440), dtype=int64, numpy=\n",
       "array([[ 0,  0,  0, ..., 31, 31, 31],\n",
       "       [ 0,  0,  0, ..., 31, 31, 31],\n",
       "       [ 0,  1,  2, ...,  0,  1,  2]])>, <tf.Tensor: shape=(61440,), dtype=float32, numpy=\n",
       "array([ 0.27632645,  0.6001675 ,  0.588648  , ..., 19.716404  ,\n",
       "       19.885344  , 19.762531  ], dtype=float32)>), (<tf.Tensor: shape=(3, 61440), dtype=int64, numpy=\n",
       "array([[ 0,  0,  0, ..., 31, 31, 31],\n",
       "       [ 0,  0,  0, ..., 31, 31, 31],\n",
       "       [ 0,  1,  2, ...,  0,  1,  2]])>, <tf.Tensor: shape=(61440,), dtype=float32, numpy=\n",
       "array([ 0.42147502,  0.57675755,  0.54817516, ..., 19.676256  ,\n",
       "       19.721474  , 19.61413   ], dtype=float32)>), (<tf.Tensor: shape=(3, 61440), dtype=int64, numpy=\n",
       "array([[ 0,  0,  0, ..., 31, 31, 31],\n",
       "       [ 0,  0,  0, ..., 31, 31, 31],\n",
       "       [ 0,  1,  2, ...,  0,  1,  2]])>, <tf.Tensor: shape=(61440,), dtype=float32, numpy=\n",
       "array([ 0.44309288,  0.52780956,  0.5107003 , ..., 19.578976  ,\n",
       "       19.587399  , 19.566162  ], dtype=float32)>), (<tf.Tensor: shape=(3, 61440), dtype=int64, numpy=\n",
       "array([[ 0,  0,  0, ..., 31, 31, 31],\n",
       "       [ 0,  0,  0, ..., 31, 31, 31],\n",
       "       [ 0,  1,  2, ...,  0,  1,  2]])>, <tf.Tensor: shape=(61440,), dtype=float32, numpy=\n",
       "array([ 0.3828717,  0.6235775,  0.590147 , ..., 19.60986  , 19.657629 ,\n",
       "       19.638115 ], dtype=float32)>), (<tf.Tensor: shape=(3, 61440), dtype=int64, numpy=\n",
       "array([[ 0,  0,  0, ..., 31, 31, 31],\n",
       "       [ 0,  0,  0, ..., 31, 31, 31],\n",
       "       [ 0,  1,  2, ...,  0,  1,  2]])>, <tf.Tensor: shape=(61440,), dtype=float32, numpy=\n",
       "array([ 0.14353096,  0.9789828 ,  0.8419782 , ..., 19.620668  ,\n",
       "       19.649117  , 19.61413   ], dtype=float32)>), (<tf.Tensor: shape=(3, 61440), dtype=int64, numpy=\n",
       "array([[ 0,  0,  0, ..., 31, 31, 31],\n",
       "       [ 0,  0,  0, ..., 31, 31, 31],\n",
       "       [ 0,  1,  2, ...,  0,  1,  2]])>, <tf.Tensor: shape=(61440,), dtype=float32, numpy=\n",
       "array([ 0.48632863,  0.5065278 ,  0.5121993 , ..., 19.659271  ,\n",
       "       19.698063  , 19.651606  ], dtype=float32)>)])"
      ]
     },
     "execution_count": 29,
     "metadata": {},
     "output_type": "execute_result"
    }
   ],
   "source": [
    "model.input_spikes"
   ]
  },
  {
   "cell_type": "code",
   "execution_count": 27,
   "metadata": {},
   "outputs": [
    {
     "data": {
      "text/plain": [
       "128"
      ]
     },
     "execution_count": 27,
     "metadata": {},
     "output_type": "execute_result"
    }
   ],
   "source": [
    "len(model.pool1_spikes)"
   ]
  },
  {
   "cell_type": "code",
   "execution_count": 28,
   "metadata": {},
   "outputs": [
    {
     "ename": "AttributeError",
     "evalue": "'Conv2DPhasorModel' object has no attribute 'input_spks'",
     "output_type": "error",
     "traceback": [
      "\u001b[0;31m---------------------------------------------------------------------------\u001b[0m",
      "\u001b[0;31mAttributeError\u001b[0m                            Traceback (most recent call last)",
      "\u001b[0;32m<ipython-input-28-dd207a485540>\u001b[0m in \u001b[0;36m<module>\u001b[0;34m\u001b[0m\n\u001b[0;32m----> 1\u001b[0;31m \u001b[0mmodel\u001b[0m\u001b[0;34m.\u001b[0m\u001b[0mcount_ops\u001b[0m\u001b[0;34m(\u001b[0m\u001b[0;36m10.0\u001b[0m\u001b[0;34m)\u001b[0m\u001b[0;34m\u001b[0m\u001b[0;34m\u001b[0m\u001b[0m\n\u001b[0m",
      "\u001b[0;32m~/training/phasor_networks/models.py\u001b[0m in \u001b[0;36mcount_ops\u001b[0;34m(self, time)\u001b[0m\n\u001b[1;32m    717\u001b[0m             dense2_fanout])\n\u001b[1;32m    718\u001b[0m \u001b[0;34m\u001b[0m\u001b[0m\n\u001b[0;32m--> 719\u001b[0;31m         \u001b[0mspk_ops\u001b[0m \u001b[0;34m=\u001b[0m \u001b[0mself\u001b[0m\u001b[0;34m.\u001b[0m\u001b[0mcount_spikes\u001b[0m\u001b[0;34m(\u001b[0m\u001b[0mtime\u001b[0m\u001b[0;34m)\u001b[0m\u001b[0;34m\u001b[0m\u001b[0;34m\u001b[0m\u001b[0m\n\u001b[0m\u001b[1;32m    720\u001b[0m         \u001b[0msyn_ops\u001b[0m \u001b[0;34m=\u001b[0m \u001b[0mspk_ops\u001b[0m \u001b[0;34m*\u001b[0m \u001b[0mfanout\u001b[0m\u001b[0;34m\u001b[0m\u001b[0;34m\u001b[0m\u001b[0m\n\u001b[1;32m    721\u001b[0m \u001b[0;34m\u001b[0m\u001b[0m\n",
      "\u001b[0;32m~/training/phasor_networks/models.py\u001b[0m in \u001b[0;36mcount_spikes\u001b[0;34m(self, time)\u001b[0m\n\u001b[1;32m    671\u001b[0m         \u001b[0mcount_lambda\u001b[0m \u001b[0;34m=\u001b[0m \u001b[0;32mlambda\u001b[0m \u001b[0mx\u001b[0m\u001b[0;34m:\u001b[0m \u001b[0mnp\u001b[0m\u001b[0;34m.\u001b[0m\u001b[0msum\u001b[0m\u001b[0;34m(\u001b[0m\u001b[0mx\u001b[0m\u001b[0;34m[\u001b[0m\u001b[0;36m1\u001b[0m\u001b[0;34m]\u001b[0m \u001b[0;34m<\u001b[0m \u001b[0mtime\u001b[0m\u001b[0;34m)\u001b[0m\u001b[0;34m\u001b[0m\u001b[0;34m\u001b[0m\u001b[0m\n\u001b[1;32m    672\u001b[0m         \u001b[0;31m#get the average, cumulative number of input spikes at the current time\u001b[0m\u001b[0;34m\u001b[0m\u001b[0;34m\u001b[0m\u001b[0;34m\u001b[0m\u001b[0m\n\u001b[0;32m--> 673\u001b[0;31m         \u001b[0minput_sum\u001b[0m \u001b[0;34m=\u001b[0m \u001b[0mnp\u001b[0m\u001b[0;34m.\u001b[0m\u001b[0mmean\u001b[0m\u001b[0;34m(\u001b[0m\u001b[0mlist\u001b[0m\u001b[0;34m(\u001b[0m\u001b[0mmap\u001b[0m\u001b[0;34m(\u001b[0m\u001b[0mcount_lambda\u001b[0m\u001b[0;34m,\u001b[0m \u001b[0mself\u001b[0m\u001b[0;34m.\u001b[0m\u001b[0minput_spks\u001b[0m\u001b[0;34m)\u001b[0m\u001b[0;34m)\u001b[0m\u001b[0;34m)\u001b[0m\u001b[0;34m\u001b[0m\u001b[0;34m\u001b[0m\u001b[0m\n\u001b[0m\u001b[1;32m    674\u001b[0m         \u001b[0;31m#get the average, cumulative number of internal spikes for each layer\u001b[0m\u001b[0;34m\u001b[0m\u001b[0;34m\u001b[0m\u001b[0;34m\u001b[0m\u001b[0m\n\u001b[1;32m    675\u001b[0m         \u001b[0mconv1_sum\u001b[0m \u001b[0;34m=\u001b[0m \u001b[0mnp\u001b[0m\u001b[0;34m.\u001b[0m\u001b[0mmean\u001b[0m\u001b[0;34m(\u001b[0m\u001b[0mlist\u001b[0m\u001b[0;34m(\u001b[0m\u001b[0mmap\u001b[0m\u001b[0;34m(\u001b[0m\u001b[0mcount_lambda\u001b[0m\u001b[0;34m,\u001b[0m \u001b[0mself\u001b[0m\u001b[0;34m.\u001b[0m\u001b[0mconv1\u001b[0m\u001b[0;34m.\u001b[0m\u001b[0mspike_trains\u001b[0m\u001b[0;34m)\u001b[0m\u001b[0;34m)\u001b[0m\u001b[0;34m)\u001b[0m\u001b[0;34m\u001b[0m\u001b[0;34m\u001b[0m\u001b[0m\n",
      "\u001b[0;31mAttributeError\u001b[0m: 'Conv2DPhasorModel' object has no attribute 'input_spks'"
     ]
    }
   ],
   "source": [
    "model.count_ops(10.0)"
   ]
  },
  {
   "cell_type": "code",
   "execution_count": 32,
   "metadata": {},
   "outputs": [],
   "source": [
    "#run from saved results (can resume from here when results are saved)"
   ]
  },
  {
   "cell_type": "code",
   "execution_count": 33,
   "metadata": {},
   "outputs": [],
   "source": [
    "trueys = np.load(\"runs/matching_ys.npz\")['a']\n",
    "trueys = y_test[0:n_subsample,...]"
   ]
  },
  {
   "cell_type": "code",
   "execution_count": 34,
   "metadata": {},
   "outputs": [
    {
     "data": {
      "text/plain": [
       "<tf.Tensor: shape=(128,), dtype=int64, numpy=\n",
       "array([7, 0, 0, 2, 9, 2, 7, 6, 1, 3, 8, 2, 8, 8, 3, 1, 7, 0, 9, 0, 4, 2,\n",
       "       6, 5, 3, 1, 5, 3, 5, 0, 0, 3, 2, 5, 5, 7, 8, 5, 7, 7, 8, 2, 8, 8,\n",
       "       7, 0, 8, 3, 1, 5, 2, 5, 1, 0, 0, 8, 5, 9, 8, 2, 3, 8, 7, 6, 5, 0,\n",
       "       5, 9, 2, 1, 0, 9, 0, 2, 3, 0, 5, 5, 1, 2, 6, 4, 3, 8, 2, 0, 2, 7,\n",
       "       0, 8, 7, 3, 8, 6, 3, 4, 1, 0, 1, 1, 8, 2, 1, 1, 1, 4, 4, 5, 4, 2,\n",
       "       4, 2, 4, 1, 8, 1, 0, 9, 4, 1, 1, 4, 3, 0, 4, 2, 8, 1])>"
      ]
     },
     "execution_count": 34,
     "metadata": {},
     "output_type": "execute_result"
    }
   ],
   "source": [
    "#the true matching labels\n",
    "trueys"
   ]
  },
  {
   "cell_type": "code",
   "execution_count": 35,
   "metadata": {},
   "outputs": [],
   "source": [
    "all_res = [np.load(\"runs/cifar_dyn_batch\"+str(i)+\".npz\")[\"a\"] for i in range(n_batches)]"
   ]
  },
  {
   "cell_type": "code",
   "execution_count": 36,
   "metadata": {},
   "outputs": [],
   "source": [
    "#get the ouput phases for each sample, cycle, and neuron\n",
    "dyn_yhs0 = tf.concat(all_res, axis=0)"
   ]
  },
  {
   "cell_type": "code",
   "execution_count": 37,
   "metadata": {
    "scrolled": true
   },
   "outputs": [
    {
     "data": {
      "text/plain": [
       "TensorShape([128, 20, 10])"
      ]
     },
     "execution_count": 37,
     "metadata": {},
     "output_type": "execute_result"
    }
   ],
   "source": [
    "dyn_yhs0.shape"
   ]
  },
  {
   "cell_type": "code",
   "execution_count": 39,
   "metadata": {},
   "outputs": [],
   "source": [
    "def predict_ind(phases, ind=-2):\n",
    "    distance = tf.math.abs(phases - 0.5)\n",
    "    indices = o2 = tf.math.argmin(distance, axis=2)\n",
    "    selected = indices[:,ind]\n",
    "\n",
    "    return selected"
   ]
  },
  {
   "cell_type": "code",
   "execution_count": 40,
   "metadata": {},
   "outputs": [],
   "source": [
    "#use the predict function to get the class predicted by the last full cycle\n",
    "dyn_yhs = predict_ind(dyn_yhs0, -2)"
   ]
  },
  {
   "cell_type": "code",
   "execution_count": 41,
   "metadata": {},
   "outputs": [
    {
     "data": {
      "text/plain": [
       "TensorShape([128])"
      ]
     },
     "execution_count": 41,
     "metadata": {},
     "output_type": "execute_result"
    }
   ],
   "source": [
    "#the predicted labels from dynamic execution for each sample\n",
    "dyn_yhs.shape"
   ]
  },
  {
   "cell_type": "code",
   "execution_count": 42,
   "metadata": {
    "scrolled": true
   },
   "outputs": [
    {
     "data": {
      "text/plain": [
       "<tf.Tensor: shape=(128,), dtype=bool, numpy=\n",
       "array([False,  True,  True, False,  True, False,  True, False,  True,\n",
       "       False, False, False,  True,  True, False,  True,  True,  True,\n",
       "        True,  True,  True, False,  True, False, False,  True, False,\n",
       "       False, False,  True,  True, False, False, False, False,  True,\n",
       "        True,  True,  True,  True,  True,  True,  True, False,  True,\n",
       "        True,  True, False,  True,  True, False,  True,  True,  True,\n",
       "       False,  True,  True,  True,  True,  True, False,  True,  True,\n",
       "        True, False,  True, False,  True,  True,  True, False,  True,\n",
       "        True,  True, False,  True,  True,  True,  True,  True,  True,\n",
       "        True,  True,  True, False,  True,  True,  True,  True,  True,\n",
       "        True,  True,  True,  True,  True,  True,  True, False,  True,\n",
       "        True,  True, False,  True,  True,  True,  True, False,  True,\n",
       "        True,  True,  True, False,  True,  True,  True,  True,  True,\n",
       "        True,  True,  True,  True, False, False,  True,  True,  True,\n",
       "        True, False])>"
      ]
     },
     "execution_count": 42,
     "metadata": {},
     "output_type": "execute_result"
    }
   ],
   "source": [
    "dyn_yhs == trueys"
   ]
  },
  {
   "cell_type": "code",
   "execution_count": 43,
   "metadata": {},
   "outputs": [],
   "source": [
    "#accuracy of predictions made at each cycle\n",
    "#last 2 cycles this deep in the network are 'cut off' by the ending time (20.0s) and ignored\n",
    "all_predictions = np.array([np.mean(predict_ind(dyn_yhs0, i) == trueys) for i in range(m_repeats-2)])"
   ]
  },
  {
   "cell_type": "code",
   "execution_count": 44,
   "metadata": {},
   "outputs": [],
   "source": [
    "dpi=100"
   ]
  },
  {
   "cell_type": "code",
   "execution_count": 46,
   "metadata": {},
   "outputs": [
    {
     "data": {
      "text/plain": [
       "(18,)"
      ]
     },
     "execution_count": 46,
     "metadata": {},
     "output_type": "execute_result"
    }
   ],
   "source": [
    "all_predictions.shape"
   ]
  },
  {
   "cell_type": "code",
   "execution_count": 45,
   "metadata": {},
   "outputs": [
    {
     "data": {
      "text/plain": [
       "<matplotlib.legend.Legend at 0x7f1e20144c10>"
      ]
     },
     "execution_count": 45,
     "metadata": {},
     "output_type": "execute_result"
    },
    {
     "data": {
      "image/png": "[encoded data removed]",
      "text/plain": [
       "<Figure size 600x400 with 1 Axes>"
      ]
     },
     "metadata": {
      "needs_background": "light"
     },
     "output_type": "display_data"
    }
   ],
   "source": [
    "plt.figure(dpi=dpi)\n",
    "plt.plot(1.5+np.linspace(0, 17 , 17), all_predictions[0:17], label=\"1024 Samples, Temporal\",  color=\"blue\")\n",
    "plt.plot(1.5+np.linspace(0, 17 , 17), all_predictions[0:17], 'o',  color=\"blue\")\n",
    "plt.plot(1.5+np.linspace(0, 17 , 17), np.ones(17)*0.7353515625, \"--\", label=\"1024 Samples, Atemporal\", color=\"blue\")\n",
    "plt.xticks(np.arange(2,21,2), np.arange(2,21,2))\n",
    "plt.xlabel(\"Cycle\")\n",
    "plt.ylabel(\"Accuracy\")\n",
    "plt.legend()"
   ]
  },
  {
   "cell_type": "code",
   "execution_count": 50,
   "metadata": {
    "scrolled": false
   },
   "outputs": [
    {
     "data": {
      "text/plain": [
       "<matplotlib.legend.Legend at 0x7f1e203a5af0>"
      ]
     },
     "execution_count": 50,
     "metadata": {},
     "output_type": "execute_result"
    },
    {
     "data": {
      "image/png": "[encoded data removed]",
      "text/plain": [
       "<Figure size 600x400 with 1 Axes>"
      ]
     },
     "metadata": {
      "needs_background": "light"
     },
     "output_type": "display_data"
    }
   ],
   "source": [
    "plt.figure(dpi=dpi)\n",
    "plt.plot(1.5+np.linspace(0, 18 , 18), all_predictions, label=\"1024 Samples, Temporal\",  color=\"blue\")\n",
    "plt.plot(1.5+np.linspace(0, 18 , 18), all_predictions, 'o',  color=\"blue\")\n",
    "plt.plot(1.5+np.linspace(0, 18 , 18), np.ones(18)*0.7353515625, \"--\", label=\"1024 Samples, Atemporal\", color=\"blue\")\n",
    "plt.xticks(np.arange(2,21,2), np.arange(2,21,2))\n",
    "plt.xlabel(\"Cycle\")\n",
    "plt.ylabel(\"Accuracy\")\n",
    "plt.legend()"
   ]
  },
  {
   "cell_type": "code",
   "execution_count": 25,
   "metadata": {},
   "outputs": [],
   "source": [
    "np.savez_compressed(\"1024_dyn.npz\", a=all_predictions)"
   ]
  },
  {
   "cell_type": "code",
   "execution_count": 53,
   "metadata": {},
   "outputs": [
    {
     "name": "stdout",
     "output_type": "stream",
     "text": [
      "Model: \"conv2d_phasor_model\"\n",
      "_________________________________________________________________\n",
      "Layer (type)                 Output Shape              Param #   \n",
      "=================================================================\n",
      "batch_normalization (BatchNo multiple                  12        \n",
      "_________________________________________________________________\n",
      "cmpx_conv2d (CmpxConv2D)     multiple                  864       \n",
      "_________________________________________________________________\n",
      "cmpx_conv2d_1 (CmpxConv2D)   multiple                  9216      \n",
      "_________________________________________________________________\n",
      "dropout1 (Dropout)           multiple                  0         \n",
      "_________________________________________________________________\n",
      "cmpx_conv2d_2 (CmpxConv2D)   multiple                  18432     \n",
      "_________________________________________________________________\n",
      "cmpx_conv2d_3 (CmpxConv2D)   multiple                  36864     \n",
      "_________________________________________________________________\n",
      "dropout2 (Dropout)           multiple                  0         \n",
      "_________________________________________________________________\n",
      "max_pooling2d (MaxPooling2D) multiple                  0         \n",
      "_________________________________________________________________\n",
      "max_pooling2d_1 (MaxPooling2 multiple                  0         \n",
      "_________________________________________________________________\n",
      "flatten (Flatten)            multiple                  0         \n",
      "_________________________________________________________________\n",
      "cmpx_linear (CmpxLinear)     multiple                  1600000   \n",
      "_________________________________________________________________\n",
      "dropout3 (Dropout)           multiple                  0         \n",
      "_________________________________________________________________\n",
      "cmpx_linear_1 (CmpxLinear)   multiple                  10000     \n",
      "=================================================================\n",
      "Total params: 1,675,388\n",
      "Trainable params: 1,675,382\n",
      "Non-trainable params: 6\n",
      "_________________________________________________________________\n"
     ]
    }
   ],
   "source": [
    "model.summary()"
   ]
  },
  {
   "cell_type": "code",
   "execution_count": 66,
   "metadata": {},
   "outputs": [],
   "source": [
    "x_subset = x_test[0:128,...]"
   ]
  },
  {
   "cell_type": "code",
   "execution_count": 60,
   "metadata": {},
   "outputs": [],
   "source": [
    "def get_dynamic_input(model, inputs):\n",
    "    x = model.project_fn(inputs)\n",
    "    x = model.batchnorm(x)\n",
    "    #convert continuous time representations into periodic spike train\n",
    "    s = phase_to_train(x, shape=model.image_shape, period=model.dyn_params[\"period\"], repeats=model.repeats)\n",
    "\n",
    "    return s"
   ]
  },
  {
   "cell_type": "code",
   "execution_count": 67,
   "metadata": {},
   "outputs": [],
   "source": [
    "inp = get_dynamic_input(model, x_subset)"
   ]
  },
  {
   "cell_type": "code",
   "execution_count": 64,
   "metadata": {},
   "outputs": [],
   "source": [
    "def count_spikes(model, input_spks, time):\n",
    "    count_lambda = lambda x: np.sum(x[1] < time)\n",
    "    #get the average, cumulative number of input spikes at the current time\n",
    "    input_sum = np.mean(list(map(count_lambda, input_spks)))\n",
    "    #get the average, cumulative number of internal spikes for each layer\n",
    "    conv1_sum = np.mean(list(map(count_lambda, model.conv1.spike_trains)))\n",
    "    conv2_sum = np.mean(list(map(count_lambda, model.conv2.spike_trains)))\n",
    "    conv3_sum = np.mean(list(map(count_lambda, model.conv3.spike_trains)))\n",
    "    conv4_sum = np.mean(list(map(count_lambda, model.conv4.spike_trains)))\n",
    "    dense1_sum = np.mean(list(map(count_lambda, model.dense1.spike_trains)))\n",
    "\n",
    "    return np.array([input_sum, \n",
    "        conv1_sum,\n",
    "        conv2_sum,\n",
    "        conv3_sum,\n",
    "        conv4_sum,\n",
    "        dense1_sum])"
   ]
  },
  {
   "cell_type": "code",
   "execution_count": 80,
   "metadata": {},
   "outputs": [
    {
     "data": {
      "text/plain": [
       "(<tf.Tensor: shape=(3, 61440), dtype=int64, numpy=\n",
       " array([[ 0,  0,  0, ..., 31, 31, 31],\n",
       "        [ 0,  0,  0, ..., 31, 31, 31],\n",
       "        [ 0,  1,  2, ...,  0,  1,  2]])>,\n",
       " <tf.Tensor: shape=(61440,), dtype=float32, numpy=\n",
       " array([ 0.2238259,  0.8789585,  0.7745234, ..., 19.887804 , 20.015162 ,\n",
       "        19.865963 ], dtype=float32)>)"
      ]
     },
     "execution_count": 80,
     "metadata": {},
     "output_type": "execute_result"
    }
   ],
   "source": [
    "inp[0]"
   ]
  },
  {
   "cell_type": "code",
   "execution_count": 82,
   "metadata": {
    "scrolled": true
   },
   "outputs": [
    {
     "data": {
      "text/plain": [
       "array([1471.6640625, 4635.328125 , 1620.6328125,    0.       ,\n",
       "          0.       ,    0.       ])"
      ]
     },
     "execution_count": 82,
     "metadata": {},
     "output_type": "execute_result"
    }
   ],
   "source": [
    "count_spikes(model, inp, 0.5)"
   ]
  },
  {
   "cell_type": "code",
   "execution_count": 81,
   "metadata": {},
   "outputs": [
    {
     "data": {
      "text/plain": [
       "1465"
      ]
     },
     "execution_count": 81,
     "metadata": {},
     "output_type": "execute_result"
    }
   ],
   "source": [
    "np.sum(inp[0][1] < 0.5)"
   ]
  },
  {
   "cell_type": "code",
   "execution_count": 83,
   "metadata": {
    "scrolled": true
   },
   "outputs": [
    {
     "data": {
      "text/plain": [
       "array([ 4543.6640625, 30240.6953125, 28552.765625 ,  8924.046875 ,\n",
       "        6199.578125 ,   566.4453125])"
      ]
     },
     "execution_count": 83,
     "metadata": {},
     "output_type": "execute_result"
    }
   ],
   "source": [
    "count_spikes(model, inp, 1.5)"
   ]
  },
  {
   "cell_type": "code",
   "execution_count": 84,
   "metadata": {},
   "outputs": [
    {
     "data": {
      "text/plain": [
       "4537"
      ]
     },
     "execution_count": 84,
     "metadata": {},
     "output_type": "execute_result"
    }
   ],
   "source": [
    "np.sum(inp[0][1] < 1.5)"
   ]
  },
  {
   "cell_type": "code",
   "execution_count": 70,
   "metadata": {},
   "outputs": [
    {
     "data": {
      "text/plain": [
       "array([ 4543.6640625, 30240.6953125, 28552.765625 ,  8924.046875 ,\n",
       "        6199.578125 ,   566.4453125])"
      ]
     },
     "execution_count": 70,
     "metadata": {},
     "output_type": "execute_result"
    }
   ],
   "source": [
    "count_spikes(model, inp, 1.5)"
   ]
  },
  {
   "cell_type": "code",
   "execution_count": 70,
   "metadata": {},
   "outputs": [
    {
     "data": {
      "text/plain": [
       "array([ 4543.6640625, 30240.6953125, 28552.765625 ,  8924.046875 ,\n",
       "        6199.578125 ,   566.4453125])"
      ]
     },
     "execution_count": 70,
     "metadata": {},
     "output_type": "execute_result"
    }
   ],
   "source": [
    "count_spikes(model, inp, 1.5)"
   ]
  },
  {
   "cell_type": "code",
   "execution_count": 71,
   "metadata": {},
   "outputs": [],
   "source": [
    "spk_sum = np.array([count_spikes(model, inp, t) for t in np.linspace(0, 20.0, 201)])"
   ]
  },
  {
   "cell_type": "code",
   "execution_count": 85,
   "metadata": {},
   "outputs": [
    {
     "data": {
      "text/plain": [
       "(201, 6)"
      ]
     },
     "execution_count": 85,
     "metadata": {},
     "output_type": "execute_result"
    }
   ],
   "source": [
    "spk_sum.shape"
   ]
  },
  {
   "cell_type": "code",
   "execution_count": 87,
   "metadata": {},
   "outputs": [
    {
     "data": {
      "text/plain": [
       "<matplotlib.legend.Legend at 0x7f1da04d6f70>"
      ]
     },
     "execution_count": 87,
     "metadata": {},
     "output_type": "execute_result"
    },
    {
     "data": {
      "image/png": "[encoded data removed]",
      "text/plain": [
       "<Figure size 432x288 with 1 Axes>"
      ]
     },
     "metadata": {
      "needs_background": "light"
     },
     "output_type": "display_data"
    }
   ],
   "source": [
    "plt.plot(spk_sum[:,0], label=\"input spikes\")\n",
    "plt.plot(spk_sum[:,1], label=\"conv1 spikes\")\n",
    "plt.plot(spk_sum[:,2], label=\"conv2 spikes\")\n",
    "plt.plot(spk_sum[:,3], label=\"conv3 spikes\")\n",
    "plt.plot(spk_sum[:,4], label=\"conv4 spikes\")\n",
    "plt.plot(spk_sum[:,5], label=\"dense1 spikes\")\n",
    "plt.legend()"
   ]
  },
  {
   "cell_type": "code",
   "execution_count": 74,
   "metadata": {},
   "outputs": [],
   "source": [
    "def count_ops(model, inp, time):\n",
    "    #compute the fanout for each layer receiving inputs\n",
    "    conv1_fanout = np.prod(model.conv1.output_shape2)\n",
    "    conv2_fanout = np.prod(model.conv2.output_shape2)\n",
    "    conv3_fanout = np.prod(model.conv3.output_shape2)\n",
    "    conv4_fanout = np.prod(model.conv4.output_shape2)\n",
    "    dense1_fanout = np.prod(model.dense1.output_shape2)\n",
    "    dense2_fanout = np.prod(model.dense2.output_shape2)\n",
    "\n",
    "    fanout = np.array([conv1_fanout, \n",
    "        conv2_fanout,\n",
    "        conv3_fanout,\n",
    "        conv4_fanout,\n",
    "        dense1_fanout,\n",
    "        dense2_fanout])\n",
    "\n",
    "    spk_ops = count_spikes(model, inp, time)\n",
    "    syn_ops = spk_ops * fanout\n",
    "\n",
    "    return syn_ops"
   ]
  },
  {
   "cell_type": "code",
   "execution_count": 77,
   "metadata": {},
   "outputs": [
    {
     "data": {
      "text/plain": [
       "array([4.23839250e+07, 1.16291112e+08, 1.49357520e+07, 0.00000000e+00,\n",
       "       0.00000000e+00, 0.00000000e+00])"
      ]
     },
     "execution_count": 77,
     "metadata": {},
     "output_type": "execute_result"
    }
   ],
   "source": [
    "count_ops(model, inp, 0.5)"
   ]
  },
  {
   "cell_type": "code",
   "execution_count": 75,
   "metadata": {},
   "outputs": [
    {
     "data": {
      "text/plain": [
       "array([1.30857525e+08, 7.58678564e+08, 2.63142288e+08, 5.71139000e+07,\n",
       "       6.19957812e+06, 5.66445312e+03])"
      ]
     },
     "execution_count": 75,
     "metadata": {},
     "output_type": "execute_result"
    }
   ],
   "source": [
    "count_ops(model, inp, 1.5)"
   ]
  },
  {
   "cell_type": "code",
   "execution_count": 76,
   "metadata": {},
   "outputs": [
    {
     "data": {
      "text/plain": [
       "array([1.76871915e+09, 1.40793617e+10, 4.55476313e+09, 1.15210930e+09,\n",
       "       1.23678148e+08, 1.90506172e+05])"
      ]
     },
     "execution_count": 76,
     "metadata": {},
     "output_type": "execute_result"
    }
   ],
   "source": [
    "count_ops(model, inp, 20)"
   ]
  },
  {
   "cell_type": "code",
   "execution_count": null,
   "metadata": {},
   "outputs": [],
   "source": []
  },
  {
   "cell_type": "code",
   "execution_count": null,
   "metadata": {},
   "outputs": [],
   "source": [
    "#compute the matching static accuracy"
   ]
  },
  {
   "cell_type": "code",
   "execution_count": 60,
   "metadata": {},
   "outputs": [],
   "source": [
    "test_x, test_y = get_raw_dat(ds_test)"
   ]
  },
  {
   "cell_type": "code",
   "execution_count": 61,
   "metadata": {},
   "outputs": [],
   "source": [
    "first_1024x = test_x[0:128,...]\n",
    "first_1024y = test_y[0:128,...]"
   ]
  },
  {
   "cell_type": "code",
   "execution_count": 62,
   "metadata": {},
   "outputs": [],
   "source": [
    "stat_y = model.call(first_1024x)"
   ]
  },
  {
   "cell_type": "code",
   "execution_count": 63,
   "metadata": {},
   "outputs": [],
   "source": [
    "statys = model.predict(stat_y)"
   ]
  },
  {
   "cell_type": "code",
   "execution_count": 65,
   "metadata": {},
   "outputs": [],
   "source": [
    "static_acc = np.mean(first_1024y == statys)"
   ]
  },
  {
   "cell_type": "code",
   "execution_count": 66,
   "metadata": {},
   "outputs": [
    {
     "data": {
      "text/plain": [
       "0.7578125"
      ]
     },
     "execution_count": 66,
     "metadata": {},
     "output_type": "execute_result"
    }
   ],
   "source": [
    "static_acc"
   ]
  },
  {
   "cell_type": "code",
   "execution_count": 95,
   "metadata": {},
   "outputs": [],
   "source": [
    "#the dynamic CIFAR accuracy"
   ]
  },
  {
   "cell_type": "code",
   "execution_count": 96,
   "metadata": {},
   "outputs": [],
   "source": [
    "dyn_a = np.mean(dyn_yhs == trueys)"
   ]
  },
  {
   "cell_type": "code",
   "execution_count": 97,
   "metadata": {},
   "outputs": [
    {
     "data": {
      "text/plain": [
       "<tf.Tensor: shape=(1024,), dtype=int64, numpy=array([1, 1, 9, ..., 4, 3, 4])>"
      ]
     },
     "execution_count": 97,
     "metadata": {},
     "output_type": "execute_result"
    }
   ],
   "source": [
    "statys"
   ]
  },
  {
   "cell_type": "code",
   "execution_count": 98,
   "metadata": {},
   "outputs": [],
   "source": [
    "stat_a = tf.reduce_mean(tf.cast(statys == first_1024y, dtype=\"float\"))"
   ]
  },
  {
   "cell_type": "code",
   "execution_count": 99,
   "metadata": {},
   "outputs": [],
   "source": [
    "#the static CIFAR accuracy"
   ]
  },
  {
   "cell_type": "code",
   "execution_count": 100,
   "metadata": {},
   "outputs": [
    {
     "data": {
      "text/plain": [
       "<tf.Tensor: shape=(), dtype=float32, numpy=0.73339844>"
      ]
     },
     "execution_count": 100,
     "metadata": {},
     "output_type": "execute_result"
    }
   ],
   "source": [
    "stat_a"
   ]
  },
  {
   "cell_type": "code",
   "execution_count": 101,
   "metadata": {},
   "outputs": [],
   "source": [
    "#the accuracy loss"
   ]
  },
  {
   "cell_type": "code",
   "execution_count": 102,
   "metadata": {
    "scrolled": true
   },
   "outputs": [
    {
     "data": {
      "text/plain": [
       "<tf.Tensor: shape=(), dtype=float32, numpy=0.034179688>"
      ]
     },
     "execution_count": 102,
     "metadata": {},
     "output_type": "execute_result"
    }
   ],
   "source": [
    "stat_a - dyn_a"
   ]
  },
  {
   "cell_type": "code",
   "execution_count": null,
   "metadata": {},
   "outputs": [],
   "source": []
  }
 ],
 "metadata": {
  "kernelspec": {
   "display_name": "Python 3",
   "language": "python",
   "name": "python3"
  },
  "language_info": {
   "codemirror_mode": {
    "name": "ipython",
    "version": 3
   },
   "file_extension": ".py",
   "mimetype": "text/x-python",
   "name": "python",
   "nbconvert_exporter": "python",
   "pygments_lexer": "ipython3",
   "version": "3.8.5"
  }
 },
 "nbformat": 4,
 "nbformat_minor": 4
}
