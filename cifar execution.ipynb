{
 "cells": [
  {
   "cell_type": "markdown",
   "metadata": {},
   "source": [
    "Notebook which produces data required for figure 6. Executes a CIFAR network temporally."
   ]
  },
  {
   "cell_type": "code",
   "execution_count": 1,
   "metadata": {},
   "outputs": [],
   "source": [
    "import matplotlib.pyplot as plt\n",
    "import numpy as np\n",
    "\n",
    "import tensorflow as tf\n",
    "import tensorflow_datasets as tfds\n",
    "import tensorflow.keras as keras\n",
    "import tensorflow.keras.layers as layers\n",
    "import tensorflow.keras.backend as be"
   ]
  },
  {
   "cell_type": "code",
   "execution_count": 2,
   "metadata": {},
   "outputs": [],
   "source": [
    "from utils import *\n",
    "from data import *\n",
    "from layers import *\n",
    "from models import *"
   ]
  },
  {
   "cell_type": "code",
   "execution_count": 3,
   "metadata": {},
   "outputs": [],
   "source": [
    "from tensorflow.keras.preprocessing.image import ImageDataGenerator"
   ]
  },
  {
   "cell_type": "code",
   "execution_count": 4,
   "metadata": {},
   "outputs": [],
   "source": [
    "# Currently the eager execution mode in dynamic inference leads to GPU memory usage increasing over time. \n",
    "# GPU acceleration does not help accelerate the dynamic inference by much so it should be disabled during the\n",
    "# long inference over 1024 examples to prevent out-of-memory errors on GPU. \n",
    "\n",
    "limit_gpus()\n",
    "set_gpu(None)"
   ]
  },
  {
   "cell_type": "code",
   "execution_count": 5,
   "metadata": {},
   "outputs": [],
   "source": [
    "dataset = \"cifar10\"\n",
    "n_batch = 128\n",
    "ds_train, ds_test, ds_info = load_dataset(dataset, n_batch)\n",
    "\n",
    "input_shape = ds_info.features['image'].shape\n",
    "num_classes = ds_info.features['label'].num_classes"
   ]
  },
  {
   "cell_type": "code",
   "execution_count": 6,
   "metadata": {},
   "outputs": [
    {
     "data": {
      "text/plain": [
       "(32, 32, 3)"
      ]
     },
     "execution_count": 6,
     "metadata": {},
     "output_type": "execute_result"
    }
   ],
   "source": [
    "input_shape"
   ]
  },
  {
   "cell_type": "code",
   "execution_count": 7,
   "metadata": {},
   "outputs": [],
   "source": [
    "m_repeats = 20"
   ]
  },
  {
   "cell_type": "code",
   "execution_count": 8,
   "metadata": {},
   "outputs": [],
   "source": [
    "x_train, y_train = get_raw_dat(ds_train)\n",
    "datagen = ImageDataGenerator(\n",
    "    rotation_range=15,\n",
    "    width_shift_range=0.1,\n",
    "    height_shift_range=0.1,\n",
    "    horizontal_flip=True,\n",
    "    )\n",
    "datagen.fit(x_train)"
   ]
  },
  {
   "cell_type": "code",
   "execution_count": 9,
   "metadata": {
    "scrolled": false
   },
   "outputs": [],
   "source": [
    "model = Conv2DPhasorModel(input_shape, projection=\"dot\", onehot_offset=0.0, \n",
    "                    onehot_phase=0.5,n_hidden=1000, dropout_rate=0.20,\n",
    "                         repeats=m_repeats,\n",
    "                         exec_time=20.0,\n",
    "                         max_step=0.02)"
   ]
  },
  {
   "cell_type": "code",
   "execution_count": 10,
   "metadata": {},
   "outputs": [
    {
     "data": {
      "text/plain": [
       "{'leakage': -0.2,\n",
       " 'period': 1.0,\n",
       " 'window': 0.05,\n",
       " 'spk_mode': 'gradient',\n",
       " 'threshold': 0.03,\n",
       " 'exec_time': 20.0,\n",
       " 'max_step': 0.02}"
      ]
     },
     "execution_count": 10,
     "metadata": {},
     "output_type": "execute_result"
    }
   ],
   "source": [
    "model.dyn_params"
   ]
  },
  {
   "cell_type": "code",
   "execution_count": 11,
   "metadata": {},
   "outputs": [],
   "source": [
    "model.compile(optimizer=\"rmsprop\")"
   ]
  },
  {
   "cell_type": "code",
   "execution_count": 12,
   "metadata": {},
   "outputs": [],
   "source": [
    "#train the model with the augmented dataset or load the pre-trained model (below)\n",
    "#loss = model.train_aug(datagen.flow(x_train, y_train, batch_size=128), 76000)"
   ]
  },
  {
   "cell_type": "code",
   "execution_count": 13,
   "metadata": {},
   "outputs": [],
   "source": [
    "model.load_weights(\"models/cifar1.wg\")\n",
    "model.direction = tf.constant(np.load(\"models/cifar_projection.npz\")[\"a\"])"
   ]
  },
  {
   "cell_type": "code",
   "execution_count": 14,
   "metadata": {},
   "outputs": [],
   "source": [
    "(xs, ys) = next(iter(ds_train))"
   ]
  },
  {
   "cell_type": "code",
   "execution_count": 15,
   "metadata": {},
   "outputs": [
    {
     "data": {
      "text/plain": [
       "<tf.Tensor: shape=(128, 10), dtype=float32, numpy=\n",
       "array([[ 6.18015183e-03,  1.87683597e-01, -1.09900488e-03, ...,\n",
       "        -1.12377349e-02, -3.78520042e-02,  7.00453669e-02],\n",
       "       [-4.66162376e-02,  2.90464014e-02, -3.47533152e-02, ...,\n",
       "        -1.22322673e-02, -4.30923775e-02,  1.87251456e-02],\n",
       "       [ 1.82964727e-02,  4.60134089e-01,  1.04887523e-02, ...,\n",
       "        -8.49851407e-03,  1.06584104e-02, -2.02103388e-02],\n",
       "       ...,\n",
       "       [-1.34718008e-02,  1.46909192e-01, -2.75231078e-02, ...,\n",
       "         3.46489996e-02,  1.07380748e-02,  1.03132591e-01],\n",
       "       [ 5.03530719e-05,  1.47524495e-02,  3.20764370e-02, ...,\n",
       "         5.34128919e-02,  2.81958878e-02,  1.58412531e-02],\n",
       "       [-2.52690688e-02, -3.34985857e-03,  3.68599117e-01, ...,\n",
       "        -9.82635375e-03,  1.38519448e-04,  1.24012372e-02]], dtype=float32)>"
      ]
     },
     "execution_count": 15,
     "metadata": {},
     "output_type": "execute_result"
    }
   ],
   "source": [
    "#make a static call first to build the network shapes\n",
    "model(xs)"
   ]
  },
  {
   "cell_type": "code",
   "execution_count": 16,
   "metadata": {
    "scrolled": false
   },
   "outputs": [],
   "source": [
    "#model.accuracy(ds_test, False)"
   ]
  },
  {
   "cell_type": "code",
   "execution_count": 17,
   "metadata": {},
   "outputs": [],
   "source": [
    "# dynamic call"
   ]
  },
  {
   "cell_type": "code",
   "execution_count": 18,
   "metadata": {},
   "outputs": [],
   "source": [
    "n_batches = 1"
   ]
  },
  {
   "cell_type": "code",
   "execution_count": 19,
   "metadata": {},
   "outputs": [],
   "source": [
    "#n_batches = 8"
   ]
  },
  {
   "cell_type": "code",
   "execution_count": 26,
   "metadata": {},
   "outputs": [],
   "source": [
    "n_subsample = n_batches * n_batch"
   ]
  },
  {
   "cell_type": "code",
   "execution_count": 27,
   "metadata": {},
   "outputs": [
    {
     "data": {
      "text/plain": [
       "128"
      ]
     },
     "execution_count": 27,
     "metadata": {},
     "output_type": "execute_result"
    }
   ],
   "source": [
    "n_subsample"
   ]
  },
  {
   "cell_type": "code",
   "execution_count": 28,
   "metadata": {},
   "outputs": [],
   "source": [
    "x_test, y_test = get_raw_dat(ds_test)"
   ]
  },
  {
   "cell_type": "code",
   "execution_count": 29,
   "metadata": {},
   "outputs": [],
   "source": [
    "# save each batch's output as it is computed\n",
    "# dynamic execution with the CIFAR network takes several hours per batch\n",
    "# this task is also done in the included cifar_execution_script.py which can be run safely e.g. in a screen session"
   ]
  },
  {
   "cell_type": "code",
   "execution_count": 30,
   "metadata": {
    "scrolled": false
   },
   "outputs": [
    {
     "name": "stdout",
     "output_type": "stream",
     "text": [
      "starting batch 0\n"
     ]
    },
    {
     "name": "stderr",
     "output_type": "stream",
     "text": [
      "\r",
      "  0%|          | 0/128 [00:00<?, ?it/s]"
     ]
    },
    {
     "name": "stdout",
     "output_type": "stream",
     "text": [
      "Dynamic Execution: Conv 1\n"
     ]
    },
    {
     "name": "stderr",
     "output_type": "stream",
     "text": [
      "100%|██████████| 128/128 [1:07:03<00:00, 31.44s/it]\n",
      "100%|██████████| 128/128 [1:15:52<00:00, 35.57s/it]\n",
      "  0%|          | 0/128 [00:00<?, ?it/s]"
     ]
    },
    {
     "name": "stdout",
     "output_type": "stream",
     "text": [
      "Dynamic Execution: Conv 2\n"
     ]
    },
    {
     "name": "stderr",
     "output_type": "stream",
     "text": [
      "100%|██████████| 128/128 [34:50<00:00, 16.33s/it]\n",
      "100%|██████████| 128/128 [30:01<00:00, 14.07s/it]\n",
      "  0%|          | 0/128 [00:00<?, ?it/s]"
     ]
    },
    {
     "name": "stdout",
     "output_type": "stream",
     "text": [
      "Dynamic Execution: Dense\n"
     ]
    },
    {
     "name": "stderr",
     "output_type": "stream",
     "text": [
      "100%|██████████| 128/128 [07:15<00:00,  3.40s/it]\n",
      "100%|██████████| 128/128 [03:29<00:00,  1.63s/it]\n"
     ]
    }
   ],
   "source": [
    "for i in range(n_batches):\n",
    "    i_start = i * n_batch\n",
    "    i_stop = (i+1) * n_batch\n",
    "    print(\"starting batch \" + str(i))\n",
    "    \n",
    "    test_subset = tf.data.Dataset.from_tensor_slices((x_test[i_start:i_stop, ...], y_test[i_start:i_stop, ...]))\n",
    "    test_subset = test_subset.batch(n_batch)\n",
    "    \n",
    "    dyn_y = model.evaluate(test_subset, method=\"dynamic\", solver=\"heun\")\n",
    "    \n",
    "    filename = \"runs/cifar_dyn_batch\"+str(i)+(\".npz\")\n",
    "    np.savez_compressed(filename, a=dyn_y.numpy())\n",
    "    "
   ]
  },
  {
   "cell_type": "code",
   "execution_count": 31,
   "metadata": {},
   "outputs": [],
   "source": [
    "#save the labels matching the dataset so ground truth for each sample is known later\n",
    "trueys = y_test[0:n_subsample,...]\n",
    "np.savez_compressed(\"runs/matching_ys.npz\", a = trueys)"
   ]
  },
  {
   "cell_type": "code",
   "execution_count": 32,
   "metadata": {},
   "outputs": [],
   "source": [
    "#run from saved results (can resume from here when results are saved)"
   ]
  },
  {
   "cell_type": "code",
   "execution_count": 33,
   "metadata": {},
   "outputs": [],
   "source": [
    "trueys = np.load(\"runs/matching_ys.npz\")['a']\n",
    "trueys = y_test[0:n_subsample,...]"
   ]
  },
  {
   "cell_type": "code",
   "execution_count": 34,
   "metadata": {},
   "outputs": [
    {
     "data": {
      "text/plain": [
       "<tf.Tensor: shape=(128,), dtype=int64, numpy=\n",
       "array([7, 0, 0, 2, 9, 2, 7, 6, 1, 3, 8, 2, 8, 8, 3, 1, 7, 0, 9, 0, 4, 2,\n",
       "       6, 5, 3, 1, 5, 3, 5, 0, 0, 3, 2, 5, 5, 7, 8, 5, 7, 7, 8, 2, 8, 8,\n",
       "       7, 0, 8, 3, 1, 5, 2, 5, 1, 0, 0, 8, 5, 9, 8, 2, 3, 8, 7, 6, 5, 0,\n",
       "       5, 9, 2, 1, 0, 9, 0, 2, 3, 0, 5, 5, 1, 2, 6, 4, 3, 8, 2, 0, 2, 7,\n",
       "       0, 8, 7, 3, 8, 6, 3, 4, 1, 0, 1, 1, 8, 2, 1, 1, 1, 4, 4, 5, 4, 2,\n",
       "       4, 2, 4, 1, 8, 1, 0, 9, 4, 1, 1, 4, 3, 0, 4, 2, 8, 1])>"
      ]
     },
     "execution_count": 34,
     "metadata": {},
     "output_type": "execute_result"
    }
   ],
   "source": [
    "#the true matching labels\n",
    "trueys"
   ]
  },
  {
   "cell_type": "code",
   "execution_count": 35,
   "metadata": {},
   "outputs": [],
   "source": [
    "all_res = [np.load(\"runs/cifar_dyn_batch\"+str(i)+\".npz\")[\"a\"] for i in range(n_batches)]"
   ]
  },
  {
   "cell_type": "code",
   "execution_count": 36,
   "metadata": {},
   "outputs": [],
   "source": [
    "#get the ouput phases for each sample, cycle, and neuron\n",
    "dyn_yhs0 = tf.concat(all_res, axis=0)"
   ]
  },
  {
   "cell_type": "code",
   "execution_count": 37,
   "metadata": {
    "scrolled": true
   },
   "outputs": [
    {
     "data": {
      "text/plain": [
       "TensorShape([128, 20, 10])"
      ]
     },
     "execution_count": 37,
     "metadata": {},
     "output_type": "execute_result"
    }
   ],
   "source": [
    "dyn_yhs0.shape"
   ]
  },
  {
   "cell_type": "code",
   "execution_count": 39,
   "metadata": {},
   "outputs": [],
   "source": [
    "def predict_ind(phases, ind=-2):\n",
    "    distance = tf.math.abs(phases - 0.5)\n",
    "    indices = o2 = tf.math.argmin(distance, axis=2)\n",
    "    selected = indices[:,ind]\n",
    "\n",
    "    return selected"
   ]
  },
  {
   "cell_type": "code",
   "execution_count": 40,
   "metadata": {},
   "outputs": [],
   "source": [
    "#use the predict function to get the class predicted by the last full cycle\n",
    "dyn_yhs = predict_ind(dyn_yhs0, -2)"
   ]
  },
  {
   "cell_type": "code",
   "execution_count": 41,
   "metadata": {},
   "outputs": [
    {
     "data": {
      "text/plain": [
       "TensorShape([128])"
      ]
     },
     "execution_count": 41,
     "metadata": {},
     "output_type": "execute_result"
    }
   ],
   "source": [
    "#the predicted labels from dynamic execution for each sample\n",
    "dyn_yhs.shape"
   ]
  },
  {
   "cell_type": "code",
   "execution_count": 42,
   "metadata": {
    "scrolled": true
   },
   "outputs": [
    {
     "data": {
      "text/plain": [
       "<tf.Tensor: shape=(128,), dtype=bool, numpy=\n",
       "array([False,  True,  True, False,  True, False,  True, False,  True,\n",
       "       False, False, False,  True,  True, False,  True,  True,  True,\n",
       "        True,  True,  True, False,  True, False, False,  True, False,\n",
       "       False, False,  True,  True, False, False, False, False,  True,\n",
       "        True,  True,  True,  True,  True,  True,  True, False,  True,\n",
       "        True,  True, False,  True,  True, False,  True,  True,  True,\n",
       "       False,  True,  True,  True,  True,  True, False,  True,  True,\n",
       "        True, False,  True, False,  True,  True,  True, False,  True,\n",
       "        True,  True, False,  True,  True,  True,  True,  True,  True,\n",
       "        True,  True,  True, False,  True,  True,  True,  True,  True,\n",
       "        True,  True,  True,  True,  True,  True,  True, False,  True,\n",
       "        True,  True, False,  True,  True,  True,  True, False,  True,\n",
       "        True,  True,  True, False,  True,  True,  True,  True,  True,\n",
       "        True,  True,  True,  True, False, False,  True,  True,  True,\n",
       "        True, False])>"
      ]
     },
     "execution_count": 42,
     "metadata": {},
     "output_type": "execute_result"
    }
   ],
   "source": [
    "dyn_yhs == trueys"
   ]
  },
  {
   "cell_type": "code",
   "execution_count": 43,
   "metadata": {},
   "outputs": [],
   "source": [
    "#accuracy of predictions made at each cycle\n",
    "#last 2 cycles this deep in the network are 'cut off' by the ending time (20.0s) and ignored\n",
    "all_predictions = np.array([np.mean(predict_ind(dyn_yhs0, i) == trueys) for i in range(m_repeats-2)])"
   ]
  },
  {
   "cell_type": "code",
   "execution_count": 44,
   "metadata": {},
   "outputs": [],
   "source": [
    "dpi=100"
   ]
  },
  {
   "cell_type": "code",
   "execution_count": 45,
   "metadata": {},
   "outputs": [
    {
     "data": {
      "text/plain": [
       "<matplotlib.legend.Legend at 0x7f1e20144c10>"
      ]
     },
     "execution_count": 45,
     "metadata": {},
     "output_type": "execute_result"
    },
    {
     "data": {
      "image/png": "[encoded data removed]",
      "text/plain": [
       "<Figure size 600x400 with 1 Axes>"
      ]
     },
     "metadata": {
      "needs_background": "light"
     },
     "output_type": "display_data"
    }
   ],
   "source": [
    "plt.figure(dpi=dpi)\n",
    "plt.plot(1.5+np.linspace(0, 17 , 17), all_predictions[0:17], label=\"1024 Samples, Temporal\",  color=\"blue\")\n",
    "plt.plot(1.5+np.linspace(0, 17 , 17), all_predictions[0:17], 'o',  color=\"blue\")\n",
    "plt.plot(1.5+np.linspace(0, 17 , 17), np.ones(17)*0.7353515625, \"--\", label=\"1024 Samples, Atemporal\", color=\"blue\")\n",
    "plt.xticks(np.arange(2,21,2), np.arange(2,21,2))\n",
    "plt.xlabel(\"Cycle\")\n",
    "plt.ylabel(\"Accuracy\")\n",
    "plt.legend()"
   ]
  },
  {
   "cell_type": "code",
   "execution_count": 25,
   "metadata": {},
   "outputs": [],
   "source": [
    "np.savez_compressed(\"1024_dyn.npz\", a=all_predictions)"
   ]
  },
  {
   "cell_type": "code",
   "execution_count": null,
   "metadata": {},
   "outputs": [],
   "source": [
    "#compute the matching static accuracy"
   ]
  },
  {
   "cell_type": "code",
   "execution_count": 91,
   "metadata": {},
   "outputs": [],
   "source": [
    "test_x, test_y = get_raw_dat(ds_test)"
   ]
  },
  {
   "cell_type": "code",
   "execution_count": 92,
   "metadata": {},
   "outputs": [],
   "source": [
    "first_1024x = test_x[0:1024,...]\n",
    "first_1024y = test_y[0:1024,...]"
   ]
  },
  {
   "cell_type": "code",
   "execution_count": 93,
   "metadata": {},
   "outputs": [],
   "source": [
    "stat_y = model.call(first_1024x)"
   ]
  },
  {
   "cell_type": "code",
   "execution_count": 94,
   "metadata": {},
   "outputs": [],
   "source": [
    "statys = model.predict(stat_y)"
   ]
  },
  {
   "cell_type": "code",
   "execution_count": 95,
   "metadata": {},
   "outputs": [],
   "source": [
    "#the dynamic CIFAR accuracy"
   ]
  },
  {
   "cell_type": "code",
   "execution_count": 96,
   "metadata": {},
   "outputs": [],
   "source": [
    "dyn_a = np.mean(dyn_yhs == trueys)"
   ]
  },
  {
   "cell_type": "code",
   "execution_count": 97,
   "metadata": {},
   "outputs": [
    {
     "data": {
      "text/plain": [
       "<tf.Tensor: shape=(1024,), dtype=int64, numpy=array([1, 1, 9, ..., 4, 3, 4])>"
      ]
     },
     "execution_count": 97,
     "metadata": {},
     "output_type": "execute_result"
    }
   ],
   "source": [
    "statys"
   ]
  },
  {
   "cell_type": "code",
   "execution_count": 98,
   "metadata": {},
   "outputs": [],
   "source": [
    "stat_a = tf.reduce_mean(tf.cast(statys == first_1024y, dtype=\"float\"))"
   ]
  },
  {
   "cell_type": "code",
   "execution_count": 99,
   "metadata": {},
   "outputs": [],
   "source": [
    "#the static CIFAR accuracy"
   ]
  },
  {
   "cell_type": "code",
   "execution_count": 100,
   "metadata": {},
   "outputs": [
    {
     "data": {
      "text/plain": [
       "<tf.Tensor: shape=(), dtype=float32, numpy=0.73339844>"
      ]
     },
     "execution_count": 100,
     "metadata": {},
     "output_type": "execute_result"
    }
   ],
   "source": [
    "stat_a"
   ]
  },
  {
   "cell_type": "code",
   "execution_count": 101,
   "metadata": {},
   "outputs": [],
   "source": [
    "#the accuracy loss"
   ]
  },
  {
   "cell_type": "code",
   "execution_count": 102,
   "metadata": {
    "scrolled": true
   },
   "outputs": [
    {
     "data": {
      "text/plain": [
       "<tf.Tensor: shape=(), dtype=float32, numpy=0.034179688>"
      ]
     },
     "execution_count": 102,
     "metadata": {},
     "output_type": "execute_result"
    }
   ],
   "source": [
    "stat_a - dyn_a"
   ]
  },
  {
   "cell_type": "code",
   "execution_count": null,
   "metadata": {},
   "outputs": [],
   "source": []
  }
 ],
 "metadata": {
  "kernelspec": {
   "display_name": "Python 3",
   "language": "python",
   "name": "python3"
  },
  "language_info": {
   "codemirror_mode": {
    "name": "ipython",
    "version": 3
   },
   "file_extension": ".py",
   "mimetype": "text/x-python",
   "name": "python",
   "nbconvert_exporter": "python",
   "pygments_lexer": "ipython3",
   "version": "3.8.5"
  }
 },
 "nbformat": 4,
 "nbformat_minor": 4
}
