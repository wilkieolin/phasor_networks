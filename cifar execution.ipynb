{
 "cells": [
  {
   "cell_type": "markdown",
   "metadata": {},
   "source": [
    "Notebook which produces data required for figure 6. Executes a CIFAR network temporally."
   ]
  },
  {
   "cell_type": "code",
   "execution_count": 1,
   "metadata": {},
   "outputs": [],
   "source": [
    "import matplotlib.pyplot as plt\n",
    "import numpy as np\n",
    "\n",
    "import tensorflow as tf\n",
    "import tensorflow_datasets as tfds\n",
    "import tensorflow.keras as keras\n",
    "import tensorflow.keras.layers as layers\n",
    "import tensorflow.keras.backend as be"
   ]
  },
  {
   "cell_type": "code",
   "execution_count": 2,
   "metadata": {},
   "outputs": [],
   "source": [
    "from utils import *\n",
    "from data import *\n",
    "from layers import *\n",
    "from models import *"
   ]
  },
  {
   "cell_type": "code",
   "execution_count": 3,
   "metadata": {},
   "outputs": [],
   "source": [
    "from tensorflow.keras.preprocessing.image import ImageDataGenerator"
   ]
  },
  {
   "cell_type": "code",
   "execution_count": 4,
   "metadata": {},
   "outputs": [],
   "source": [
    "# Currently the eager execution mode in dynamic inference leads to GPU memory usage increasing over time. \n",
    "# GPU acceleration does not help accelerate the dynamic inference by much so it should be disabled during the\n",
    "# long inference over 1024 examples to prevent out-of-memory errors on GPU. \n",
    "\n",
    "limit_gpus()\n",
    "set_gpu(None)"
   ]
  },
  {
   "cell_type": "code",
   "execution_count": 5,
   "metadata": {},
   "outputs": [],
   "source": [
    "dataset = \"cifar10\"\n",
    "n_batch = 128\n",
    "ds_train, ds_test, ds_info = load_dataset(dataset, n_batch)\n",
    "\n",
    "input_shape = ds_info.features['image'].shape\n",
    "num_classes = ds_info.features['label'].num_classes"
   ]
  },
  {
   "cell_type": "code",
   "execution_count": 6,
   "metadata": {},
   "outputs": [
    {
     "data": {
      "text/plain": [
       "(32, 32, 3)"
      ]
     },
     "execution_count": 6,
     "metadata": {},
     "output_type": "execute_result"
    }
   ],
   "source": [
    "input_shape"
   ]
  },
  {
   "cell_type": "code",
   "execution_count": 7,
   "metadata": {},
   "outputs": [],
   "source": [
    "m_repeats = 20"
   ]
  },
  {
   "cell_type": "code",
   "execution_count": 8,
   "metadata": {},
   "outputs": [],
   "source": [
    "x_train, y_train = get_raw_dat(ds_train)\n",
    "datagen = ImageDataGenerator(\n",
    "    rotation_range=15,\n",
    "    width_shift_range=0.1,\n",
    "    height_shift_range=0.1,\n",
    "    horizontal_flip=True,\n",
    "    )\n",
    "datagen.fit(x_train)"
   ]
  },
  {
   "cell_type": "code",
   "execution_count": 9,
   "metadata": {
    "scrolled": false
   },
   "outputs": [],
   "source": [
    "model = Conv2DPhasorModel(input_shape, projection=\"dot\", onehot_offset=0.0, \n",
    "                    onehot_phase=0.5,n_hidden=1000, dropout_rate=0.20,\n",
    "                         repeats=m_repeats,\n",
    "                         exec_time=20.0,\n",
    "                         max_step=0.005)"
   ]
  },
  {
   "cell_type": "code",
   "execution_count": 11,
   "metadata": {},
   "outputs": [
    {
     "data": {
      "text/plain": [
       "{'leakage': -0.2,\n",
       " 'period': 1.0,\n",
       " 'window': 0.05,\n",
       " 'spk_mode': 'gradient',\n",
       " 'threshold': 0.03,\n",
       " 'exec_time': 20.0,\n",
       " 'max_step': 0.005}"
      ]
     },
     "execution_count": 11,
     "metadata": {},
     "output_type": "execute_result"
    }
   ],
   "source": [
    "model.dyn_params"
   ]
  },
  {
   "cell_type": "code",
   "execution_count": 12,
   "metadata": {},
   "outputs": [],
   "source": [
    "model.compile(optimizer=\"rmsprop\")"
   ]
  },
  {
   "cell_type": "code",
   "execution_count": 13,
   "metadata": {},
   "outputs": [],
   "source": [
    "#train the model with the augmented dataset or load the pre-trained model (below)\n",
    "#loss = model.train_aug(datagen.flow(x_train, y_train, batch_size=128), 76000)"
   ]
  },
  {
   "cell_type": "code",
   "execution_count": 14,
   "metadata": {},
   "outputs": [],
   "source": [
    "model.load_weights(\"models/cifar1.wg\")\n",
    "model.direction = tf.constant(np.load(\"models/cifar_projection.npz\")[\"a\"])"
   ]
  },
  {
   "cell_type": "code",
   "execution_count": 15,
   "metadata": {},
   "outputs": [],
   "source": [
    "(xs, ys) = next(iter(ds_train))"
   ]
  },
  {
   "cell_type": "code",
   "execution_count": 16,
   "metadata": {},
   "outputs": [
    {
     "data": {
      "text/plain": [
       "<tf.Tensor: shape=(128, 10), dtype=float32, numpy=\n",
       "array([[ 0.05655276,  0.01200876, -0.0137441 , ..., -0.05706671,\n",
       "         0.01007828, -0.02022297],\n",
       "       [ 0.03774589,  0.01146928, -0.00653273, ..., -0.01469834,\n",
       "        -0.01656708,  0.10359748],\n",
       "       [-0.00304408, -0.00797822,  0.2166489 , ...,  0.00787783,\n",
       "         0.00233666,  0.04392024],\n",
       "       ...,\n",
       "       [-0.02847026, -0.02238577,  0.00318194, ..., -0.01499358,\n",
       "         0.02291343,  0.03570843],\n",
       "       [ 0.50240475, -0.00224591, -0.03141884, ...,  0.00614478,\n",
       "        -0.05217361,  0.01051962],\n",
       "       [ 0.35792717,  0.01710453, -0.00322679, ...,  0.01610184,\n",
       "        -0.04836113, -0.01076851]], dtype=float32)>"
      ]
     },
     "execution_count": 16,
     "metadata": {},
     "output_type": "execute_result"
    }
   ],
   "source": [
    "#make a static call first to build the network shapes\n",
    "model(xs)"
   ]
  },
  {
   "cell_type": "code",
   "execution_count": 17,
   "metadata": {
    "scrolled": false
   },
   "outputs": [],
   "source": [
    "#model.accuracy(ds_test, False)"
   ]
  },
  {
   "cell_type": "code",
   "execution_count": 18,
   "metadata": {},
   "outputs": [],
   "source": [
    "# dynamic call"
   ]
  },
  {
   "cell_type": "code",
   "execution_count": 19,
   "metadata": {},
   "outputs": [],
   "source": [
    "n_batches = 1"
   ]
  },
  {
   "cell_type": "code",
   "execution_count": 20,
   "metadata": {},
   "outputs": [],
   "source": [
    "#n_batches = 8"
   ]
  },
  {
   "cell_type": "code",
   "execution_count": 21,
   "metadata": {},
   "outputs": [],
   "source": [
    "n_subsample = n_batch * n_batches"
   ]
  },
  {
   "cell_type": "code",
   "execution_count": 22,
   "metadata": {},
   "outputs": [
    {
     "data": {
      "text/plain": [
       "128"
      ]
     },
     "execution_count": 22,
     "metadata": {},
     "output_type": "execute_result"
    }
   ],
   "source": [
    "n_subsample"
   ]
  },
  {
   "cell_type": "code",
   "execution_count": 23,
   "metadata": {},
   "outputs": [],
   "source": [
    "x_test, y_test = get_raw_dat(ds_test)"
   ]
  },
  {
   "cell_type": "code",
   "execution_count": 24,
   "metadata": {},
   "outputs": [],
   "source": [
    "# save each batch's output as it is computed\n",
    "# dynamic execution with the CIFAR network takes several hours per batch\n",
    "# this task is also done in the included cifar_execution_script.py which can be run safely e.g. in a screen session"
   ]
  },
  {
   "cell_type": "code",
   "execution_count": 25,
   "metadata": {
    "scrolled": false
   },
   "outputs": [
    {
     "name": "stdout",
     "output_type": "stream",
     "text": [
      "starting batch 0\n"
     ]
    },
    {
     "name": "stderr",
     "output_type": "stream",
     "text": [
      "\r",
      "  0%|          | 0/128 [00:00<?, ?it/s]"
     ]
    },
    {
     "name": "stdout",
     "output_type": "stream",
     "text": [
      "Dynamic Execution: Conv 1\n"
     ]
    },
    {
     "name": "stderr",
     "output_type": "stream",
     "text": [
      "100%|██████████| 128/128 [4:03:03<00:00, 113.93s/it] \n",
      "100%|██████████| 128/128 [4:07:37<00:00, 116.07s/it] \n",
      "  0%|          | 0/128 [00:00<?, ?it/s]"
     ]
    },
    {
     "name": "stdout",
     "output_type": "stream",
     "text": [
      "Dynamic Execution: Conv 2\n"
     ]
    },
    {
     "name": "stderr",
     "output_type": "stream",
     "text": [
      "100%|██████████| 128/128 [1:39:59<00:00, 46.87s/it]\n",
      "100%|██████████| 128/128 [1:20:46<00:00, 37.86s/it]\n",
      "  0%|          | 0/128 [00:00<?, ?it/s]"
     ]
    },
    {
     "name": "stdout",
     "output_type": "stream",
     "text": [
      "Dynamic Execution: Dense\n"
     ]
    },
    {
     "name": "stderr",
     "output_type": "stream",
     "text": [
      "100%|██████████| 128/128 [18:19<00:00,  8.59s/it]\n",
      "100%|██████████| 128/128 [06:33<00:00,  3.08s/it]\n"
     ]
    }
   ],
   "source": [
    "for i in range(n_batches):\n",
    "    i_start = i * n_batch\n",
    "    i_stop = (i+1) * n_batch\n",
    "    print(\"starting batch \" + str(i))\n",
    "    \n",
    "    test_subset = tf.data.Dataset.from_tensor_slices((x_test[i_start:i_stop, ...], y_test[i_start:i_stop, ...]))\n",
    "    test_subset = test_subset.batch(n_batch)\n",
    "    \n",
    "    dyn_y = model.evaluate(test_subset, method=\"dynamic\", solver=\"euler\")\n",
    "    \n",
    "    filename = \"runs/cifar_dyn_batch\"+str(i)+(\".npz\")\n",
    "    np.savez_compressed(filename, a=dyn_y.numpy())\n",
    "    "
   ]
  },
  {
   "cell_type": "code",
   "execution_count": 26,
   "metadata": {},
   "outputs": [],
   "source": [
    "#save the labels matching the dataset so ground truth for each sample is known later\n",
    "trueys = y_test[0:n_subsample,...]\n",
    "np.savez_compressed(\"runs/matching_ys.npz\", a = trueys)"
   ]
  },
  {
   "cell_type": "code",
   "execution_count": 27,
   "metadata": {},
   "outputs": [],
   "source": [
    "#run from saved results (can resume from here when results are saved)"
   ]
  },
  {
   "cell_type": "code",
   "execution_count": 28,
   "metadata": {},
   "outputs": [],
   "source": [
    "trueys = np.load(\"runs/matching_ys.npz\")['a']\n",
    "trueys = y_test[0:n_subsample,...]"
   ]
  },
  {
   "cell_type": "code",
   "execution_count": 29,
   "metadata": {},
   "outputs": [
    {
     "data": {
      "text/plain": [
       "<tf.Tensor: shape=(128,), dtype=int64, numpy=\n",
       "array([6, 7, 0, 2, 9, 5, 9, 7, 2, 7, 0, 3, 7, 1, 2, 7, 5, 8, 0, 2, 0, 8,\n",
       "       8, 3, 0, 4, 1, 7, 8, 5, 0, 5, 5, 3, 2, 8, 2, 0, 5, 0, 9, 3, 5, 0,\n",
       "       5, 3, 3, 2, 8, 1, 0, 6, 2, 7, 8, 5, 0, 8, 2, 1, 0, 6, 4, 7, 5, 2,\n",
       "       8, 0, 2, 8, 9, 1, 0, 5, 2, 3, 5, 4, 2, 5, 0, 1, 8, 3, 4, 6, 0, 7,\n",
       "       7, 8, 1, 4, 1, 4, 0, 8, 2, 1, 1, 3, 9, 8, 4, 8, 1, 1, 4, 8, 6, 1,\n",
       "       6, 9, 2, 1, 5, 3, 4, 0, 0, 8, 2, 4, 1, 7, 2, 4, 7, 1])>"
      ]
     },
     "execution_count": 29,
     "metadata": {},
     "output_type": "execute_result"
    }
   ],
   "source": [
    "#the true matching labels\n",
    "trueys"
   ]
  },
  {
   "cell_type": "code",
   "execution_count": 30,
   "metadata": {},
   "outputs": [],
   "source": [
    "all_res = [np.load(\"runs/cifar_dyn_batch\"+str(i)+\".npz\")[\"a\"] for i in range(n_batches)]"
   ]
  },
  {
   "cell_type": "code",
   "execution_count": 31,
   "metadata": {},
   "outputs": [],
   "source": [
    "#get the ouput phases for each sample, cycle, and neuron\n",
    "dyn_yhs0 = tf.concat(all_res, axis=0)"
   ]
  },
  {
   "cell_type": "code",
   "execution_count": 32,
   "metadata": {
    "scrolled": true
   },
   "outputs": [
    {
     "data": {
      "text/plain": [
       "TensorShape([128, 20, 10])"
      ]
     },
     "execution_count": 32,
     "metadata": {},
     "output_type": "execute_result"
    }
   ],
   "source": [
    "dyn_yhs0.shape"
   ]
  },
  {
   "cell_type": "code",
   "execution_count": 33,
   "metadata": {},
   "outputs": [],
   "source": [
    "#use the predict function to get the class predicted by the last full cycle\n",
    "dyn_yhs = model.predict(dyn_yhs0, method=\"dynamic\")"
   ]
  },
  {
   "cell_type": "code",
   "execution_count": 34,
   "metadata": {},
   "outputs": [
    {
     "data": {
      "text/plain": [
       "(128,)"
      ]
     },
     "execution_count": 34,
     "metadata": {},
     "output_type": "execute_result"
    }
   ],
   "source": [
    "#the predicted labels from dynamic execution for each sample\n",
    "dyn_yhs.shape"
   ]
  },
  {
   "cell_type": "code",
   "execution_count": 35,
   "metadata": {
    "scrolled": true
   },
   "outputs": [
    {
     "data": {
      "text/plain": [
       "<tf.Tensor: shape=(128,), dtype=bool, numpy=\n",
       "array([ True,  True,  True, False, False, False, False, False, False,\n",
       "       False,  True, False, False, False, False, False, False, False,\n",
       "       False, False, False,  True, False, False, False,  True, False,\n",
       "       False, False, False, False, False, False, False, False,  True,\n",
       "       False,  True, False,  True, False,  True, False, False,  True,\n",
       "       False, False, False,  True, False, False, False, False, False,\n",
       "       False, False, False,  True,  True, False, False, False, False,\n",
       "       False, False, False, False, False,  True, False,  True,  True,\n",
       "        True,  True,  True,  True, False, False, False, False,  True,\n",
       "       False, False, False, False,  True, False, False, False,  True,\n",
       "        True,  True, False, False,  True, False,  True,  True, False,\n",
       "       False, False, False, False, False, False, False,  True, False,\n",
       "       False, False,  True, False, False, False,  True, False, False,\n",
       "        True,  True, False, False, False,  True,  True, False,  True,\n",
       "       False, False])>"
      ]
     },
     "execution_count": 35,
     "metadata": {},
     "output_type": "execute_result"
    }
   ],
   "source": [
    "dyn_yhs == trueys"
   ]
  },
  {
   "cell_type": "code",
   "execution_count": 36,
   "metadata": {},
   "outputs": [],
   "source": [
    "#accuracy of predictions made at each cycle\n",
    "#last 2 cycles this deep in the network are 'cut off' by the ending time (20.0s) and ignored\n",
    "all_predictions = np.array([np.mean(model._predict_ind(dyn_yhs0, i) == trueys) for i in range(m_repeats-2)])"
   ]
  },
  {
   "cell_type": "code",
   "execution_count": 37,
   "metadata": {},
   "outputs": [],
   "source": [
    "dpi=100"
   ]
  },
  {
   "cell_type": "code",
   "execution_count": 38,
   "metadata": {},
   "outputs": [
    {
     "data": {
      "text/plain": [
       "<matplotlib.legend.Legend at 0x7f8200410670>"
      ]
     },
     "execution_count": 38,
     "metadata": {},
     "output_type": "execute_result"
    },
    {
     "data": {
      "image/png": "[encoded data removed]",
      "text/plain": [
       "<Figure size 600x400 with 1 Axes>"
      ]
     },
     "metadata": {
      "needs_background": "light"
     },
     "output_type": "display_data"
    }
   ],
   "source": [
    "plt.figure(dpi=dpi)\n",
    "plt.plot(1.5+np.linspace(0, 17 , 17), all_predictions[0:17], label=\"1024 Samples, Temporal\",  color=\"blue\")\n",
    "plt.plot(1.5+np.linspace(0, 17 , 17), all_predictions[0:17], 'o',  color=\"blue\")\n",
    "plt.plot(1.5+np.linspace(0, 17 , 17), np.ones(17)*0.7353515625, \"--\", label=\"1024 Samples, Atemporal\", color=\"blue\")\n",
    "plt.xticks(np.arange(2,21,2), np.arange(2,21,2))\n",
    "plt.xlabel(\"Cycle\")\n",
    "plt.ylabel(\"Accuracy\")\n",
    "plt.legend()"
   ]
  },
  {
   "cell_type": "code",
   "execution_count": 25,
   "metadata": {},
   "outputs": [],
   "source": [
    "np.savez_compressed(\"1024_dyn.npz\", a=all_predictions)"
   ]
  },
  {
   "cell_type": "code",
   "execution_count": null,
   "metadata": {},
   "outputs": [],
   "source": [
    "#compute the matching static accuracy"
   ]
  },
  {
   "cell_type": "code",
   "execution_count": 91,
   "metadata": {},
   "outputs": [],
   "source": [
    "test_x, test_y = get_raw_dat(ds_test)"
   ]
  },
  {
   "cell_type": "code",
   "execution_count": 92,
   "metadata": {},
   "outputs": [],
   "source": [
    "first_1024x = test_x[0:1024,...]\n",
    "first_1024y = test_y[0:1024,...]"
   ]
  },
  {
   "cell_type": "code",
   "execution_count": 93,
   "metadata": {},
   "outputs": [],
   "source": [
    "stat_y = model.call(first_1024x)"
   ]
  },
  {
   "cell_type": "code",
   "execution_count": 94,
   "metadata": {},
   "outputs": [],
   "source": [
    "statys = model.predict(stat_y)"
   ]
  },
  {
   "cell_type": "code",
   "execution_count": 95,
   "metadata": {},
   "outputs": [],
   "source": [
    "#the dynamic CIFAR accuracy"
   ]
  },
  {
   "cell_type": "code",
   "execution_count": 96,
   "metadata": {},
   "outputs": [],
   "source": [
    "dyn_a = np.mean(dyn_yhs == trueys)"
   ]
  },
  {
   "cell_type": "code",
   "execution_count": 97,
   "metadata": {},
   "outputs": [
    {
     "data": {
      "text/plain": [
       "<tf.Tensor: shape=(1024,), dtype=int64, numpy=array([1, 1, 9, ..., 4, 3, 4])>"
      ]
     },
     "execution_count": 97,
     "metadata": {},
     "output_type": "execute_result"
    }
   ],
   "source": [
    "statys"
   ]
  },
  {
   "cell_type": "code",
   "execution_count": 98,
   "metadata": {},
   "outputs": [],
   "source": [
    "stat_a = tf.reduce_mean(tf.cast(statys == first_1024y, dtype=\"float\"))"
   ]
  },
  {
   "cell_type": "code",
   "execution_count": 99,
   "metadata": {},
   "outputs": [],
   "source": [
    "#the static CIFAR accuracy"
   ]
  },
  {
   "cell_type": "code",
   "execution_count": 100,
   "metadata": {},
   "outputs": [
    {
     "data": {
      "text/plain": [
       "<tf.Tensor: shape=(), dtype=float32, numpy=0.73339844>"
      ]
     },
     "execution_count": 100,
     "metadata": {},
     "output_type": "execute_result"
    }
   ],
   "source": [
    "stat_a"
   ]
  },
  {
   "cell_type": "code",
   "execution_count": 101,
   "metadata": {},
   "outputs": [],
   "source": [
    "#the accuracy loss"
   ]
  },
  {
   "cell_type": "code",
   "execution_count": 102,
   "metadata": {
    "scrolled": true
   },
   "outputs": [
    {
     "data": {
      "text/plain": [
       "<tf.Tensor: shape=(), dtype=float32, numpy=0.034179688>"
      ]
     },
     "execution_count": 102,
     "metadata": {},
     "output_type": "execute_result"
    }
   ],
   "source": [
    "stat_a - dyn_a"
   ]
  },
  {
   "cell_type": "code",
   "execution_count": null,
   "metadata": {},
   "outputs": [],
   "source": []
  }
 ],
 "metadata": {
  "kernelspec": {
   "display_name": "Python 3",
   "language": "python",
   "name": "python3"
  },
  "language_info": {
   "codemirror_mode": {
    "name": "ipython",
    "version": 3
   },
   "file_extension": ".py",
   "mimetype": "text/x-python",
   "name": "python",
   "nbconvert_exporter": "python",
   "pygments_lexer": "ipython3",
   "version": "3.8.5"
  }
 },
 "nbformat": 4,
 "nbformat_minor": 4
}
