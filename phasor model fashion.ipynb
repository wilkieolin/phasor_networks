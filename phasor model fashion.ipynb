{
 "cells": [
  {
   "cell_type": "code",
   "execution_count": 1,
   "metadata": {},
   "outputs": [],
   "source": [
    "import matplotlib.pyplot as plt\n",
    "import numpy as np\n",
    "\n",
    "import tensorflow as tf\n",
    "import tensorflow_datasets as tfds\n",
    "import tensorflow.keras as keras\n",
    "import tensorflow.keras.layers as layers\n",
    "import tensorflow.keras.backend as be"
   ]
  },
  {
   "cell_type": "code",
   "execution_count": 2,
   "metadata": {},
   "outputs": [],
   "source": [
    "from utils import *\n",
    "from data import *\n",
    "from layers import *\n",
    "from models import *"
   ]
  },
  {
   "cell_type": "code",
   "execution_count": 3,
   "metadata": {},
   "outputs": [],
   "source": [
    "from models import *"
   ]
  },
  {
   "cell_type": "code",
   "execution_count": 4,
   "metadata": {},
   "outputs": [
    {
     "name": "stdout",
     "output_type": "stream",
     "text": [
      "Sun Mar  6 13:58:19 2022       \n",
      "+-----------------------------------------------------------------------------+\n",
      "| NVIDIA-SMI 470.103.01   Driver Version: 470.103.01   CUDA Version: 11.4     |\n",
      "|-------------------------------+----------------------+----------------------+\n",
      "| GPU  Name        Persistence-M| Bus-Id        Disp.A | Volatile Uncorr. ECC |\n",
      "| Fan  Temp  Perf  Pwr:Usage/Cap|         Memory-Usage | GPU-Util  Compute M. |\n",
      "|                               |                      |               MIG M. |\n",
      "|===============================+======================+======================|\n",
      "|   0  NVIDIA GeForce ...  Off  | 00000000:3B:00.0 Off |                  N/A |\n",
      "| 25%   31C    P8    18W / 250W |      3MiB / 11019MiB |      0%      Default |\n",
      "|                               |                      |                  N/A |\n",
      "+-------------------------------+----------------------+----------------------+\n",
      "|   1  NVIDIA GeForce ...  Off  | 00000000:5E:00.0 Off |                  N/A |\n",
      "| 26%   38C    P8    21W / 250W |      3MiB / 11019MiB |      0%      Default |\n",
      "|                               |                      |                  N/A |\n",
      "+-------------------------------+----------------------+----------------------+\n",
      "|   2  NVIDIA GeForce ...  Off  | 00000000:86:00.0 Off |                  N/A |\n",
      "| 36%   63C    P2   227W / 250W |   8090MiB / 11019MiB |     62%      Default |\n",
      "|                               |                      |                  N/A |\n",
      "+-------------------------------+----------------------+----------------------+\n",
      "|   3  NVIDIA GeForce ...  Off  | 00000000:D8:00.0 Off |                  N/A |\n",
      "| 35%   51C    P2    69W / 250W |   8130MiB / 11019MiB |      3%      Default |\n",
      "|                               |                      |                  N/A |\n",
      "+-------------------------------+----------------------+----------------------+\n",
      "                                                                               \n",
      "+-----------------------------------------------------------------------------+\n",
      "| Processes:                                                                  |\n",
      "|  GPU   GI   CI        PID   Type   Process name                  GPU Memory |\n",
      "|        ID   ID                                                   Usage      |\n",
      "|=============================================================================|\n",
      "|    2   N/A  N/A     10930      C   python                           8087MiB |\n",
      "|    3   N/A  N/A      9258      C   python                           8127MiB |\n",
      "+-----------------------------------------------------------------------------+\n"
     ]
    }
   ],
   "source": [
    "!nvidia-smi"
   ]
  },
  {
   "cell_type": "code",
   "execution_count": 5,
   "metadata": {},
   "outputs": [],
   "source": [
    "limit_gpus()\n",
    "set_gpu(1)"
   ]
  },
  {
   "cell_type": "code",
   "execution_count": 6,
   "metadata": {},
   "outputs": [],
   "source": [
    "dpi=100"
   ]
  },
  {
   "cell_type": "code",
   "execution_count": 7,
   "metadata": {},
   "outputs": [
    {
     "name": "stderr",
     "output_type": "stream",
     "text": [
      "2022-03-06 13:58:21.609272: I tensorflow/core/platform/cpu_feature_guard.cc:151] This TensorFlow binary is optimized with oneAPI Deep Neural Network Library (oneDNN) to use the following CPU instructions in performance-critical operations:  AVX2 AVX512F FMA\n",
      "To enable them in other operations, rebuild TensorFlow with the appropriate compiler flags.\n",
      "2022-03-06 13:58:22.191999: I tensorflow/core/common_runtime/gpu/gpu_device.cc:1525] Created device /job:localhost/replica:0/task:0/device:GPU:0 with 9649 MB memory:  -> device: 1, name: NVIDIA GeForce RTX 2080 Ti, pci bus id: 0000:5e:00.0, compute capability: 7.5\n"
     ]
    }
   ],
   "source": [
    "dataset = \"fashion_mnist\"\n",
    "ds_train, ds_test, ds_info = load_dataset(dataset, 128)\n",
    "\n",
    "input_shape = ds_info.features['image'].shape\n",
    "num_classes = ds_info.features['label'].num_classes"
   ]
  },
  {
   "cell_type": "code",
   "execution_count": 8,
   "metadata": {},
   "outputs": [],
   "source": [
    "x_train, y_train = get_raw_dat(ds_train)"
   ]
  },
  {
   "cell_type": "code",
   "execution_count": 9,
   "metadata": {},
   "outputs": [],
   "source": [
    "x_test, y_test = get_raw_dat(ds_test)"
   ]
  },
  {
   "cell_type": "code",
   "execution_count": 10,
   "metadata": {},
   "outputs": [],
   "source": [
    "xs, ys = next(iter(ds_train))"
   ]
  },
  {
   "cell_type": "code",
   "execution_count": 11,
   "metadata": {},
   "outputs": [
    {
     "data": {
      "text/plain": [
       "(28, 28, 1)"
      ]
     },
     "execution_count": 11,
     "metadata": {},
     "output_type": "execute_result"
    }
   ],
   "source": [
    "input_shape"
   ]
  },
  {
   "cell_type": "code",
   "execution_count": 12,
   "metadata": {},
   "outputs": [],
   "source": [
    "model = PhasorModel(input_shape, \n",
    "                    onehot_offset=0.0, \n",
    "                    onehot_phase=0.5,\n",
    "                    projection=\"dot\",\n",
    "                   \n",
    "                   exec_time=5.0,\n",
    "                   repeats=5,\n",
    "                   max_step=0.02)"
   ]
  },
  {
   "cell_type": "code",
   "execution_count": 13,
   "metadata": {},
   "outputs": [],
   "source": [
    "ys0 = model(xs)"
   ]
  },
  {
   "cell_type": "code",
   "execution_count": 14,
   "metadata": {},
   "outputs": [
    {
     "data": {
      "text/plain": [
       "(array([ 28.,  19.,  29., 107., 446., 415., 108.,  31.,  40.,  57.]),\n",
       " array([-0.99490505, -0.7955456 , -0.5961861 , -0.39682665, -0.1974672 ,\n",
       "         0.00189227,  0.20125173,  0.4006112 ,  0.59997064,  0.7993301 ,\n",
       "         0.9986896 ], dtype=float32),\n",
       " <BarContainer object of 10 artists>)"
      ]
     },
     "execution_count": 14,
     "metadata": {},
     "output_type": "execute_result"
    },
    {
     "data": {
      "image/png": "[encoded data removed]",
      "text/plain": [
       "<Figure size 432x288 with 1 Axes>"
      ]
     },
     "metadata": {
      "needs_background": "light"
     },
     "output_type": "display_data"
    }
   ],
   "source": [
    "plt.hist(ys0.numpy().ravel())"
   ]
  },
  {
   "cell_type": "code",
   "execution_count": 15,
   "metadata": {},
   "outputs": [],
   "source": [
    "model.compile(optimizer=\"rmsprop\")"
   ]
  },
  {
   "cell_type": "code",
   "execution_count": 16,
   "metadata": {},
   "outputs": [],
   "source": [
    "model.mask_angle = 0.1"
   ]
  },
  {
   "cell_type": "code",
   "execution_count": 17,
   "metadata": {},
   "outputs": [],
   "source": [
    "yh1 = model(xs)"
   ]
  },
  {
   "cell_type": "code",
   "execution_count": 18,
   "metadata": {},
   "outputs": [
    {
     "data": {
      "text/plain": [
       "<matplotlib.colorbar.Colorbar at 0x7f331e945970>"
      ]
     },
     "execution_count": 18,
     "metadata": {},
     "output_type": "execute_result"
    },
    {
     "data": {
      "image/png": "[encoded data removed]",
      "text/plain": [
       "<Figure size 432x288 with 2 Axes>"
      ]
     },
     "metadata": {
      "needs_background": "light"
     },
     "output_type": "display_data"
    }
   ],
   "source": [
    "plt.pcolor(yh1)\n",
    "plt.colorbar()"
   ]
  },
  {
   "cell_type": "code",
   "execution_count": 19,
   "metadata": {},
   "outputs": [
    {
     "data": {
      "text/plain": [
       "<matplotlib.colorbar.Colorbar at 0x7f331e7c65e0>"
      ]
     },
     "execution_count": 19,
     "metadata": {},
     "output_type": "execute_result"
    },
    {
     "data": {
      "image/png": "[encoded data removed]",
      "text/plain": [
       "<Figure size 432x288 with 2 Axes>"
      ]
     },
     "metadata": {
      "needs_background": "light"
     },
     "output_type": "display_data"
    }
   ],
   "source": [
    "plt.pcolor(model.to_phase(ys))\n",
    "plt.colorbar()"
   ]
  },
  {
   "cell_type": "code",
   "execution_count": 20,
   "metadata": {
    "scrolled": true
   },
   "outputs": [
    {
     "name": "stdout",
     "output_type": "stream",
     "text": [
      "Training loss tf.Tensor(0.30587977, shape=(), dtype=float32)\n",
      "Training loss tf.Tensor(0.06894432, shape=(), dtype=float32)\n",
      "Training loss tf.Tensor(0.046655454, shape=(), dtype=float32)\n",
      "Training loss tf.Tensor(0.047416203, shape=(), dtype=float32)\n",
      "Training loss tf.Tensor(0.03938836, shape=(), dtype=float32)\n"
     ]
    }
   ],
   "source": [
    "loss = model.train(ds_train, 1)"
   ]
  },
  {
   "cell_type": "code",
   "execution_count": 21,
   "metadata": {},
   "outputs": [
    {
     "data": {
      "text/plain": [
       "[<matplotlib.lines.Line2D at 0x7f331e72f760>]"
      ]
     },
     "execution_count": 21,
     "metadata": {},
     "output_type": "execute_result"
    },
    {
     "data": {
      "image/png": "[encoded data removed]",
      "text/plain": [
       "<Figure size 432x288 with 1 Axes>"
      ]
     },
     "metadata": {
      "needs_background": "light"
     },
     "output_type": "display_data"
    }
   ],
   "source": [
    "plt.semilogy(loss)"
   ]
  },
  {
   "cell_type": "code",
   "execution_count": 22,
   "metadata": {},
   "outputs": [],
   "source": [
    "conf = model.accuracy(ds_test)"
   ]
  },
  {
   "cell_type": "code",
   "execution_count": 23,
   "metadata": {},
   "outputs": [
    {
     "data": {
      "text/plain": [
       "<matplotlib.collections.PolyCollection at 0x7f331e5f2880>"
      ]
     },
     "execution_count": 23,
     "metadata": {},
     "output_type": "execute_result"
    },
    {
     "data": {
      "image/png": "[encoded data removed]",
      "text/plain": [
       "<Figure size 432x288 with 1 Axes>"
      ]
     },
     "metadata": {
      "needs_background": "light"
     },
     "output_type": "display_data"
    }
   ],
   "source": [
    "plt.pcolor(conf[0])"
   ]
  },
  {
   "cell_type": "code",
   "execution_count": 24,
   "metadata": {},
   "outputs": [
    {
     "data": {
      "text/plain": [
       "<tf.Tensor: shape=(), dtype=float64, numpy=0.792>"
      ]
     },
     "execution_count": 24,
     "metadata": {},
     "output_type": "execute_result"
    }
   ],
   "source": [
    "confusion_to_accuracy(conf)"
   ]
  },
  {
   "cell_type": "code",
   "execution_count": 25,
   "metadata": {},
   "outputs": [
    {
     "data": {
      "text/plain": [
       "<matplotlib.colorbar.Colorbar at 0x7f2b9d9dfca0>"
      ]
     },
     "execution_count": 25,
     "metadata": {},
     "output_type": "execute_result"
    },
    {
     "data": {
      "image/png": "[encoded data removed]",
      "text/plain": [
       "<Figure size 432x288 with 2 Axes>"
      ]
     },
     "metadata": {
      "needs_background": "light"
     },
     "output_type": "display_data"
    }
   ],
   "source": [
    "plt.imshow(xs[0,...], cmap=\"gray\")\n",
    "plt.colorbar()"
   ]
  },
  {
   "cell_type": "code",
   "execution_count": 25,
   "metadata": {},
   "outputs": [],
   "source": [
    "yh1 = model(xs)"
   ]
  },
  {
   "cell_type": "code",
   "execution_count": 26,
   "metadata": {},
   "outputs": [
    {
     "data": {
      "text/plain": [
       "<matplotlib.colorbar.Colorbar at 0x7f331e4ac3a0>"
      ]
     },
     "execution_count": 26,
     "metadata": {},
     "output_type": "execute_result"
    },
    {
     "data": {
      "image/png": "[encoded data removed]",
      "text/plain": [
       "<Figure size 432x288 with 2 Axes>"
      ]
     },
     "metadata": {
      "needs_background": "light"
     },
     "output_type": "display_data"
    }
   ],
   "source": [
    "plt.pcolor(yh1)\n",
    "plt.colorbar()"
   ]
  },
  {
   "cell_type": "code",
   "execution_count": null,
   "metadata": {},
   "outputs": [],
   "source": []
  },
  {
   "cell_type": "code",
   "execution_count": 26,
   "metadata": {},
   "outputs": [],
   "source": [
    "preprocess = keras.Sequential([model.layers[0]])"
   ]
  },
  {
   "cell_type": "code",
   "execution_count": 27,
   "metadata": {},
   "outputs": [],
   "source": [
    "input_spikes = model.phase_to_train(tf.multiply(preprocess(xs[0:10,...]), model.direction))"
   ]
  },
  {
   "cell_type": "code",
   "execution_count": 28,
   "metadata": {},
   "outputs": [
    {
     "name": "stderr",
     "output_type": "stream",
     "text": [
      "100%|█████████████████████████████████████████████| 2/2 [00:05<00:00,  2.95s/it]\n",
      "100%|█████████████████████████████████████████████| 2/2 [00:05<00:00,  2.67s/it]\n"
     ]
    },
    {
     "data": {
      "text/plain": [
       "array([[[-0.01962478,  0.54037522,  0.06037522,  0.06037522,\n",
       "          0.02037522,  0.06037522,  0.        ,  0.06037522,\n",
       "          0.06037522,  0.02037522],\n",
       "        [-0.01962478,  0.54037522,  0.06037522,  0.06037522,\n",
       "          0.02037522,  0.06037522,  0.        ,  0.06037522,\n",
       "          0.06037522,  0.02037522],\n",
       "        [-0.01962478,  0.54037522,  0.06037522,  0.06037522,\n",
       "          0.02037522,  0.06037522,  0.        ,  0.06037522,\n",
       "          0.06037522,  0.02037522],\n",
       "        [-0.01962478,  0.54037522,  0.06037522,  0.06037522,\n",
       "          0.02037522,  0.06037522,  0.        ,  0.06037522,\n",
       "          0.06037522,  0.02037522],\n",
       "        [-0.01962478,  0.54037522,  0.06037522,  0.06037522,\n",
       "          0.02037522,  0.06037522,  0.        ,  0.06037522,\n",
       "          0.06037522,  0.02037522]],\n",
       "\n",
       "       [[ 0.01887221,  0.01887221,  0.01887221,  0.01887221,\n",
       "          0.05887221,  0.05887221,  0.01887221,  0.        ,\n",
       "         -0.02112779,  0.33887221],\n",
       "        [ 0.01887221,  0.01887221,  0.01887221,  0.01887221,\n",
       "          0.05887221,  0.05887221,  0.01887221,  0.        ,\n",
       "         -0.02112779,  0.33887221],\n",
       "        [ 0.01887221,  0.01887221,  0.01887221,  0.01887221,\n",
       "          0.05887221,  0.05887221,  0.01887221,  0.        ,\n",
       "         -0.02112779,  0.33887221],\n",
       "        [ 0.01887221,  0.01887221,  0.01887221,  0.01887221,\n",
       "          0.05887221,  0.05887221,  0.01887221,  0.        ,\n",
       "         -0.02112779,  0.33887221],\n",
       "        [ 0.01887221,  0.01887221,  0.01887221,  0.01887221,\n",
       "          0.05887221,  0.05887221,  0.01887221,  0.        ,\n",
       "         -0.02112779,  0.33887221]]])"
      ]
     },
     "execution_count": 28,
     "metadata": {},
     "output_type": "execute_result"
    }
   ],
   "source": [
    "model.call_dynamic(xs[0:2,...])"
   ]
  },
  {
   "cell_type": "code",
   "execution_count": 29,
   "metadata": {},
   "outputs": [
    {
     "data": {
      "text/plain": [
       "Text(0.5, 1.0, 'Input Layer')"
      ]
     },
     "execution_count": 29,
     "metadata": {},
     "output_type": "execute_result"
    },
    {
     "data": {
      "image/png": "[encoded data removed]",
      "text/plain": [
       "<Figure size 500x500 with 1 Axes>"
      ]
     },
     "metadata": {
      "needs_background": "light"
     },
     "output_type": "display_data"
    }
   ],
   "source": [
    "plt.figure(dpi=dpi, figsize=(5,5))\n",
    "for i in range(10):\n",
    "    plt.plot([0,784],[0.0+i,0+i], color=\"red\")\n",
    "plt.scatter(input_spikes[0][0], input_spikes[0][1], label=\"Input Spikes (Drive)\", s=4)\n",
    "#plt.scatter(dynamic_spikes[0][0], dynamic_spikes[0][1], label=\"Output Spikes (Response)\")\n",
    "#plt.xticks(lblinds, np.around(phases.ravel()[lblinds], decimals=2));\n",
    "\n",
    "plt.xlabel(\"Neuron\")\n",
    "plt.ylabel(\"Spike Time (s)\")\n",
    "plt.ylim(0,5)\n",
    "#plt.ylim(-0.5,10)\n",
    "plt.title(\"Input Layer\")"
   ]
  },
  {
   "cell_type": "code",
   "execution_count": 30,
   "metadata": {},
   "outputs": [],
   "source": [
    "spk_layer1 = model.dense1.spike_trains"
   ]
  },
  {
   "cell_type": "code",
   "execution_count": 31,
   "metadata": {},
   "outputs": [
    {
     "data": {
      "text/plain": [
       "Text(0.5, 1.0, 'Dense 1')"
      ]
     },
     "execution_count": 31,
     "metadata": {},
     "output_type": "execute_result"
    },
    {
     "data": {
      "image/png": "[encoded data removed]",
      "text/plain": [
       "<Figure size 200x500 with 1 Axes>"
      ]
     },
     "metadata": {
      "needs_background": "light"
     },
     "output_type": "display_data"
    }
   ],
   "source": [
    "plt.figure(dpi=dpi, figsize=(2,5))\n",
    "#plt.scatter(dynamic_input[0][0], dynamic_input[0][1], label=\"Input Spikes (Drive)\")\n",
    "for i in range(5):\n",
    "    plt.plot([0,100],[0.25+i,0.25+i], color=\"red\")\n",
    "plt.scatter(spk_layer1[0][0], spk_layer1[0][1], label=\"Output Spikes (Response)\", color=\"green\", s=8)\n",
    "#plt.xticks(lblinds, np.around(phases.ravel()[lblinds], decimals=2));\n",
    "plt.xlabel(\"Neuron\")\n",
    "plt.ylabel(\"Spike Time (s)\")\n",
    "#plt.ylim(-0.5,10)\n",
    "plt.title(\"Dense 1\")"
   ]
  },
  {
   "cell_type": "code",
   "execution_count": 32,
   "metadata": {},
   "outputs": [],
   "source": [
    "spk_layer2 = model.dense2.spike_trains"
   ]
  },
  {
   "cell_type": "code",
   "execution_count": 33,
   "metadata": {},
   "outputs": [
    {
     "data": {
      "text/plain": [
       "Text(0.5, 1.0, 'Dense 2')"
      ]
     },
     "execution_count": 33,
     "metadata": {},
     "output_type": "execute_result"
    },
    {
     "data": {
      "image/png": "[encoded data removed]",
      "text/plain": [
       "<Figure size 200x500 with 1 Axes>"
      ]
     },
     "metadata": {
      "needs_background": "light"
     },
     "output_type": "display_data"
    }
   ],
   "source": [
    "plt.figure(dpi=dpi, figsize=(2,5))\n",
    "#plt.scatter(dynamic_input[0][0], dynamic_input[0][1], label=\"Input Spikes (Drive)\")\n",
    "for i in range(5):\n",
    "    plt.plot([0,10],[0.50+i,0.50+i], color=\"red\")\n",
    "plt.scatter(spk_layer2[0][0], spk_layer2[0][1], label=\"Output Spikes (Response)\", color=\"purple\", s=8)\n",
    "#plt.xticks(lblinds, np.around(phases.ravel()[lblinds], decimals=2));\n",
    "plt.xlabel(\"Neuron\")\n",
    "plt.ylabel(\"Spike Time (s)\")\n",
    "#plt.ylim(-0.5,10)\n",
    "plt.title(\"Dense 2\")"
   ]
  },
  {
   "cell_type": "code",
   "execution_count": 32,
   "metadata": {},
   "outputs": [],
   "source": [
    "#execution sensitivity test"
   ]
  },
  {
   "cell_type": "code",
   "execution_count": 33,
   "metadata": {},
   "outputs": [],
   "source": [
    "points = np.logspace(2.5, 0.7, 21).astype(\"int\")"
   ]
  },
  {
   "cell_type": "code",
   "execution_count": 34,
   "metadata": {},
   "outputs": [
    {
     "data": {
      "text/plain": [
       "array([316, 257, 208, 169, 138, 112,  91,  74,  60,  48,  39,  32,  26,\n",
       "        21,  17,  14,  11,   9,   7,   6,   5])"
      ]
     },
     "execution_count": 34,
     "metadata": {},
     "output_type": "execute_result"
    }
   ],
   "source": [
    "points"
   ]
  },
  {
   "cell_type": "code",
   "execution_count": 35,
   "metadata": {},
   "outputs": [],
   "source": [
    "dts = 1.0 / points"
   ]
  },
  {
   "cell_type": "code",
   "execution_count": 36,
   "metadata": {},
   "outputs": [
    {
     "data": {
      "text/plain": [
       "array([0.00316456, 0.00389105, 0.00480769, 0.00591716, 0.00724638,\n",
       "       0.00892857, 0.01098901, 0.01351351, 0.01666667, 0.02083333,\n",
       "       0.02564103, 0.03125   , 0.03846154, 0.04761905, 0.05882353,\n",
       "       0.07142857, 0.09090909, 0.11111111, 0.14285714, 0.16666667,\n",
       "       0.2       ])"
      ]
     },
     "execution_count": 36,
     "metadata": {},
     "output_type": "execute_result"
    }
   ],
   "source": [
    "dts"
   ]
  },
  {
   "cell_type": "code",
   "execution_count": 37,
   "metadata": {},
   "outputs": [],
   "source": [
    "x_subset = x_test[0:128,...]\n",
    "y_subset = y_test[0:128,...]"
   ]
  },
  {
   "cell_type": "code",
   "execution_count": 38,
   "metadata": {},
   "outputs": [
    {
     "data": {
      "text/plain": [
       "{'leakage': -0.2,\n",
       " 'period': 1.0,\n",
       " 'window': 0.05,\n",
       " 'spk_mode': 'gradient',\n",
       " 'threshold': 0.03,\n",
       " 'exec_time': 5.0,\n",
       " 'max_step': 0.02}"
      ]
     },
     "execution_count": 38,
     "metadata": {},
     "output_type": "execute_result"
    }
   ],
   "source": [
    "model.dyn_params"
   ]
  },
  {
   "cell_type": "code",
   "execution_count": 39,
   "metadata": {},
   "outputs": [
    {
     "name": "stderr",
     "output_type": "stream",
     "text": [
      "100%|██████████| 128/128 [01:15<00:00,  1.69it/s]\n",
      "100%|██████████| 128/128 [01:11<00:00,  1.80it/s]\n"
     ]
    }
   ],
   "source": [
    "out = model.call_dynamic(x_subset, solver=\"heun\")"
   ]
  },
  {
   "cell_type": "code",
   "execution_count": 40,
   "metadata": {},
   "outputs": [],
   "source": [
    "ys0 = model.predict(out, method=\"dynamic_last\")"
   ]
  },
  {
   "cell_type": "code",
   "execution_count": 41,
   "metadata": {},
   "outputs": [
    {
     "data": {
      "text/plain": [
       "0.8515625"
      ]
     },
     "execution_count": 41,
     "metadata": {},
     "output_type": "execute_result"
    }
   ],
   "source": [
    "np.mean(ys0 == y_subset)"
   ]
  },
  {
   "cell_type": "code",
   "execution_count": 42,
   "metadata": {},
   "outputs": [],
   "source": [
    "def test_sensitivity(dts):\n",
    "    results = []\n",
    "    \n",
    "    for dt in dts:\n",
    "        model.dense1.max_step = dt\n",
    "        model.dense2.max_step = dt\n",
    "        \n",
    "        out = [model.call_dynamic(x_subset, solver=\"heun\")]\n",
    "        results.append(out)\n",
    "        \n",
    "    return results"
   ]
  },
  {
   "cell_type": "code",
   "execution_count": 43,
   "metadata": {},
   "outputs": [
    {
     "data": {
      "text/plain": [
       "array([0.00316456, 0.00389105, 0.00480769, 0.00591716, 0.00724638,\n",
       "       0.00892857, 0.01098901, 0.01351351, 0.01666667, 0.02083333,\n",
       "       0.02564103, 0.03125   , 0.03846154, 0.04761905, 0.05882353,\n",
       "       0.07142857, 0.09090909, 0.11111111, 0.14285714, 0.16666667,\n",
       "       0.2       ])"
      ]
     },
     "execution_count": 43,
     "metadata": {},
     "output_type": "execute_result"
    }
   ],
   "source": [
    "dts"
   ]
  },
  {
   "cell_type": "code",
   "execution_count": 53,
   "metadata": {},
   "outputs": [
    {
     "data": {
      "text/plain": [
       "array([0.02      , 0.02583099, 0.03336201, 0.04308869, 0.05565119,\n",
       "       0.07187627, 0.09283178, 0.11989685, 0.15485274, 0.2       ])"
      ]
     },
     "execution_count": 53,
     "metadata": {},
     "output_type": "execute_result"
    }
   ],
   "source": [
    "np.logspace(np.log10(0.02), np.log10(0.2), 10)"
   ]
  },
  {
   "cell_type": "code",
   "execution_count": 44,
   "metadata": {
    "scrolled": true
   },
   "outputs": [
    {
     "name": "stderr",
     "output_type": "stream",
     "text": [
      "100%|██████████| 128/128 [07:59<00:00,  3.74s/it]\n",
      "100%|██████████| 128/128 [07:39<00:00,  3.59s/it]\n",
      "100%|██████████| 128/128 [06:26<00:00,  3.02s/it]\n",
      "100%|██████████| 128/128 [06:18<00:00,  2.96s/it]\n",
      "100%|██████████| 128/128 [05:09<00:00,  2.42s/it]\n",
      "100%|██████████| 128/128 [04:59<00:00,  2.34s/it]\n",
      "100%|██████████| 128/128 [04:17<00:00,  2.01s/it]\n",
      "100%|██████████| 128/128 [04:04<00:00,  1.91s/it]\n",
      "100%|██████████| 128/128 [03:25<00:00,  1.61s/it]\n",
      "100%|██████████| 128/128 [03:18<00:00,  1.55s/it]\n",
      "100%|██████████| 128/128 [02:49<00:00,  1.32s/it]\n",
      "100%|██████████| 128/128 [02:39<00:00,  1.25s/it]\n",
      "100%|██████████| 128/128 [02:19<00:00,  1.09s/it]\n",
      "100%|██████████| 128/128 [02:21<00:00,  1.10s/it]\n",
      "100%|██████████| 128/128 [01:58<00:00,  1.08it/s]\n",
      "100%|██████████| 128/128 [01:52<00:00,  1.14it/s]\n",
      "100%|██████████| 128/128 [01:37<00:00,  1.31it/s]\n",
      "100%|██████████| 128/128 [01:35<00:00,  1.34it/s]\n",
      "100%|██████████| 128/128 [01:17<00:00,  1.66it/s]\n",
      "100%|██████████| 128/128 [01:13<00:00,  1.74it/s]\n",
      "100%|██████████| 128/128 [01:06<00:00,  1.93it/s]\n",
      "100%|██████████| 128/128 [00:59<00:00,  2.14it/s]\n",
      "100%|██████████| 128/128 [00:52<00:00,  2.43it/s]\n",
      "100%|██████████| 128/128 [00:49<00:00,  2.58it/s]\n",
      "100%|██████████| 128/128 [00:41<00:00,  3.08it/s]\n",
      "100%|██████████| 128/128 [00:39<00:00,  3.21it/s]\n",
      "100%|██████████| 128/128 [00:35<00:00,  3.58it/s]\n",
      "100%|██████████| 128/128 [00:31<00:00,  4.01it/s]\n",
      "100%|██████████| 128/128 [00:28<00:00,  4.46it/s]\n",
      "100%|██████████| 128/128 [00:26<00:00,  4.81it/s]\n",
      "100%|██████████| 128/128 [00:22<00:00,  5.63it/s]\n",
      "100%|██████████| 128/128 [00:22<00:00,  5.57it/s]\n",
      "100%|██████████| 128/128 [00:19<00:00,  6.62it/s]\n",
      "100%|██████████| 128/128 [00:16<00:00,  7.94it/s]\n",
      "100%|██████████| 128/128 [00:16<00:00,  7.76it/s]\n",
      "100%|██████████| 128/128 [00:12<00:00,  9.93it/s]\n",
      "100%|██████████| 128/128 [00:10<00:00, 12.60it/s]\n",
      "100%|██████████| 128/128 [00:12<00:00, 10.36it/s]\n",
      "100%|██████████| 128/128 [00:09<00:00, 14.19it/s]\n",
      "100%|██████████| 128/128 [00:08<00:00, 15.10it/s]\n",
      "100%|██████████| 128/128 [00:09<00:00, 13.38it/s]\n",
      "100%|██████████| 128/128 [00:08<00:00, 14.76it/s]\n"
     ]
    }
   ],
   "source": [
    "res = test_sensitivity(dts)"
   ]
  },
  {
   "cell_type": "code",
   "execution_count": 45,
   "metadata": {},
   "outputs": [
    {
     "data": {
      "text/plain": [
       "1"
      ]
     },
     "execution_count": 45,
     "metadata": {},
     "output_type": "execute_result"
    }
   ],
   "source": [
    "len(res[0])"
   ]
  },
  {
   "cell_type": "code",
   "execution_count": 61,
   "metadata": {},
   "outputs": [
    {
     "data": {
      "text/plain": [
       "(128, 5, 10)"
      ]
     },
     "execution_count": 61,
     "metadata": {},
     "output_type": "execute_result"
    }
   ],
   "source": [
    "res[0][0].shape"
   ]
  },
  {
   "cell_type": "code",
   "execution_count": 47,
   "metadata": {},
   "outputs": [],
   "source": [
    "res2 = [np.mean(model._last_prediction(o[0]) == y_subset) for o in res]"
   ]
  },
  {
   "cell_type": "code",
   "execution_count": 55,
   "metadata": {},
   "outputs": [
    {
     "data": {
      "text/plain": [
       "[<tensorflow.python.keras.layers.core.Flatten at 0x7f94c0255ee0>,\n",
       " <tensorflow.python.keras.layers.core.Dropout at 0x7f94c02a1130>,\n",
       " <layers.CmpxLinear at 0x7f94c022a7f0>,\n",
       " <tensorflow.python.keras.layers.core.Dropout at 0x7f94c022a4c0>,\n",
       " <layers.CmpxLinear at 0x7f94c022a880>]"
      ]
     },
     "execution_count": 55,
     "metadata": {},
     "output_type": "execute_result"
    }
   ],
   "source": [
    "model.layers"
   ]
  },
  {
   "cell_type": "code",
   "execution_count": 56,
   "metadata": {},
   "outputs": [
    {
     "data": {
      "text/plain": [
       "True"
      ]
     },
     "execution_count": 56,
     "metadata": {},
     "output_type": "execute_result"
    }
   ],
   "source": [
    "hasattr(model.dense1, \"spike_trains\")"
   ]
  },
  {
   "cell_type": "code",
   "execution_count": 64,
   "metadata": {},
   "outputs": [],
   "source": [
    "def get_input_train_mlp(model, images):\n",
    "    x = model.flatten(images)\n",
    "    if model.projection == \"NP\":\n",
    "        x = model.image_encoder(x, training=True)\n",
    "    elif model.projection == \"dot\":\n",
    "        x = tf.multiply(model.direction, x)\n",
    "    #convert continuous time representations into periodic spike train\n",
    "    s = model.phase_to_train(x)\n",
    "    \n",
    "    return s"
   ]
  },
  {
   "cell_type": "code",
   "execution_count": 65,
   "metadata": {},
   "outputs": [],
   "source": [
    "input_s = get_input_train(model, x_subset)"
   ]
  },
  {
   "cell_type": "code",
   "execution_count": 70,
   "metadata": {},
   "outputs": [],
   "source": [
    "count_lambda = lambda x, t: np.sum(x[1] < t)"
   ]
  },
  {
   "cell_type": "code",
   "execution_count": 72,
   "metadata": {},
   "outputs": [
    {
     "data": {
      "text/plain": [
       "1046"
      ]
     },
     "execution_count": 72,
     "metadata": {},
     "output_type": "execute_result"
    }
   ],
   "source": [
    "count_lambda(input_s[0], 1.5)"
   ]
  },
  {
   "cell_type": "code",
   "execution_count": 75,
   "metadata": {},
   "outputs": [
    {
     "data": {
      "text/plain": [
       "126196"
      ]
     },
     "execution_count": 75,
     "metadata": {},
     "output_type": "execute_result"
    }
   ],
   "source": [
    "np.sum(list(map(lambda x: count_lambda(x, 1.5), input_s)))"
   ]
  },
  {
   "cell_type": "code",
   "execution_count": 365,
   "metadata": {},
   "outputs": [
    {
     "name": "stdout",
     "output_type": "stream",
     "text": [
      "Model: \"phasor_model\"\n",
      "_________________________________________________________________\n",
      "Layer (type)                 Output Shape              Param #   \n",
      "=================================================================\n",
      "flatten (Flatten)            (10, 784)                 0         \n",
      "_________________________________________________________________\n",
      "dropout1 (Dropout)           multiple                  0         \n",
      "_________________________________________________________________\n",
      "cmpx_linear (CmpxLinear)     multiple                  78400     \n",
      "_________________________________________________________________\n",
      "dropout2 (Dropout)           multiple                  0         \n",
      "_________________________________________________________________\n",
      "cmpx_linear_1 (CmpxLinear)   multiple                  1000      \n",
      "=================================================================\n",
      "Total params: 79,400\n",
      "Trainable params: 79,400\n",
      "Non-trainable params: 0\n",
      "_________________________________________________________________\n"
     ]
    }
   ],
   "source": [
    "model.summary()"
   ]
  },
  {
   "cell_type": "code",
   "execution_count": null,
   "metadata": {},
   "outputs": [],
   "source": []
  },
  {
   "cell_type": "code",
   "execution_count": 95,
   "metadata": {},
   "outputs": [],
   "source": [
    "def count_spks_mlp(model, input_spks, t):\n",
    "    n_batch = len(input_spks)\n",
    "    \n",
    "    count_lambda = lambda x: np.sum(x[1] < t)\n",
    "    #get the average, cumulative number of input spikes at the current time\n",
    "    input_sum = np.mean(list(map(count_lambda, input_spks)))\n",
    "    #get the average, cumulative number of dense1 spikes at the current time\n",
    "    dense_spks = model.dense1.spike_trains\n",
    "    mid_sum = np.mean(list(map(count_lambda, dense_spks)))\n",
    "    \n",
    "    return [input_sum, mid_sum]  \n",
    "                "
   ]
  },
  {
   "cell_type": "code",
   "execution_count": 99,
   "metadata": {},
   "outputs": [],
   "source": [
    "def count_updates_mlp(model, t, dt=-1):\n",
    "    if dt < 0:\n",
    "        dt = model.dyn_params[\"max_step\"]\n",
    "        \n",
    "    #count the neuronal updates\n",
    "    steps = np.floor(t / dt)\n",
    "    mid_updates = steps * model.n_hidden\n",
    "    last_updates = steps * model.n_classes\n",
    "    \n",
    "    return [mid_updates, last_updates]"
   ]
  },
  {
   "cell_type": "code",
   "execution_count": 123,
   "metadata": {},
   "outputs": [],
   "source": [
    "def count_ops_mlp(model, input_spks, t, dt=-1):\n",
    "    fanout = np.array([[model.n_hidden, model.n_classes]])\n",
    "    spk_ops = count_spks_mlp(model, input_spks, t) * fanout\n",
    "    \n",
    "    update_ops = count_updates_mlp(model, t, dt)\n",
    "    \n",
    "    ops = np.concatenate((spk_ops.ravel(), update_ops), axis=0)\n",
    "    return ops"
   ]
  },
  {
   "cell_type": "code",
   "execution_count": 112,
   "metadata": {},
   "outputs": [],
   "source": [
    "trange = np.linspace(0, 5.0, 501)"
   ]
  },
  {
   "cell_type": "code",
   "execution_count": 108,
   "metadata": {},
   "outputs": [],
   "source": [
    "spikes = np.array([count_spks_mlp(model, input_s, t) for t in trange])"
   ]
  },
  {
   "cell_type": "code",
   "execution_count": 117,
   "metadata": {},
   "outputs": [
    {
     "data": {
      "text/plain": [
       "[2500.0, 250.0]"
      ]
     },
     "execution_count": 117,
     "metadata": {},
     "output_type": "execute_result"
    }
   ],
   "source": [
    "count_updates_mlp(model, 0.5, 0.02)"
   ]
  },
  {
   "cell_type": "code",
   "execution_count": 127,
   "metadata": {},
   "outputs": [],
   "source": [
    "ooo = count_ops_mlp(model, input_s, 1.0, 0.02)"
   ]
  },
  {
   "cell_type": "code",
   "execution_count": 129,
   "metadata": {},
   "outputs": [],
   "source": [
    "ops = np.array([count_ops_mlp(model, input_s, t) for t in trange])"
   ]
  },
  {
   "cell_type": "code",
   "execution_count": 130,
   "metadata": {},
   "outputs": [
    {
     "data": {
      "text/plain": [
       "[<matplotlib.lines.Line2D at 0x7f93d41db190>]"
      ]
     },
     "execution_count": 130,
     "metadata": {},
     "output_type": "execute_result"
    },
    {
     "data": {
      "image/png": "[encoded data removed]",
      "text/plain": [
       "<Figure size 432x288 with 1 Axes>"
      ]
     },
     "metadata": {
      "needs_background": "light"
     },
     "output_type": "display_data"
    }
   ],
   "source": [
    "plt.plot(ops.sum(axis=1))"
   ]
  },
  {
   "cell_type": "code",
   "execution_count": 144,
   "metadata": {},
   "outputs": [],
   "source": [
    "cycles = np.arange(5)"
   ]
  },
  {
   "cell_type": "code",
   "execution_count": 155,
   "metadata": {},
   "outputs": [],
   "source": [
    "tsteps = cycles * 1.0 + 0.5"
   ]
  },
  {
   "cell_type": "code",
   "execution_count": 156,
   "metadata": {},
   "outputs": [
    {
     "data": {
      "text/plain": [
       "array([0.5, 1.5, 2.5, 3.5, 4.5])"
      ]
     },
     "execution_count": 156,
     "metadata": {},
     "output_type": "execute_result"
    }
   ],
   "source": [
    "tsteps"
   ]
  },
  {
   "cell_type": "code",
   "execution_count": 132,
   "metadata": {},
   "outputs": [],
   "source": [
    "def predict_ind(phases, ind=-2):\n",
    "    distance = tf.math.abs(phases - 0.5)\n",
    "    indices = tf.math.argmin(distance, axis=2)\n",
    "    selected = indices[:,ind]\n",
    "\n",
    "    return selected"
   ]
  },
  {
   "cell_type": "code",
   "execution_count": 137,
   "metadata": {},
   "outputs": [
    {
     "data": {
      "text/plain": [
       "(128, 5, 10)"
      ]
     },
     "execution_count": 137,
     "metadata": {},
     "output_type": "execute_result"
    }
   ],
   "source": [
    "res[-1][0].shape"
   ]
  },
  {
   "cell_type": "code",
   "execution_count": 148,
   "metadata": {},
   "outputs": [
    {
     "data": {
      "text/plain": [
       "21"
      ]
     },
     "execution_count": 148,
     "metadata": {},
     "output_type": "execute_result"
    }
   ],
   "source": [
    "len(res)"
   ]
  },
  {
   "cell_type": "code",
   "execution_count": 152,
   "metadata": {},
   "outputs": [],
   "source": [
    "accs = np.array([[np.mean(predict_ind(o[0], j) == y_subset) for j in cycles] for o in res])"
   ]
  },
  {
   "cell_type": "code",
   "execution_count": 168,
   "metadata": {},
   "outputs": [],
   "source": [
    "ops2 = np.array([[count_ops_mlp(model, input_s, t, dt=dt).sum(axis=0) for t in tsteps] for dt in dts]) "
   ]
  },
  {
   "cell_type": "code",
   "execution_count": 176,
   "metadata": {},
   "outputs": [
    {
     "data": {
      "text/plain": [
       "(21, 5)"
      ]
     },
     "execution_count": 176,
     "metadata": {},
     "output_type": "execute_result"
    }
   ],
   "source": [
    "ops2.shape"
   ]
  },
  {
   "cell_type": "code",
   "execution_count": 177,
   "metadata": {},
   "outputs": [
    {
     "data": {
      "text/plain": [
       "<matplotlib.collections.PolyCollection at 0x7f93b04b51c0>"
      ]
     },
     "execution_count": 177,
     "metadata": {},
     "output_type": "execute_result"
    },
    {
     "data": {
      "image/png": "[encoded data removed]",
      "text/plain": [
       "<Figure size 432x288 with 1 Axes>"
      ]
     },
     "metadata": {
      "needs_background": "light"
     },
     "output_type": "display_data"
    }
   ],
   "source": [
    "plt.pcolor(accs)"
   ]
  },
  {
   "cell_type": "code",
   "execution_count": 180,
   "metadata": {},
   "outputs": [
    {
     "data": {
      "text/plain": [
       "Text(0, 0.5, 'Accuracy')"
      ]
     },
     "execution_count": 180,
     "metadata": {},
     "output_type": "execute_result"
    },
    {
     "data": {
      "image/png": "[encoded data removed]",
      "text/plain": [
       "<Figure size 600x400 with 1 Axes>"
      ]
     },
     "metadata": {
      "needs_background": "light"
     },
     "output_type": "display_data"
    }
   ],
   "source": [
    "plt.figure(dpi=dpi)\n",
    "plt.scatter(ops2[0:15,:], accs[0:15,:])\n",
    "plt.xlabel(\"Operations\")\n",
    "plt.ylabel(\"Accuracy\")"
   ]
  },
  {
   "cell_type": "code",
   "execution_count": 174,
   "metadata": {},
   "outputs": [
    {
     "data": {
      "text/plain": [
       "(21, 5)"
      ]
     },
     "execution_count": 174,
     "metadata": {},
     "output_type": "execute_result"
    }
   ],
   "source": [
    "ops2.shape"
   ]
  },
  {
   "cell_type": "code",
   "execution_count": 175,
   "metadata": {},
   "outputs": [
    {
     "data": {
      "text/plain": [
       "[<matplotlib.lines.Line2D at 0x7f93b052da90>,\n",
       " <matplotlib.lines.Line2D at 0x7f93b052db80>,\n",
       " <matplotlib.lines.Line2D at 0x7f93b052dc40>,\n",
       " <matplotlib.lines.Line2D at 0x7f93b052dd00>,\n",
       " <matplotlib.lines.Line2D at 0x7f93b052ddc0>,\n",
       " <matplotlib.lines.Line2D at 0x7f93b052de80>,\n",
       " <matplotlib.lines.Line2D at 0x7f93b052df40>,\n",
       " <matplotlib.lines.Line2D at 0x7f93b04bb040>,\n",
       " <matplotlib.lines.Line2D at 0x7f93b04bb100>,\n",
       " <matplotlib.lines.Line2D at 0x7f93b04bb1c0>,\n",
       " <matplotlib.lines.Line2D at 0x7f93b050f700>,\n",
       " <matplotlib.lines.Line2D at 0x7f93b04bb310>,\n",
       " <matplotlib.lines.Line2D at 0x7f93b04bb3d0>,\n",
       " <matplotlib.lines.Line2D at 0x7f93b04bb490>,\n",
       " <matplotlib.lines.Line2D at 0x7f93b04bb550>,\n",
       " <matplotlib.lines.Line2D at 0x7f93b04bb610>,\n",
       " <matplotlib.lines.Line2D at 0x7f93b04bb6d0>,\n",
       " <matplotlib.lines.Line2D at 0x7f93b04bb790>,\n",
       " <matplotlib.lines.Line2D at 0x7f93b04bb850>,\n",
       " <matplotlib.lines.Line2D at 0x7f93b04bb910>,\n",
       " <matplotlib.lines.Line2D at 0x7f93b04bb9d0>]"
      ]
     },
     "execution_count": 175,
     "metadata": {},
     "output_type": "execute_result"
    },
    {
     "data": {
      "image/png": "[encoded data removed]",
      "text/plain": [
       "<Figure size 432x288 with 1 Axes>"
      ]
     },
     "metadata": {
      "needs_background": "light"
     },
     "output_type": "display_data"
    }
   ],
   "source": [
    "plt.plot(ops2.transpose(), accs.transpose())"
   ]
  },
  {
   "cell_type": "code",
   "execution_count": 374,
   "metadata": {},
   "outputs": [],
   "source": [
    "info = np.load(\"runs/resolution/info.npz\")"
   ]
  },
  {
   "cell_type": "code",
   "execution_count": 376,
   "metadata": {},
   "outputs": [],
   "source": [
    "restest_ys = info['true_ys']"
   ]
  },
  {
   "cell_type": "code",
   "execution_count": 378,
   "metadata": {},
   "outputs": [],
   "source": [
    "restest_points = info['resolution_points']"
   ]
  },
  {
   "cell_type": "code",
   "execution_count": 385,
   "metadata": {},
   "outputs": [],
   "source": [
    "all_data = [np.load(\"runs/resolution/cifar_dyn_batch\" + str(i) +\".npz\")['a'] for i in range(8)]"
   ]
  },
  {
   "cell_type": "code",
   "execution_count": 401,
   "metadata": {},
   "outputs": [],
   "source": [
    "res_preds = list(map(lambda x: np.mean(predict_ind(x) == restest_ys), all_data))"
   ]
  },
  {
   "cell_type": "code",
   "execution_count": 402,
   "metadata": {},
   "outputs": [
    {
     "data": {
      "text/plain": [
       "<matplotlib.collections.PathCollection at 0x7f929c144b20>"
      ]
     },
     "execution_count": 402,
     "metadata": {},
     "output_type": "execute_result"
    },
    {
     "data": {
      "image/png": "[encoded data removed]",
      "text/plain": [
       "<Figure size 432x288 with 1 Axes>"
      ]
     },
     "metadata": {
      "needs_background": "light"
     },
     "output_type": "display_data"
    }
   ],
   "source": [
    "plt.scatter(restest_points[0:8], res_preds)"
   ]
  },
  {
   "cell_type": "code",
   "execution_count": 430,
   "metadata": {},
   "outputs": [],
   "source": [
    "dinfo = np.load(\"runs/jitter/info.npz\")"
   ]
  },
  {
   "cell_type": "code",
   "execution_count": 431,
   "metadata": {},
   "outputs": [],
   "source": [
    "drestest_ys = dinfo['true_ys']"
   ]
  },
  {
   "cell_type": "code",
   "execution_count": 432,
   "metadata": {},
   "outputs": [],
   "source": [
    "drestest_points = dinfo['resolution_points']"
   ]
  },
  {
   "cell_type": "code",
   "execution_count": 433,
   "metadata": {},
   "outputs": [],
   "source": [
    "all_data_jitter = [np.load(\"runs/jitter/cifar_dyn_run\" + str(i) +\".npz\")['a'] for i in range(10)]"
   ]
  },
  {
   "cell_type": "code",
   "execution_count": 434,
   "metadata": {},
   "outputs": [],
   "source": [
    "dres_preds = list(map(lambda x: np.mean(predict_ind(x) == drestest_ys), all_data_jitter))"
   ]
  },
  {
   "cell_type": "code",
   "execution_count": 435,
   "metadata": {},
   "outputs": [
    {
     "data": {
      "text/plain": [
       "<matplotlib.collections.PathCollection at 0x7f9277ebb0a0>"
      ]
     },
     "execution_count": 435,
     "metadata": {},
     "output_type": "execute_result"
    },
    {
     "data": {
      "image/png": "[encoded data removed]",
      "text/plain": [
       "<Figure size 432x288 with 1 Axes>"
      ]
     },
     "metadata": {
      "needs_background": "light"
     },
     "output_type": "display_data"
    }
   ],
   "source": [
    "plt.scatter(drestest_points, dres_preds)"
   ]
  },
  {
   "cell_type": "code",
   "execution_count": 436,
   "metadata": {},
   "outputs": [],
   "source": [
    "np.savez_compressed(\"runs/jitter/results.npz\", accuracy=dres_preds, jitter=drestest_points)"
   ]
  },
  {
   "cell_type": "code",
   "execution_count": null,
   "metadata": {},
   "outputs": [],
   "source": []
  },
  {
   "cell_type": "code",
   "execution_count": 387,
   "metadata": {},
   "outputs": [
    {
     "data": {
      "text/plain": [
       "<tf.Tensor: shape=(128,), dtype=int64, numpy=\n",
       "array([9, 5, 4, 8, 4, 6, 7, 0, 6, 2, 9, 1, 5, 0, 5, 8, 1, 7, 6, 6, 0, 0,\n",
       "       7, 4, 6, 7, 8, 8, 9, 9, 7, 5, 4, 0, 0, 9, 1, 0, 1, 5, 0, 7, 5, 0,\n",
       "       1, 6, 2, 3, 8, 3, 7, 4, 4, 1, 3, 2, 2, 1, 6, 2, 7, 0, 4, 1, 8, 0,\n",
       "       2, 5, 3, 0, 6, 1, 5, 5, 8, 2, 5, 7, 0, 8, 0, 1, 6, 8, 8, 9, 8, 1,\n",
       "       5, 5, 2, 6, 6, 8, 5, 3, 1, 8, 1, 6, 0, 8, 7, 3, 4, 1, 7, 3, 5, 2,\n",
       "       1, 7, 4, 4, 9, 5, 4, 4, 2, 8, 1, 4, 8, 5, 2, 4, 0, 8])>"
      ]
     },
     "execution_count": 387,
     "metadata": {},
     "output_type": "execute_result"
    }
   ],
   "source": [
    "predict_ind(all_data[0])"
   ]
  },
  {
   "cell_type": "code",
   "execution_count": 381,
   "metadata": {},
   "outputs": [
    {
     "data": {
      "text/plain": [
       "array([9, 7, 4, 8, 8, 2, 7, 0, 6, 2, 9, 1, 5, 0, 3, 8, 1, 7, 2, 2, 0, 0,\n",
       "       7, 2, 6, 7, 0, 8, 9, 3, 7, 5, 2, 0, 0, 9, 1, 0, 5, 5, 0, 3, 5, 0,\n",
       "       1, 0, 2, 3, 8, 5, 7, 4, 4, 1, 5, 2, 2, 1, 5, 2, 7, 0, 2, 1, 8, 5,\n",
       "       3, 5, 3, 0, 6, 1, 5, 2, 8, 2, 5, 3, 0, 8, 8, 1, 6, 8, 8, 9, 8, 1,\n",
       "       5, 7, 3, 6, 0, 8, 5, 3, 1, 8, 1, 4, 0, 8, 7, 3, 4, 1, 4, 3, 2, 2,\n",
       "       1, 7, 4, 4, 9, 3, 4, 4, 2, 8, 1, 2, 8, 5, 2, 4, 0, 5])"
      ]
     },
     "execution_count": 381,
     "metadata": {},
     "output_type": "execute_result"
    }
   ],
   "source": [
    "restest_ys"
   ]
  },
  {
   "cell_type": "code",
   "execution_count": 383,
   "metadata": {},
   "outputs": [
    {
     "data": {
      "text/plain": [
       "<tf.Tensor: shape=(128,), dtype=int64, numpy=\n",
       "array([0, 5, 1, 0, 0, 0, 0, 0, 0, 1, 0, 0, 0, 1, 0, 0, 1, 0, 1, 1, 5, 1,\n",
       "       1, 0, 6, 1, 0, 0, 1, 0, 0, 1, 0, 0, 4, 1, 0, 0, 0, 0, 1, 0, 1, 3,\n",
       "       1, 0, 1, 0, 0, 5, 0, 0, 4, 0, 2, 1, 2, 1, 1, 1, 0, 0, 0, 0, 0, 0,\n",
       "       0, 0, 1, 0, 1, 1, 0, 1, 1, 0, 0, 1, 1, 1, 0, 1, 1, 7, 0, 0, 1, 1,\n",
       "       1, 0, 0, 0, 1, 0, 6, 0, 0, 0, 0, 5, 4, 1, 1, 0, 1, 0, 1, 0, 0, 1,\n",
       "       1, 0, 0, 1, 0, 1, 1, 0, 0, 0, 0, 1, 0, 3, 1, 0, 0, 0])>"
      ]
     },
     "execution_count": 383,
     "metadata": {},
     "output_type": "execute_result"
    }
   ],
   "source": [
    "predict_ind(data)"
   ]
  },
  {
   "cell_type": "code",
   "execution_count": 370,
   "metadata": {},
   "outputs": [],
   "source": [
    "data = np.load(\"runs/resolution/cifar_dyn_batch7.npz\")['a']"
   ]
  },
  {
   "cell_type": "code",
   "execution_count": 372,
   "metadata": {},
   "outputs": [
    {
     "data": {
      "text/plain": [
       "(128, 20, 10)"
      ]
     },
     "execution_count": 372,
     "metadata": {},
     "output_type": "execute_result"
    }
   ],
   "source": [
    "data.shape"
   ]
  },
  {
   "cell_type": "code",
   "execution_count": 366,
   "metadata": {},
   "outputs": [
    {
     "data": {
      "text/plain": [
       "Text(0, 0.5, 'Relative Performance on Test Subset')"
      ]
     },
     "execution_count": 366,
     "metadata": {},
     "output_type": "execute_result"
    },
    {
     "data": {
      "image/png": "[encoded data removed]",
      "text/plain": [
       "<Figure size 600x400 with 1 Axes>"
      ]
     },
     "metadata": {
      "needs_background": "light"
     },
     "output_type": "display_data"
    }
   ],
   "source": [
    "plt.figure(dpi=dpi)\n",
    "plt.semilogx(points, res2 / res2[0])\n",
    "plt.xlabel(\"Computation Steps per Cycle\")\n",
    "plt.ylabel(\"Relative Performance on Test Subset\")"
   ]
  },
  {
   "cell_type": "code",
   "execution_count": 397,
   "metadata": {},
   "outputs": [
    {
     "data": {
      "text/plain": [
       "<matplotlib.legend.Legend at 0x7f929c3606d0>"
      ]
     },
     "execution_count": 397,
     "metadata": {},
     "output_type": "execute_result"
    },
    {
     "data": {
      "image/png": "[encoded data removed]",
      "text/plain": [
       "<Figure size 600x400 with 1 Axes>"
      ]
     },
     "metadata": {
      "needs_background": "light"
     },
     "output_type": "display_data"
    }
   ],
   "source": [
    "plt.figure(dpi=dpi)\n",
    "plt.semilogx(points, res2 / res2[0], label=\"MLP, F-MNIST\")\n",
    "plt.scatter(1 / restest_points[0:8], res_preds / res_preds[0], color=\"red\", label=\"Conv., CIFAR-10\")\n",
    "plt.xlabel(\"Computation Steps per Cycle\")\n",
    "plt.ylabel(\"Relative Performance on Test Subset\")\n",
    "plt.legend()"
   ]
  },
  {
   "cell_type": "code",
   "execution_count": 420,
   "metadata": {},
   "outputs": [
    {
     "data": {
      "text/plain": [
       "array([0.02583099, 0.03336201, 0.04308869, 0.05565119, 0.07187627,\n",
       "       0.09283178, 0.11989685, 0.15485274, 0.2       ])"
      ]
     },
     "execution_count": 420,
     "metadata": {},
     "output_type": "execute_result"
    }
   ],
   "source": [
    "restest_points"
   ]
  },
  {
   "cell_type": "code",
   "execution_count": 417,
   "metadata": {},
   "outputs": [
    {
     "data": {
      "text/plain": [
       "<matplotlib.legend.Legend at 0x7f929c075880>"
      ]
     },
     "execution_count": 417,
     "metadata": {},
     "output_type": "execute_result"
    },
    {
     "data": {
      "image/png": "[encoded data removed]",
      "text/plain": [
       "<Figure size 600x400 with 1 Axes>"
      ]
     },
     "metadata": {
      "needs_background": "light"
     },
     "output_type": "display_data"
    }
   ],
   "source": [
    "plt.figure(dpi=dpi)\n",
    "plt.semilogx(points, res2 / res2[0], label=\"MLP, F-MNIST\")\n",
    "plt.semilogx(1 / restest_points[0:8], res_preds / res_preds[0], label=\"Conv., CIFAR-10\")\n",
    "plt.xlabel(\"Computation Steps per Cycle\")\n",
    "plt.ylabel(\"Relative Performance\")\n",
    "plt.legend()"
   ]
  },
  {
   "cell_type": "code",
   "execution_count": 49,
   "metadata": {},
   "outputs": [
    {
     "data": {
      "text/plain": [
       "[<matplotlib.lines.Line2D at 0x7f9478528a00>]"
      ]
     },
     "execution_count": 49,
     "metadata": {},
     "output_type": "execute_result"
    },
    {
     "data": {
      "image/png": "[encoded data removed]",
      "text/plain": [
       "<Figure size 432x288 with 1 Axes>"
      ]
     },
     "metadata": {
      "needs_background": "light"
     },
     "output_type": "display_data"
    }
   ],
   "source": [
    "plt.semilogx(dts, res2 / res2[0])"
   ]
  },
  {
   "cell_type": "code",
   "execution_count": 183,
   "metadata": {},
   "outputs": [],
   "source": [
    "#comparison to rate code"
   ]
  },
  {
   "cell_type": "code",
   "execution_count": 288,
   "metadata": {},
   "outputs": [],
   "source": [
    "file0 = np.load(\"../snn_toolbox/temp/1630022613.8651817/log/gui/test/log_vars/0.npz\", allow_pickle=True)"
   ]
  },
  {
   "cell_type": "code",
   "execution_count": 289,
   "metadata": {},
   "outputs": [
    {
     "data": {
      "text/plain": [
       "['spiketrains_n_b_l_t',\n",
       " 'activations_n_b_l',\n",
       " 'input_b_l_t',\n",
       " 'mem_n_b_l_t',\n",
       " 'synaptic_operations_b_t',\n",
       " 'neuron_operations_b_t',\n",
       " 'top1err_b_t',\n",
       " 'top5err_b_t',\n",
       " 'top1err_ann',\n",
       " 'top5err_ann',\n",
       " 'operations_ann',\n",
       " 'input_image_b_l',\n",
       " 'true_classes_b',\n",
       " 'avg_rate']"
      ]
     },
     "execution_count": 289,
     "metadata": {},
     "output_type": "execute_result"
    }
   ],
   "source": [
    "list(file0.keys())"
   ]
  },
  {
   "cell_type": "code",
   "execution_count": 290,
   "metadata": {},
   "outputs": [
    {
     "data": {
      "text/plain": [
       "(2, 2)"
      ]
     },
     "execution_count": 290,
     "metadata": {},
     "output_type": "execute_result"
    }
   ],
   "source": [
    "file0['mem_n_b_l_t'].shape"
   ]
  },
  {
   "cell_type": "code",
   "execution_count": 291,
   "metadata": {},
   "outputs": [],
   "source": [
    "inp = file0['input_b_l_t']"
   ]
  },
  {
   "cell_type": "code",
   "execution_count": 292,
   "metadata": {},
   "outputs": [],
   "source": [
    "st = file0['spiketrains_n_b_l_t']"
   ]
  },
  {
   "cell_type": "code",
   "execution_count": 308,
   "metadata": {},
   "outputs": [],
   "source": [
    "rc_acc = 1.0 - file0['top1err_b_t'].mean(axis=0)"
   ]
  },
  {
   "cell_type": "code",
   "execution_count": 404,
   "metadata": {},
   "outputs": [
    {
     "data": {
      "text/plain": [
       "dtype('float64')"
      ]
     },
     "execution_count": 404,
     "metadata": {},
     "output_type": "execute_result"
    }
   ],
   "source": [
    "inp.dtype"
   ]
  },
  {
   "cell_type": "code",
   "execution_count": 406,
   "metadata": {},
   "outputs": [
    {
     "data": {
      "text/plain": [
       "(2, 2)"
      ]
     },
     "execution_count": 406,
     "metadata": {},
     "output_type": "execute_result"
    }
   ],
   "source": [
    "st.shape"
   ]
  },
  {
   "cell_type": "code",
   "execution_count": 411,
   "metadata": {},
   "outputs": [
    {
     "data": {
      "text/plain": [
       "'1Dense_100'"
      ]
     },
     "execution_count": 411,
     "metadata": {},
     "output_type": "execute_result"
    }
   ],
   "source": [
    "st[0,0]"
   ]
  },
  {
   "cell_type": "code",
   "execution_count": 412,
   "metadata": {},
   "outputs": [],
   "source": [
    "n_layers = st.shape[0]"
   ]
  },
  {
   "cell_type": "code",
   "execution_count": 415,
   "metadata": {},
   "outputs": [
    {
     "data": {
      "text/plain": [
       "array([[[[[False, False, False, ..., False, False, False]],\n",
       "\n",
       "         [[False, False, False, ..., False, False, False]],\n",
       "\n",
       "         [[False, False, False, ..., False, False, False]],\n",
       "\n",
       "         ...,\n",
       "\n",
       "         [[False, False, False, ..., False, False, False]],\n",
       "\n",
       "         [[False, False, False, ..., False, False, False]],\n",
       "\n",
       "         [[False, False, False, ..., False, False, False]]],\n",
       "\n",
       "\n",
       "        [[[False, False, False, ..., False, False, False]],\n",
       "\n",
       "         [[False, False, False, ..., False, False, False]],\n",
       "\n",
       "         [[False, False, False, ..., False, False, False]],\n",
       "\n",
       "         ...,\n",
       "\n",
       "         [[False, False, False, ..., False, False, False]],\n",
       "\n",
       "         [[False, False, False, ..., False, False, False]],\n",
       "\n",
       "         [[False, False, False, ..., False, False, False]]],\n",
       "\n",
       "\n",
       "        [[[False, False, False, ..., False, False, False]],\n",
       "\n",
       "         [[False, False, False, ..., False, False, False]],\n",
       "\n",
       "         [[False, False, False, ..., False, False, False]],\n",
       "\n",
       "         ...,\n",
       "\n",
       "         [[False, False, False, ..., False, False, False]],\n",
       "\n",
       "         [[False, False, False, ..., False, False, False]],\n",
       "\n",
       "         [[False, False, False, ..., False, False, False]]],\n",
       "\n",
       "\n",
       "        ...,\n",
       "\n",
       "\n",
       "        [[[False, False, False, ..., False, False, False]],\n",
       "\n",
       "         [[False, False, False, ..., False, False, False]],\n",
       "\n",
       "         [[False, False, False, ..., False, False, False]],\n",
       "\n",
       "         ...,\n",
       "\n",
       "         [[False, False, False, ..., False, False, False]],\n",
       "\n",
       "         [[False, False, False, ..., False, False, False]],\n",
       "\n",
       "         [[False, False, False, ..., False, False, False]]],\n",
       "\n",
       "\n",
       "        [[[False, False, False, ..., False, False, False]],\n",
       "\n",
       "         [[False, False, False, ..., False, False, False]],\n",
       "\n",
       "         [[False, False, False, ..., False, False, False]],\n",
       "\n",
       "         ...,\n",
       "\n",
       "         [[False, False, False, ..., False, False, False]],\n",
       "\n",
       "         [[False, False, False, ..., False, False, False]],\n",
       "\n",
       "         [[False, False, False, ..., False, False, False]]],\n",
       "\n",
       "\n",
       "        [[[False, False, False, ..., False, False, False]],\n",
       "\n",
       "         [[False, False, False, ..., False, False, False]],\n",
       "\n",
       "         [[False, False, False, ..., False, False, False]],\n",
       "\n",
       "         ...,\n",
       "\n",
       "         [[False, False, False, ..., False, False, False]],\n",
       "\n",
       "         [[False, False, False, ..., False, False, False]],\n",
       "\n",
       "         [[False, False, False, ..., False, False, False]]]],\n",
       "\n",
       "\n",
       "\n",
       "       [[[[False, False, False, ..., False, False, False]],\n",
       "\n",
       "         [[False, False, False, ..., False, False, False]],\n",
       "\n",
       "         [[False, False, False, ..., False, False, False]],\n",
       "\n",
       "         ...,\n",
       "\n",
       "         [[False, False, False, ..., False, False, False]],\n",
       "\n",
       "         [[False, False, False, ..., False, False, False]],\n",
       "\n",
       "         [[False, False, False, ..., False, False, False]]],\n",
       "\n",
       "\n",
       "        [[[False, False, False, ..., False, False, False]],\n",
       "\n",
       "         [[False, False, False, ..., False, False, False]],\n",
       "\n",
       "         [[False, False, False, ..., False, False, False]],\n",
       "\n",
       "         ...,\n",
       "\n",
       "         [[False, False, False, ..., False, False, False]],\n",
       "\n",
       "         [[False, False, False, ..., False, False, False]],\n",
       "\n",
       "         [[False, False, False, ..., False, False, False]]],\n",
       "\n",
       "\n",
       "        [[[False, False, False, ..., False, False, False]],\n",
       "\n",
       "         [[False, False, False, ..., False, False, False]],\n",
       "\n",
       "         [[False, False, False, ..., False, False, False]],\n",
       "\n",
       "         ...,\n",
       "\n",
       "         [[False, False, False, ..., False, False, False]],\n",
       "\n",
       "         [[False, False, False, ..., False, False, False]],\n",
       "\n",
       "         [[False, False, False, ..., False, False, False]]],\n",
       "\n",
       "\n",
       "        ...,\n",
       "\n",
       "\n",
       "        [[[False, False, False, ..., False, False, False]],\n",
       "\n",
       "         [[False, False, False, ..., False, False, False]],\n",
       "\n",
       "         [[False, False, False, ..., False, False, False]],\n",
       "\n",
       "         ...,\n",
       "\n",
       "         [[False, False, False, ..., False, False, False]],\n",
       "\n",
       "         [[False, False, False, ..., False, False, False]],\n",
       "\n",
       "         [[False, False, False, ..., False, False, False]]],\n",
       "\n",
       "\n",
       "        [[[False, False, False, ..., False, False, False]],\n",
       "\n",
       "         [[False, False, False, ..., False, False, False]],\n",
       "\n",
       "         [[False, False, False, ..., False, False, False]],\n",
       "\n",
       "         ...,\n",
       "\n",
       "         [[False, False, False, ..., False, False, False]],\n",
       "\n",
       "         [[False, False, False, ..., False, False, False]],\n",
       "\n",
       "         [[False, False, False, ..., False, False, False]]],\n",
       "\n",
       "\n",
       "        [[[False, False, False, ..., False, False, False]],\n",
       "\n",
       "         [[False, False, False, ..., False, False, False]],\n",
       "\n",
       "         [[False, False, False, ..., False, False, False]],\n",
       "\n",
       "         ...,\n",
       "\n",
       "         [[False, False, False, ..., False, False, False]],\n",
       "\n",
       "         [[False, False, False, ..., False, False, False]],\n",
       "\n",
       "         [[False, False, False, ..., False, False, False]]]],\n",
       "\n",
       "\n",
       "\n",
       "       [[[[False, False, False, ..., False, False, False]],\n",
       "\n",
       "         [[False, False, False, ..., False, False, False]],\n",
       "\n",
       "         [[False, False, False, ..., False, False, False]],\n",
       "\n",
       "         ...,\n",
       "\n",
       "         [[False, False, False, ..., False, False, False]],\n",
       "\n",
       "         [[False, False, False, ..., False, False, False]],\n",
       "\n",
       "         [[False, False, False, ..., False, False, False]]],\n",
       "\n",
       "\n",
       "        [[[False, False, False, ..., False, False, False]],\n",
       "\n",
       "         [[False, False, False, ..., False, False, False]],\n",
       "\n",
       "         [[False, False, False, ..., False, False, False]],\n",
       "\n",
       "         ...,\n",
       "\n",
       "         [[False, False, False, ..., False, False, False]],\n",
       "\n",
       "         [[False, False, False, ..., False, False, False]],\n",
       "\n",
       "         [[False, False, False, ..., False, False, False]]],\n",
       "\n",
       "\n",
       "        [[[False, False, False, ..., False, False, False]],\n",
       "\n",
       "         [[False, False, False, ..., False, False, False]],\n",
       "\n",
       "         [[False, False, False, ..., False, False, False]],\n",
       "\n",
       "         ...,\n",
       "\n",
       "         [[False, False, False, ..., False, False, False]],\n",
       "\n",
       "         [[False, False, False, ..., False, False, False]],\n",
       "\n",
       "         [[False, False, False, ..., False, False, False]]],\n",
       "\n",
       "\n",
       "        ...,\n",
       "\n",
       "\n",
       "        [[[False, False, False, ..., False, False, False]],\n",
       "\n",
       "         [[False, False, False, ..., False, False, False]],\n",
       "\n",
       "         [[False, False, False, ..., False, False, False]],\n",
       "\n",
       "         ...,\n",
       "\n",
       "         [[False, False, False, ..., False, False, False]],\n",
       "\n",
       "         [[False, False, False, ..., False, False, False]],\n",
       "\n",
       "         [[False, False, False, ..., False, False, False]]],\n",
       "\n",
       "\n",
       "        [[[False, False, False, ..., False, False, False]],\n",
       "\n",
       "         [[False, False, False, ..., False, False, False]],\n",
       "\n",
       "         [[False, False, False, ..., False, False, False]],\n",
       "\n",
       "         ...,\n",
       "\n",
       "         [[False, False, False, ..., False, False, False]],\n",
       "\n",
       "         [[False, False, False, ..., False, False, False]],\n",
       "\n",
       "         [[False, False, False, ..., False, False, False]]],\n",
       "\n",
       "\n",
       "        [[[False, False, False, ..., False, False, False]],\n",
       "\n",
       "         [[False, False, False, ..., False, False, False]],\n",
       "\n",
       "         [[False, False, False, ..., False, False, False]],\n",
       "\n",
       "         ...,\n",
       "\n",
       "         [[False, False, False, ..., False, False, False]],\n",
       "\n",
       "         [[False, False, False, ..., False, False, False]],\n",
       "\n",
       "         [[False, False, False, ..., False, False, False]]]],\n",
       "\n",
       "\n",
       "\n",
       "       ...,\n",
       "\n",
       "\n",
       "\n",
       "       [[[[False, False, False, ..., False, False, False]],\n",
       "\n",
       "         [[False, False, False, ..., False, False, False]],\n",
       "\n",
       "         [[False, False, False, ..., False, False, False]],\n",
       "\n",
       "         ...,\n",
       "\n",
       "         [[False, False, False, ..., False, False, False]],\n",
       "\n",
       "         [[False, False, False, ..., False, False, False]],\n",
       "\n",
       "         [[False, False, False, ..., False, False, False]]],\n",
       "\n",
       "\n",
       "        [[[False, False, False, ..., False, False, False]],\n",
       "\n",
       "         [[False, False, False, ..., False, False, False]],\n",
       "\n",
       "         [[False, False, False, ..., False, False, False]],\n",
       "\n",
       "         ...,\n",
       "\n",
       "         [[False, False, False, ..., False, False, False]],\n",
       "\n",
       "         [[False, False, False, ..., False, False, False]],\n",
       "\n",
       "         [[False, False, False, ..., False, False, False]]],\n",
       "\n",
       "\n",
       "        [[[False, False, False, ..., False, False, False]],\n",
       "\n",
       "         [[False, False, False, ..., False, False, False]],\n",
       "\n",
       "         [[False, False, False, ..., False, False, False]],\n",
       "\n",
       "         ...,\n",
       "\n",
       "         [[False, False, False, ..., False, False, False]],\n",
       "\n",
       "         [[False, False, False, ..., False, False, False]],\n",
       "\n",
       "         [[False, False, False, ..., False, False, False]]],\n",
       "\n",
       "\n",
       "        ...,\n",
       "\n",
       "\n",
       "        [[[False, False, False, ..., False, False, False]],\n",
       "\n",
       "         [[False, False, False, ..., False, False, False]],\n",
       "\n",
       "         [[False, False, False, ..., False, False, False]],\n",
       "\n",
       "         ...,\n",
       "\n",
       "         [[False, False, False, ..., False, False, False]],\n",
       "\n",
       "         [[False, False, False, ..., False, False, False]],\n",
       "\n",
       "         [[False, False, False, ..., False, False, False]]],\n",
       "\n",
       "\n",
       "        [[[False, False, False, ..., False, False, False]],\n",
       "\n",
       "         [[False, False, False, ..., False, False, False]],\n",
       "\n",
       "         [[False, False, False, ..., False, False, False]],\n",
       "\n",
       "         ...,\n",
       "\n",
       "         [[False, False, False, ..., False, False, False]],\n",
       "\n",
       "         [[False, False, False, ..., False, False, False]],\n",
       "\n",
       "         [[False, False, False, ..., False, False, False]]],\n",
       "\n",
       "\n",
       "        [[[False, False, False, ..., False, False, False]],\n",
       "\n",
       "         [[False, False, False, ..., False, False, False]],\n",
       "\n",
       "         [[False, False, False, ..., False, False, False]],\n",
       "\n",
       "         ...,\n",
       "\n",
       "         [[False, False, False, ..., False, False, False]],\n",
       "\n",
       "         [[False, False, False, ..., False, False, False]],\n",
       "\n",
       "         [[False, False, False, ..., False, False, False]]]],\n",
       "\n",
       "\n",
       "\n",
       "       [[[[False, False, False, ..., False, False, False]],\n",
       "\n",
       "         [[False, False, False, ..., False, False, False]],\n",
       "\n",
       "         [[False, False, False, ..., False, False, False]],\n",
       "\n",
       "         ...,\n",
       "\n",
       "         [[False, False, False, ..., False, False, False]],\n",
       "\n",
       "         [[False, False, False, ..., False, False, False]],\n",
       "\n",
       "         [[False, False, False, ..., False, False, False]]],\n",
       "\n",
       "\n",
       "        [[[False, False, False, ..., False, False, False]],\n",
       "\n",
       "         [[False, False, False, ..., False, False, False]],\n",
       "\n",
       "         [[False, False, False, ..., False, False, False]],\n",
       "\n",
       "         ...,\n",
       "\n",
       "         [[False, False, False, ..., False, False, False]],\n",
       "\n",
       "         [[False, False, False, ..., False, False, False]],\n",
       "\n",
       "         [[False, False, False, ..., False, False, False]]],\n",
       "\n",
       "\n",
       "        [[[False, False, False, ..., False, False, False]],\n",
       "\n",
       "         [[False, False, False, ..., False, False, False]],\n",
       "\n",
       "         [[False, False, False, ..., False, False, False]],\n",
       "\n",
       "         ...,\n",
       "\n",
       "         [[False, False, False, ..., False, False, False]],\n",
       "\n",
       "         [[False, False, False, ..., False, False, False]],\n",
       "\n",
       "         [[False, False, False, ..., False, False, False]]],\n",
       "\n",
       "\n",
       "        ...,\n",
       "\n",
       "\n",
       "        [[[False, False, False, ..., False, False, False]],\n",
       "\n",
       "         [[False, False, False, ..., False, False, False]],\n",
       "\n",
       "         [[False, False, False, ..., False, False, False]],\n",
       "\n",
       "         ...,\n",
       "\n",
       "         [[ True,  True,  True, ..., False,  True,  True]],\n",
       "\n",
       "         [[False,  True,  True, ...,  True,  True, False]],\n",
       "\n",
       "         [[False, False, False, ..., False, False, False]]],\n",
       "\n",
       "\n",
       "        [[[False, False, False, ..., False, False, False]],\n",
       "\n",
       "         [[False, False, False, ..., False, False, False]],\n",
       "\n",
       "         [[False, False, False, ..., False, False, False]],\n",
       "\n",
       "         ...,\n",
       "\n",
       "         [[False, False, False, ..., False, False, False]],\n",
       "\n",
       "         [[False, False, False, ..., False, False, False]],\n",
       "\n",
       "         [[False, False, False, ..., False, False, False]]],\n",
       "\n",
       "\n",
       "        [[[False, False, False, ..., False, False, False]],\n",
       "\n",
       "         [[False, False, False, ..., False, False, False]],\n",
       "\n",
       "         [[False, False, False, ..., False, False, False]],\n",
       "\n",
       "         ...,\n",
       "\n",
       "         [[False, False, False, ..., False, False, False]],\n",
       "\n",
       "         [[False, False, False, ..., False, False, False]],\n",
       "\n",
       "         [[False, False, False, ..., False, False, False]]]],\n",
       "\n",
       "\n",
       "\n",
       "       [[[[False, False, False, ..., False, False, False]],\n",
       "\n",
       "         [[False, False, False, ..., False, False, False]],\n",
       "\n",
       "         [[False, False, False, ..., False, False, False]],\n",
       "\n",
       "         ...,\n",
       "\n",
       "         [[False, False, False, ..., False, False, False]],\n",
       "\n",
       "         [[False, False, False, ..., False, False, False]],\n",
       "\n",
       "         [[False, False, False, ..., False, False, False]]],\n",
       "\n",
       "\n",
       "        [[[False, False, False, ..., False, False, False]],\n",
       "\n",
       "         [[False, False, False, ..., False, False, False]],\n",
       "\n",
       "         [[False, False, False, ..., False, False, False]],\n",
       "\n",
       "         ...,\n",
       "\n",
       "         [[False, False, False, ..., False, False, False]],\n",
       "\n",
       "         [[False, False, False, ..., False, False, False]],\n",
       "\n",
       "         [[False, False, False, ..., False, False, False]]],\n",
       "\n",
       "\n",
       "        [[[False, False, False, ..., False, False, False]],\n",
       "\n",
       "         [[False, False, False, ..., False, False, False]],\n",
       "\n",
       "         [[False, False, False, ..., False, False, False]],\n",
       "\n",
       "         ...,\n",
       "\n",
       "         [[False, False, False, ..., False, False, False]],\n",
       "\n",
       "         [[False, False, False, ..., False, False, False]],\n",
       "\n",
       "         [[False, False, False, ..., False, False, False]]],\n",
       "\n",
       "\n",
       "        ...,\n",
       "\n",
       "\n",
       "        [[[False, False, False, ..., False, False, False]],\n",
       "\n",
       "         [[False, False, False, ..., False, False, False]],\n",
       "\n",
       "         [[False, False, False, ..., False, False, False]],\n",
       "\n",
       "         ...,\n",
       "\n",
       "         [[False, False, False, ..., False, False, False]],\n",
       "\n",
       "         [[False, False, False, ..., False, False, False]],\n",
       "\n",
       "         [[False, False, False, ..., False, False, False]]],\n",
       "\n",
       "\n",
       "        [[[False, False, False, ..., False, False, False]],\n",
       "\n",
       "         [[False, False, False, ..., False, False, False]],\n",
       "\n",
       "         [[False, False, False, ..., False, False, False]],\n",
       "\n",
       "         ...,\n",
       "\n",
       "         [[False, False, False, ..., False, False, False]],\n",
       "\n",
       "         [[False, False, False, ..., False, False, False]],\n",
       "\n",
       "         [[False, False, False, ..., False, False, False]]],\n",
       "\n",
       "\n",
       "        [[[False, False, False, ..., False, False, False]],\n",
       "\n",
       "         [[False, False, False, ..., False, False, False]],\n",
       "\n",
       "         [[False, False, False, ..., False, False, False]],\n",
       "\n",
       "         ...,\n",
       "\n",
       "         [[False, False, False, ..., False, False, False]],\n",
       "\n",
       "         [[False, False, False, ..., False, False, False]],\n",
       "\n",
       "         [[False, False, False, ..., False, False, False]]]]])"
      ]
     },
     "execution_count": 415,
     "metadata": {},
     "output_type": "execute_result"
    }
   ],
   "source": [
    "inp.astype(\"bool\")"
   ]
  },
  {
   "cell_type": "code",
   "execution_count": 409,
   "metadata": {},
   "outputs": [
    {
     "ename": "ValueError",
     "evalue": "The truth value of an array with more than one element is ambiguous. Use a.any() or a.all()",
     "output_type": "error",
     "traceback": [
      "\u001b[0;31m---------------------------------------------------------------------------\u001b[0m",
      "\u001b[0;31mValueError\u001b[0m                                Traceback (most recent call last)",
      "\u001b[0;32m<ipython-input-409-184f91caefbf>\u001b[0m in \u001b[0;36m<module>\u001b[0;34m\u001b[0m\n\u001b[0;32m----> 1\u001b[0;31m \u001b[0mst\u001b[0m \u001b[0;34m>\u001b[0m \u001b[0;36m0\u001b[0m\u001b[0;34m\u001b[0m\u001b[0;34m\u001b[0m\u001b[0m\n\u001b[0m",
      "\u001b[0;31mValueError\u001b[0m: The truth value of an array with more than one element is ambiguous. Use a.any() or a.all()"
     ]
    }
   ],
   "source": [
    "st > 0"
   ]
  },
  {
   "cell_type": "code",
   "execution_count": 300,
   "metadata": {},
   "outputs": [
    {
     "data": {
      "text/plain": [
       "<matplotlib.colorbar.Colorbar at 0x7f92b8ed4790>"
      ]
     },
     "execution_count": 300,
     "metadata": {},
     "output_type": "execute_result"
    },
    {
     "data": {
      "image/png": "[encoded data removed]",
      "text/plain": [
       "<Figure size 432x288 with 2 Axes>"
      ]
     },
     "metadata": {
      "needs_background": "light"
     },
     "output_type": "display_data"
    }
   ],
   "source": [
    "plt.pcolor(inp[0,:,:,0,:].reshape(28**2,50))\n",
    "plt.colorbar()"
   ]
  },
  {
   "cell_type": "code",
   "execution_count": 301,
   "metadata": {},
   "outputs": [
    {
     "data": {
      "text/plain": [
       "<matplotlib.colorbar.Colorbar at 0x7f92d0e31e50>"
      ]
     },
     "execution_count": 301,
     "metadata": {},
     "output_type": "execute_result"
    },
    {
     "data": {
      "image/png": "[encoded data removed]",
      "text/plain": [
       "<Figure size 432x288 with 2 Axes>"
      ]
     },
     "metadata": {
      "needs_background": "light"
     },
     "output_type": "display_data"
    }
   ],
   "source": [
    "plt.pcolor(st[0,0][0,:,:])\n",
    "plt.colorbar()"
   ]
  },
  {
   "cell_type": "code",
   "execution_count": 309,
   "metadata": {},
   "outputs": [
    {
     "data": {
      "text/plain": [
       "[<matplotlib.lines.Line2D at 0x7f929d047c40>]"
      ]
     },
     "execution_count": 309,
     "metadata": {},
     "output_type": "execute_result"
    },
    {
     "data": {
      "image/png": "[encoded data removed]",
      "text/plain": [
       "<Figure size 432x288 with 1 Axes>"
      ]
     },
     "metadata": {
      "needs_background": "light"
     },
     "output_type": "display_data"
    }
   ],
   "source": [
    "plt.plot(rc_acc)"
   ]
  },
  {
   "cell_type": "code",
   "execution_count": null,
   "metadata": {},
   "outputs": [],
   "source": []
  },
  {
   "cell_type": "code",
   "execution_count": 310,
   "metadata": {},
   "outputs": [
    {
     "data": {
      "text/plain": [
       "array([121., 396., 200., 136., 249., 196., 118., 179.,  34., 103., 235.,\n",
       "        91., 113., 166., 420., 142., 211., 304., 241., 339., 423., 137.,\n",
       "       173., 151., 145., 151., 345., 304., 198., 261., 361., 158.,  99.,\n",
       "       254., 214., 134., 130.,  41., 164., 237., 328., 199., 271., 201.,\n",
       "       374., 105., 395., 196., 170., 335., 425., 143.,  47., 497., 194.,\n",
       "       389., 344., 275., 276., 120., 110., 155., 285.,  74., 218., 109.,\n",
       "       133., 229., 118., 367., 113., 116., 530., 353., 332.,  95., 201.,\n",
       "       430., 310., 376., 104., 382., 129., 280.,  95., 333., 242., 365.,\n",
       "       305., 472.,  57.,  93., 381., 192., 173., 268., 121., 173., 458.,\n",
       "       366., 143., 276.,  96., 237., 168., 213.,  72., 166., 225., 300.,\n",
       "       187.,  70., 111., 329.,  75., 432., 249., 241., 115., 501., 226.,\n",
       "       355., 152., 236., 300., 314., 236., 323.])"
      ]
     },
     "execution_count": 310,
     "metadata": {},
     "output_type": "execute_result"
    }
   ],
   "source": [
    "np.sum(inp[:,:,:,:,0:1], axis=(1,2,3,4))"
   ]
  },
  {
   "cell_type": "code",
   "execution_count": 315,
   "metadata": {},
   "outputs": [
    {
     "data": {
      "text/plain": [
       "array([121., 396., 200., 136., 249., 196., 118., 179.,  34., 103., 235.,\n",
       "        91., 113., 166., 420., 142., 211., 304., 241., 339., 423., 137.,\n",
       "       173., 151., 145., 151., 345., 304., 198., 261., 361., 158.,  99.,\n",
       "       254., 214., 134., 130.,  41., 164., 237., 328., 199., 271., 201.,\n",
       "       374., 105., 395., 196., 170., 335., 425., 143.,  47., 497., 194.,\n",
       "       389., 344., 275., 276., 120., 110., 155., 285.,  74., 218., 109.,\n",
       "       133., 229., 118., 367., 113., 116., 530., 353., 332.,  95., 201.,\n",
       "       430., 310., 376., 104., 382., 129., 280.,  95., 333., 242., 365.,\n",
       "       305., 472.,  57.,  93., 381., 192., 173., 268., 121., 173., 458.,\n",
       "       366., 143., 276.,  96., 237., 168., 213.,  72., 166., 225., 300.,\n",
       "       187.,  70., 111., 329.,  75., 432., 249., 241., 115., 501., 226.,\n",
       "       355., 152., 236., 300., 314., 236., 323.])"
      ]
     },
     "execution_count": 315,
     "metadata": {},
     "output_type": "execute_result"
    }
   ],
   "source": [
    "np.sum(inp[...,0:1], axis=(1,2,3,4))"
   ]
  },
  {
   "cell_type": "code",
   "execution_count": 312,
   "metadata": {},
   "outputs": [
    {
     "data": {
      "text/plain": [
       "(128, 28, 28, 1, 50)"
      ]
     },
     "execution_count": 312,
     "metadata": {},
     "output_type": "execute_result"
    }
   ],
   "source": [
    "inp.shape"
   ]
  },
  {
   "cell_type": "code",
   "execution_count": 313,
   "metadata": {},
   "outputs": [
    {
     "data": {
      "text/plain": [
       "(2, 2)"
      ]
     },
     "execution_count": 313,
     "metadata": {},
     "output_type": "execute_result"
    }
   ],
   "source": [
    "st.shape"
   ]
  },
  {
   "cell_type": "code",
   "execution_count": 314,
   "metadata": {},
   "outputs": [
    {
     "data": {
      "text/plain": [
       "(128, 100, 50)"
      ]
     },
     "execution_count": 314,
     "metadata": {},
     "output_type": "execute_result"
    }
   ],
   "source": [
    "st[0,0].shape"
   ]
  },
  {
   "cell_type": "code",
   "execution_count": null,
   "metadata": {},
   "outputs": [],
   "source": []
  },
  {
   "cell_type": "code",
   "execution_count": 331,
   "metadata": {},
   "outputs": [],
   "source": [
    "def count_spks_mlp_ratecode(input_spks, model_spikes, t):\n",
    "    \n",
    "    \n",
    "    #count spikes over all input neurons to current step\n",
    "    input_sum = np.mean(np.sum(input_spks[:,:,:,:,0:t], axis=(1,2,3,4)))\n",
    "    #get the average, cumulative number of dense1 spikes at the current time\n",
    "    dense_spks = model_spikes[0,0] > 0\n",
    "    mid_sum = np.mean(dense_spks[...,0:t].sum(axis=(1,2)))\n",
    "    \n",
    "    return [input_sum, mid_sum]  \n",
    "                "
   ]
  },
  {
   "cell_type": "code",
   "execution_count": 333,
   "metadata": {
    "scrolled": true
   },
   "outputs": [
    {
     "data": {
      "text/plain": [
       "[11457.5, 379.765625]"
      ]
     },
     "execution_count": 333,
     "metadata": {},
     "output_type": "execute_result"
    }
   ],
   "source": [
    "count_spks_mlp_ratecode(inp, st, 50)"
   ]
  },
  {
   "cell_type": "code",
   "execution_count": 355,
   "metadata": {},
   "outputs": [],
   "source": [
    "def count_ops_mlp_ratecode(input_spks, model_spks, t, n_hidden=100, n_classes=10):\n",
    "    fanout = np.array([[n_hidden, n_classes]])\n",
    "    spk_ops = count_spks_mlp_ratecode(input_spks, model_spks, t) * fanout\n",
    "    \n",
    "    return spk_ops.sum()"
   ]
  },
  {
   "cell_type": "code",
   "execution_count": 356,
   "metadata": {},
   "outputs": [],
   "source": [
    "rc_ops = np.array([count_ops_mlp_ratecode(inp, st, t) for t in np.arange(0,50,1)])"
   ]
  },
  {
   "cell_type": "code",
   "execution_count": 357,
   "metadata": {},
   "outputs": [
    {
     "data": {
      "text/plain": [
       "(50,)"
      ]
     },
     "execution_count": 357,
     "metadata": {},
     "output_type": "execute_result"
    }
   ],
   "source": [
    "rc_ops.shape"
   ]
  },
  {
   "cell_type": "code",
   "execution_count": 358,
   "metadata": {},
   "outputs": [
    {
     "data": {
      "text/plain": [
       "(50,)"
      ]
     },
     "execution_count": 358,
     "metadata": {},
     "output_type": "execute_result"
    }
   ],
   "source": [
    "rc_acc.shape"
   ]
  },
  {
   "cell_type": "code",
   "execution_count": null,
   "metadata": {},
   "outputs": [],
   "source": []
  },
  {
   "cell_type": "code",
   "execution_count": 359,
   "metadata": {},
   "outputs": [
    {
     "data": {
      "text/plain": [
       "Text(0, 0.5, 'Accuracy')"
      ]
     },
     "execution_count": 359,
     "metadata": {},
     "output_type": "execute_result"
    },
    {
     "data": {
      "image/png": "[encoded data removed]",
      "text/plain": [
       "<Figure size 600x400 with 1 Axes>"
      ]
     },
     "metadata": {
      "needs_background": "light"
     },
     "output_type": "display_data"
    }
   ],
   "source": [
    "plt.figure(dpi=dpi)\n",
    "plt.scatter(ops2[0:15,:], accs[0:15,:])\n",
    "plt.scatter(rc_ops, rc_acc)\n",
    "plt.xlabel(\"Operations\")\n",
    "plt.ylabel(\"Accuracy\")"
   ]
  },
  {
   "cell_type": "code",
   "execution_count": 364,
   "metadata": {},
   "outputs": [
    {
     "data": {
      "text/plain": [
       "Text(0, 0.5, 'Accuracy')"
      ]
     },
     "execution_count": 364,
     "metadata": {},
     "output_type": "execute_result"
    },
    {
     "data": {
      "image/png": "[encoded data removed]",
      "text/plain": [
       "<Figure size 600x400 with 1 Axes>"
      ]
     },
     "metadata": {
      "needs_background": "light"
     },
     "output_type": "display_data"
    }
   ],
   "source": [
    "plt.figure(dpi=dpi)\n",
    "plt.scatter(ops2[1:2,:], accs[1:2,:])\n",
    "plt.plot(rc_ops, rc_acc)\n",
    "plt.xlabel(\"Operations\")\n",
    "plt.ylabel(\"Accuracy\")"
   ]
  },
  {
   "cell_type": "code",
   "execution_count": null,
   "metadata": {},
   "outputs": [],
   "source": [
    "#  TODO - for conv2d"
   ]
  },
  {
   "cell_type": "code",
   "execution_count": null,
   "metadata": {},
   "outputs": [],
   "source": [
    "#full dynamic execution on test set - takes a few hours"
   ]
  },
  {
   "cell_type": "code",
   "execution_count": null,
   "metadata": {
    "scrolled": true
   },
   "outputs": [],
   "source": [
    "all_yhs = model.evaluate(ds_test, method=\"dynamic\")"
   ]
  },
  {
   "cell_type": "code",
   "execution_count": null,
   "metadata": {},
   "outputs": [],
   "source": [
    "np.savez_compressed(\"fashion_yhs_dynamic.npz\", yhs=all_yhs.numpy(), ys=y_test)"
   ]
  },
  {
   "cell_type": "code",
   "execution_count": null,
   "metadata": {},
   "outputs": [],
   "source": [
    "yhmode = model.predict(all_yhs, \"mode\").ravel()"
   ]
  },
  {
   "cell_type": "code",
   "execution_count": null,
   "metadata": {},
   "outputs": [],
   "source": [
    "yhmean = model.predict(all_yhs, \"dynamic_mean\")"
   ]
  },
  {
   "cell_type": "code",
   "execution_count": null,
   "metadata": {},
   "outputs": [],
   "source": [
    "np.mean(yhmode == y_test)"
   ]
  },
  {
   "cell_type": "code",
   "execution_count": null,
   "metadata": {},
   "outputs": [],
   "source": [
    "np.mean(yhmean == y_test)"
   ]
  },
  {
   "cell_type": "code",
   "execution_count": null,
   "metadata": {},
   "outputs": [],
   "source": [
    "zs = model.dense1.solutions[0].y"
   ]
  },
  {
   "cell_type": "code",
   "execution_count": null,
   "metadata": {},
   "outputs": [],
   "source": [
    "zs = model.dense1.solutions[1].y"
   ]
  },
  {
   "cell_type": "code",
   "execution_count": null,
   "metadata": {
    "scrolled": true
   },
   "outputs": [],
   "source": [
    "zs.shape"
   ]
  },
  {
   "cell_type": "code",
   "execution_count": null,
   "metadata": {},
   "outputs": [],
   "source": [
    "model.evaluate(ds_test)"
   ]
  },
  {
   "cell_type": "code",
   "execution_count": null,
   "metadata": {},
   "outputs": [],
   "source": [
    "def train_and_save(num):\n",
    "    model = PhasorModel(input_shape, \n",
    "                    onehot_offset=0.0, \n",
    "                    onehot_phase=0.5,\n",
    "                    projection=\"dot\",\n",
    "                   \n",
    "                   exec_time=5.0,\n",
    "                   repeats=5,\n",
    "                   max_step=0.02)\n",
    "    model.compile(optimizer=\"rmsprop\")\n",
    "    loss = model.train(ds_train, 2)\n",
    "    \n",
    "    yh_static = model.evaluate(ds_test, method=\"static\")\n",
    "    yh_dynamic = model.evaluate(ds_test, method=\"dynamic\")\n",
    "    \n",
    "    name = \"fashion_model_\"+str(num)+\".npz\"\n",
    "    np.savez_compressed(name, \n",
    "                        yh_static=yh_static.numpy(),\n",
    "                        yh_dynamic=yh_dynamic.numpy(),\n",
    "                        ys=y_test.numpy())"
   ]
  },
  {
   "cell_type": "code",
   "execution_count": null,
   "metadata": {},
   "outputs": [],
   "source": [
    "train_and_save(5)"
   ]
  },
  {
   "cell_type": "code",
   "execution_count": null,
   "metadata": {
    "scrolled": true
   },
   "outputs": [],
   "source": [
    "for i in range(4):\n",
    "    train_and_save(i)"
   ]
  },
  {
   "cell_type": "code",
   "execution_count": null,
   "metadata": {},
   "outputs": [],
   "source": [
    "train_and_save(4)"
   ]
  },
  {
   "cell_type": "code",
   "execution_count": null,
   "metadata": {
    "scrolled": true
   },
   "outputs": [],
   "source": [
    "for i in range(6,8):\n",
    "    train_and_save(i)"
   ]
  },
  {
   "cell_type": "code",
   "execution_count": null,
   "metadata": {},
   "outputs": [],
   "source": []
  }
 ],
 "metadata": {
  "kernelspec": {
   "display_name": "Python 3 (ipykernel)",
   "language": "python",
   "name": "python3"
  },
  "language_info": {
   "codemirror_mode": {
    "name": "ipython",
    "version": 3
   },
   "file_extension": ".py",
   "mimetype": "text/x-python",
   "name": "python",
   "nbconvert_exporter": "python",
   "pygments_lexer": "ipython3",
   "version": "3.9.7"
  }
 },
 "nbformat": 4,
 "nbformat_minor": 4
}
