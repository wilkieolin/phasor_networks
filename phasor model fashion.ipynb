{
 "cells": [
  {
   "cell_type": "code",
   "execution_count": 1,
   "metadata": {},
   "outputs": [],
   "source": [
    "import matplotlib.pyplot as plt\n",
    "import numpy as np\n",
    "\n",
    "import tensorflow as tf\n",
    "import tensorflow_datasets as tfds\n",
    "import tensorflow.keras as keras\n",
    "import tensorflow.keras.layers as layers\n",
    "import tensorflow.keras.backend as be"
   ]
  },
  {
   "cell_type": "code",
   "execution_count": 2,
   "metadata": {},
   "outputs": [],
   "source": [
    "from utils import *\n",
    "from data import *\n",
    "from layers import *\n",
    "from models import *"
   ]
  },
  {
   "cell_type": "code",
   "execution_count": 3,
   "metadata": {},
   "outputs": [],
   "source": [
    "from models import *"
   ]
  },
  {
   "cell_type": "code",
   "execution_count": 4,
   "metadata": {},
   "outputs": [],
   "source": [
    "limit_gpus()\n",
    "set_gpu(0)"
   ]
  },
  {
   "cell_type": "code",
   "execution_count": 5,
   "metadata": {},
   "outputs": [],
   "source": [
    "dpi=100"
   ]
  },
  {
   "cell_type": "code",
   "execution_count": 6,
   "metadata": {},
   "outputs": [],
   "source": [
    "dataset = \"fashion_mnist\"\n",
    "ds_train, ds_test, ds_info = load_dataset(dataset, 128)\n",
    "\n",
    "input_shape = ds_info.features['image'].shape\n",
    "num_classes = ds_info.features['label'].num_classes"
   ]
  },
  {
   "cell_type": "code",
   "execution_count": 7,
   "metadata": {},
   "outputs": [],
   "source": [
    "x_train, y_train = get_raw_dat(ds_train)"
   ]
  },
  {
   "cell_type": "code",
   "execution_count": 8,
   "metadata": {},
   "outputs": [],
   "source": [
    "x_test, y_test = get_raw_dat(ds_test)"
   ]
  },
  {
   "cell_type": "code",
   "execution_count": 9,
   "metadata": {},
   "outputs": [],
   "source": [
    "xs, ys = next(iter(ds_train))"
   ]
  },
  {
   "cell_type": "code",
   "execution_count": 10,
   "metadata": {},
   "outputs": [
    {
     "data": {
      "text/plain": [
       "(28, 28, 1)"
      ]
     },
     "execution_count": 10,
     "metadata": {},
     "output_type": "execute_result"
    }
   ],
   "source": [
    "input_shape"
   ]
  },
  {
   "cell_type": "code",
   "execution_count": 11,
   "metadata": {},
   "outputs": [],
   "source": [
    "model = PhasorModel(input_shape, \n",
    "                    onehot_offset=0.0, \n",
    "                    onehot_phase=0.5,\n",
    "                    projection=\"dot\",\n",
    "                   \n",
    "                   exec_time=5.0,\n",
    "                   repeats=5,\n",
    "                   max_step=0.02)"
   ]
  },
  {
   "cell_type": "code",
   "execution_count": 12,
   "metadata": {},
   "outputs": [],
   "source": [
    "ys0 = model(xs)"
   ]
  },
  {
   "cell_type": "code",
   "execution_count": 13,
   "metadata": {},
   "outputs": [
    {
     "data": {
      "text/plain": [
       "(array([138., 103.,  58.,  43.,  78., 146., 228., 220., 128., 138.]),\n",
       " array([-9.9942553e-01, -7.9957557e-01, -5.9972566e-01, -3.9987570e-01,\n",
       "        -2.0002575e-01, -1.7580390e-04,  1.9967414e-01,  3.9952409e-01,\n",
       "         5.9937406e-01,  7.9922396e-01,  9.9907392e-01], dtype=float32),\n",
       " <BarContainer object of 10 artists>)"
      ]
     },
     "execution_count": 13,
     "metadata": {},
     "output_type": "execute_result"
    },
    {
     "data": {
      "image/png": "[encoded data removed]",
      "text/plain": [
       "<Figure size 432x288 with 1 Axes>"
      ]
     },
     "metadata": {
      "needs_background": "light"
     },
     "output_type": "display_data"
    }
   ],
   "source": [
    "plt.hist(ys0.numpy().ravel())"
   ]
  },
  {
   "cell_type": "code",
   "execution_count": 14,
   "metadata": {},
   "outputs": [],
   "source": [
    "model.compile(optimizer=\"rmsprop\")"
   ]
  },
  {
   "cell_type": "code",
   "execution_count": 15,
   "metadata": {
    "scrolled": true
   },
   "outputs": [
    {
     "name": "stdout",
     "output_type": "stream",
     "text": [
      "Training loss tf.Tensor(0.9985381, shape=(), dtype=float32)\n",
      "Training loss tf.Tensor(0.045961186, shape=(), dtype=float32)\n",
      "Training loss tf.Tensor(0.033493, shape=(), dtype=float32)\n",
      "Training loss tf.Tensor(0.03519135, shape=(), dtype=float32)\n",
      "Training loss tf.Tensor(0.03444554, shape=(), dtype=float32)\n"
     ]
    }
   ],
   "source": [
    "loss = model.train(ds_train, 1)"
   ]
  },
  {
   "cell_type": "code",
   "execution_count": 16,
   "metadata": {},
   "outputs": [
    {
     "data": {
      "text/plain": [
       "[<matplotlib.lines.Line2D at 0x7f4f2b8c2160>]"
      ]
     },
     "execution_count": 16,
     "metadata": {},
     "output_type": "execute_result"
    },
    {
     "data": {
      "image/png": "[encoded data removed]",
      "text/plain": [
       "<Figure size 432x288 with 1 Axes>"
      ]
     },
     "metadata": {
      "needs_background": "light"
     },
     "output_type": "display_data"
    }
   ],
   "source": [
    "plt.semilogy(loss)"
   ]
  },
  {
   "cell_type": "code",
   "execution_count": 17,
   "metadata": {},
   "outputs": [],
   "source": [
    "yh1 = model(xs)"
   ]
  },
  {
   "cell_type": "code",
   "execution_count": 18,
   "metadata": {},
   "outputs": [
    {
     "data": {
      "text/plain": [
       "<matplotlib.colorbar.Colorbar at 0x7f4f2b69daf0>"
      ]
     },
     "execution_count": 18,
     "metadata": {},
     "output_type": "execute_result"
    },
    {
     "data": {
      "image/png": "[encoded data removed]",
      "text/plain": [
       "<Figure size 432x288 with 2 Axes>"
      ]
     },
     "metadata": {
      "needs_background": "light"
     },
     "output_type": "display_data"
    }
   ],
   "source": [
    "plt.pcolor(yh1)\n",
    "plt.colorbar()"
   ]
  },
  {
   "cell_type": "code",
   "execution_count": 19,
   "metadata": {},
   "outputs": [
    {
     "data": {
      "text/plain": [
       "<matplotlib.colorbar.Colorbar at 0x7f4f2b564490>"
      ]
     },
     "execution_count": 19,
     "metadata": {},
     "output_type": "execute_result"
    },
    {
     "data": {
      "image/png": "[encoded data removed]",
      "text/plain": [
       "<Figure size 432x288 with 2 Axes>"
      ]
     },
     "metadata": {
      "needs_background": "light"
     },
     "output_type": "display_data"
    }
   ],
   "source": [
    "plt.pcolor(model.to_phase(ys))\n",
    "plt.colorbar()"
   ]
  },
  {
   "cell_type": "code",
   "execution_count": 20,
   "metadata": {},
   "outputs": [],
   "source": [
    "conf = model.accuracy(ds_test)"
   ]
  },
  {
   "cell_type": "code",
   "execution_count": 21,
   "metadata": {},
   "outputs": [
    {
     "data": {
      "text/plain": [
       "<matplotlib.collections.PolyCollection at 0x7f4f2b53f9d0>"
      ]
     },
     "execution_count": 21,
     "metadata": {},
     "output_type": "execute_result"
    },
    {
     "data": {
      "image/png": "[encoded data removed]",
      "text/plain": [
       "<Figure size 432x288 with 1 Axes>"
      ]
     },
     "metadata": {
      "needs_background": "light"
     },
     "output_type": "display_data"
    }
   ],
   "source": [
    "plt.pcolor(conf[0])"
   ]
  },
  {
   "cell_type": "code",
   "execution_count": 22,
   "metadata": {},
   "outputs": [
    {
     "data": {
      "text/plain": [
       "<tf.Tensor: shape=(), dtype=float64, numpy=0.8262>"
      ]
     },
     "execution_count": 22,
     "metadata": {},
     "output_type": "execute_result"
    }
   ],
   "source": [
    "confusion_to_accuracy(conf)"
   ]
  },
  {
   "cell_type": "code",
   "execution_count": 23,
   "metadata": {},
   "outputs": [
    {
     "data": {
      "text/plain": [
       "<matplotlib.colorbar.Colorbar at 0x7f4f2b4c7d90>"
      ]
     },
     "execution_count": 23,
     "metadata": {},
     "output_type": "execute_result"
    },
    {
     "data": {
      "image/png": "[encoded data removed]",
      "text/plain": [
       "<Figure size 432x288 with 2 Axes>"
      ]
     },
     "metadata": {
      "needs_background": "light"
     },
     "output_type": "display_data"
    }
   ],
   "source": [
    "plt.imshow(xs[0,...], cmap=\"gray\")\n",
    "plt.colorbar()"
   ]
  },
  {
   "cell_type": "code",
   "execution_count": 24,
   "metadata": {},
   "outputs": [],
   "source": [
    "preprocess = keras.Sequential([model.layers[0]])"
   ]
  },
  {
   "cell_type": "code",
   "execution_count": 25,
   "metadata": {},
   "outputs": [],
   "source": [
    "input_spikes = model.phase_to_train(tf.multiply(preprocess(xs[0:10,...]), model.direction))"
   ]
  },
  {
   "cell_type": "code",
   "execution_count": 26,
   "metadata": {},
   "outputs": [
    {
     "name": "stderr",
     "output_type": "stream",
     "text": [
      "100%|██████████| 2/2 [00:04<00:00,  2.33s/it]\n",
      "100%|██████████| 2/2 [00:04<00:00,  2.06s/it]\n"
     ]
    },
    {
     "data": {
      "text/plain": [
       "array([[[ 0.        ,  0.54002087,  0.02002087, -0.01997913,\n",
       "          0.        ,  0.02002087,  0.        ,  0.02002087,\n",
       "          0.02002087,  0.02002087],\n",
       "        [ 0.        ,  0.54002087,  0.02002087, -0.01997913,\n",
       "          0.        ,  0.02002087,  0.        ,  0.02002087,\n",
       "          0.02002087,  0.02002087],\n",
       "        [ 0.        ,  0.54002087,  0.02002087, -0.01997913,\n",
       "          0.        ,  0.02002087,  0.        ,  0.02002087,\n",
       "          0.02002087,  0.02002087],\n",
       "        [ 0.        ,  0.54002087,  0.02002087, -0.01997913,\n",
       "          0.        ,  0.02002087,  0.        ,  0.02002087,\n",
       "          0.02002087,  0.02002087],\n",
       "        [ 0.        ,  0.54002087,  0.02002087, -0.01997913,\n",
       "          0.        ,  0.02002087,  0.        ,  0.02002087,\n",
       "          0.02002087,  0.02002087]],\n",
       "\n",
       "       [[ 0.08376847,  0.00376847,  0.16376847,  0.04376847,\n",
       "          0.        ,  0.04376847,  0.52376847,  0.04376847,\n",
       "          0.04376847,  0.        ],\n",
       "        [ 0.08376847,  0.00376847,  0.16376847,  0.04376847,\n",
       "          0.        ,  0.04376847,  0.52376847,  0.04376847,\n",
       "          0.04376847,  0.        ],\n",
       "        [ 0.08376847,  0.00376847,  0.16376847,  0.04376847,\n",
       "          0.        ,  0.04376847,  0.52376847,  0.04376847,\n",
       "          0.04376847,  0.        ],\n",
       "        [ 0.08376847,  0.00376847,  0.16376847,  0.04376847,\n",
       "          0.        ,  0.04376847,  0.52376847,  0.04376847,\n",
       "          0.04376847,  0.        ],\n",
       "        [ 0.08376847,  0.00376847,  0.16376847,  0.04376847,\n",
       "          0.        ,  0.04376847,  0.52376847,  0.04376847,\n",
       "          0.04376847,  0.        ]]])"
      ]
     },
     "execution_count": 26,
     "metadata": {},
     "output_type": "execute_result"
    }
   ],
   "source": [
    "model.call_dynamic(xs[0:2,...])"
   ]
  },
  {
   "cell_type": "code",
   "execution_count": 27,
   "metadata": {},
   "outputs": [
    {
     "data": {
      "text/plain": [
       "Text(0.5, 1.0, 'Input Layer')"
      ]
     },
     "execution_count": 27,
     "metadata": {},
     "output_type": "execute_result"
    },
    {
     "data": {
      "image/png": "[encoded data removed]",
      "text/plain": [
       "<Figure size 500x500 with 1 Axes>"
      ]
     },
     "metadata": {
      "needs_background": "light"
     },
     "output_type": "display_data"
    }
   ],
   "source": [
    "plt.figure(dpi=dpi, figsize=(5,5))\n",
    "for i in range(10):\n",
    "    plt.plot([0,784],[0.0+i,0+i], color=\"red\")\n",
    "plt.scatter(input_spikes[0][0], input_spikes[0][1], label=\"Input Spikes (Drive)\", s=4)\n",
    "#plt.scatter(dynamic_spikes[0][0], dynamic_spikes[0][1], label=\"Output Spikes (Response)\")\n",
    "#plt.xticks(lblinds, np.around(phases.ravel()[lblinds], decimals=2));\n",
    "\n",
    "plt.xlabel(\"Neuron\")\n",
    "plt.ylabel(\"Spike Time (s)\")\n",
    "plt.ylim(0,5)\n",
    "#plt.ylim(-0.5,10)\n",
    "plt.title(\"Input Layer\")"
   ]
  },
  {
   "cell_type": "code",
   "execution_count": 28,
   "metadata": {},
   "outputs": [],
   "source": [
    "spk_layer1 = model.dense1.spike_trains"
   ]
  },
  {
   "cell_type": "code",
   "execution_count": 29,
   "metadata": {},
   "outputs": [
    {
     "data": {
      "text/plain": [
       "Text(0.5, 1.0, 'Dense 1')"
      ]
     },
     "execution_count": 29,
     "metadata": {},
     "output_type": "execute_result"
    },
    {
     "data": {
      "image/png": "[encoded data removed]",
      "text/plain": [
       "<Figure size 200x500 with 1 Axes>"
      ]
     },
     "metadata": {
      "needs_background": "light"
     },
     "output_type": "display_data"
    }
   ],
   "source": [
    "plt.figure(dpi=dpi, figsize=(2,5))\n",
    "#plt.scatter(dynamic_input[0][0], dynamic_input[0][1], label=\"Input Spikes (Drive)\")\n",
    "for i in range(5):\n",
    "    plt.plot([0,100],[0.25+i,0.25+i], color=\"red\")\n",
    "plt.scatter(spk_layer1[0][0], spk_layer1[0][1], label=\"Output Spikes (Response)\", color=\"green\", s=8)\n",
    "#plt.xticks(lblinds, np.around(phases.ravel()[lblinds], decimals=2));\n",
    "plt.xlabel(\"Neuron\")\n",
    "plt.ylabel(\"Spike Time (s)\")\n",
    "#plt.ylim(-0.5,10)\n",
    "plt.title(\"Dense 1\")"
   ]
  },
  {
   "cell_type": "code",
   "execution_count": 30,
   "metadata": {},
   "outputs": [],
   "source": [
    "spk_layer2 = model.dense2.spike_trains"
   ]
  },
  {
   "cell_type": "code",
   "execution_count": 31,
   "metadata": {},
   "outputs": [
    {
     "data": {
      "text/plain": [
       "Text(0.5, 1.0, 'Dense 2')"
      ]
     },
     "execution_count": 31,
     "metadata": {},
     "output_type": "execute_result"
    },
    {
     "data": {
      "image/png": "[encoded data removed]",
      "text/plain": [
       "<Figure size 200x500 with 1 Axes>"
      ]
     },
     "metadata": {
      "needs_background": "light"
     },
     "output_type": "display_data"
    }
   ],
   "source": [
    "plt.figure(dpi=dpi, figsize=(2,5))\n",
    "#plt.scatter(dynamic_input[0][0], dynamic_input[0][1], label=\"Input Spikes (Drive)\")\n",
    "for i in range(5):\n",
    "    plt.plot([0,10],[0.50+i,0.50+i], color=\"red\")\n",
    "plt.scatter(spk_layer2[0][0], spk_layer2[0][1], label=\"Output Spikes (Response)\", color=\"purple\", s=8)\n",
    "#plt.xticks(lblinds, np.around(phases.ravel()[lblinds], decimals=2));\n",
    "plt.xlabel(\"Neuron\")\n",
    "plt.ylabel(\"Spike Time (s)\")\n",
    "#plt.ylim(-0.5,10)\n",
    "plt.title(\"Dense 2\")"
   ]
  },
  {
   "cell_type": "code",
   "execution_count": 32,
   "metadata": {},
   "outputs": [],
   "source": [
    "#execution sensitivity test"
   ]
  },
  {
   "cell_type": "code",
   "execution_count": 33,
   "metadata": {},
   "outputs": [],
   "source": [
    "points = np.logspace(2.5, 0.7, 21).astype(\"int\")"
   ]
  },
  {
   "cell_type": "code",
   "execution_count": 34,
   "metadata": {},
   "outputs": [
    {
     "data": {
      "text/plain": [
       "array([316, 257, 208, 169, 138, 112,  91,  74,  60,  48,  39,  32,  26,\n",
       "        21,  17,  14,  11,   9,   7,   6,   5])"
      ]
     },
     "execution_count": 34,
     "metadata": {},
     "output_type": "execute_result"
    }
   ],
   "source": [
    "points"
   ]
  },
  {
   "cell_type": "code",
   "execution_count": 35,
   "metadata": {},
   "outputs": [],
   "source": [
    "dts = 1.0 / points"
   ]
  },
  {
   "cell_type": "code",
   "execution_count": 36,
   "metadata": {},
   "outputs": [
    {
     "data": {
      "text/plain": [
       "array([0.00316456, 0.00389105, 0.00480769, 0.00591716, 0.00724638,\n",
       "       0.00892857, 0.01098901, 0.01351351, 0.01666667, 0.02083333,\n",
       "       0.02564103, 0.03125   , 0.03846154, 0.04761905, 0.05882353,\n",
       "       0.07142857, 0.09090909, 0.11111111, 0.14285714, 0.16666667,\n",
       "       0.2       ])"
      ]
     },
     "execution_count": 36,
     "metadata": {},
     "output_type": "execute_result"
    }
   ],
   "source": [
    "dts"
   ]
  },
  {
   "cell_type": "code",
   "execution_count": 37,
   "metadata": {},
   "outputs": [],
   "source": [
    "x_subset = x_test[0:128,...]\n",
    "y_subset = y_test[0:128,...]"
   ]
  },
  {
   "cell_type": "code",
   "execution_count": 38,
   "metadata": {},
   "outputs": [
    {
     "data": {
      "text/plain": [
       "{'leakage': -0.2,\n",
       " 'period': 1.0,\n",
       " 'window': 0.05,\n",
       " 'spk_mode': 'gradient',\n",
       " 'threshold': 0.03,\n",
       " 'exec_time': 5.0,\n",
       " 'max_step': 0.02}"
      ]
     },
     "execution_count": 38,
     "metadata": {},
     "output_type": "execute_result"
    }
   ],
   "source": [
    "model.dyn_params"
   ]
  },
  {
   "cell_type": "code",
   "execution_count": 39,
   "metadata": {},
   "outputs": [
    {
     "name": "stderr",
     "output_type": "stream",
     "text": [
      "100%|██████████| 128/128 [00:39<00:00,  3.21it/s]\n",
      "100%|██████████| 128/128 [00:35<00:00,  3.57it/s]\n"
     ]
    }
   ],
   "source": [
    "out = model.call_dynamic(x_subset, solver=\"euler\")"
   ]
  },
  {
   "cell_type": "code",
   "execution_count": 40,
   "metadata": {},
   "outputs": [],
   "source": [
    "ys0 = model.predict(out, method=\"dynamic_last\")"
   ]
  },
  {
   "cell_type": "code",
   "execution_count": 41,
   "metadata": {},
   "outputs": [
    {
     "data": {
      "text/plain": [
       "0.8515625"
      ]
     },
     "execution_count": 41,
     "metadata": {},
     "output_type": "execute_result"
    }
   ],
   "source": [
    "np.mean(ys0 == y_subset)"
   ]
  },
  {
   "cell_type": "code",
   "execution_count": 46,
   "metadata": {},
   "outputs": [],
   "source": [
    "def test_sensitivity(dts):\n",
    "    results = []\n",
    "    \n",
    "    model.dyn_params[\"solver\"] = \"euler\"\n",
    "    for dt in dts:\n",
    "        model.dense1.max_step = dt\n",
    "        model.dense2.max_step = dt\n",
    "        \n",
    "        out = [model.call_dynamic(x_subset, solver=\"euler\")]\n",
    "        results.append(out)\n",
    "        \n",
    "    return results"
   ]
  },
  {
   "cell_type": "code",
   "execution_count": 44,
   "metadata": {},
   "outputs": [
    {
     "data": {
      "text/plain": [
       "array([0.00316456, 0.00389105, 0.00480769, 0.00591716, 0.00724638,\n",
       "       0.00892857, 0.01098901, 0.01351351, 0.01666667, 0.02083333,\n",
       "       0.02564103, 0.03125   , 0.03846154, 0.04761905, 0.05882353,\n",
       "       0.07142857, 0.09090909, 0.11111111, 0.14285714, 0.16666667,\n",
       "       0.2       ])"
      ]
     },
     "execution_count": 44,
     "metadata": {},
     "output_type": "execute_result"
    }
   ],
   "source": [
    "dts"
   ]
  },
  {
   "cell_type": "code",
   "execution_count": 47,
   "metadata": {
    "scrolled": true
   },
   "outputs": [
    {
     "name": "stderr",
     "output_type": "stream",
     "text": [
      "100%|██████████| 128/128 [03:55<00:00,  1.84s/it]\n",
      "100%|██████████| 128/128 [03:38<00:00,  1.71s/it]\n",
      "100%|██████████| 128/128 [03:10<00:00,  1.49s/it]\n",
      "100%|██████████| 128/128 [02:57<00:00,  1.38s/it]\n",
      "100%|██████████| 128/128 [02:33<00:00,  1.20s/it]\n",
      "100%|██████████| 128/128 [02:25<00:00,  1.13s/it]\n",
      "100%|██████████| 128/128 [02:04<00:00,  1.03it/s]\n",
      "100%|██████████| 128/128 [01:55<00:00,  1.11it/s]\n",
      "100%|██████████| 128/128 [01:44<00:00,  1.23it/s]\n",
      "100%|██████████| 128/128 [01:34<00:00,  1.36it/s]\n",
      "100%|██████████| 128/128 [01:22<00:00,  1.54it/s]\n",
      "100%|██████████| 128/128 [01:16<00:00,  1.67it/s]\n",
      "100%|██████████| 128/128 [01:09<00:00,  1.85it/s]\n",
      "100%|██████████| 128/128 [01:03<00:00,  2.03it/s]\n",
      "100%|██████████| 128/128 [00:54<00:00,  2.34it/s]\n",
      "100%|██████████| 128/128 [00:51<00:00,  2.47it/s]\n",
      "100%|██████████| 128/128 [00:45<00:00,  2.82it/s]\n",
      "100%|██████████| 128/128 [00:41<00:00,  3.11it/s]\n",
      "100%|██████████| 128/128 [00:35<00:00,  3.58it/s]\n",
      "100%|██████████| 128/128 [00:34<00:00,  3.70it/s]\n",
      "100%|██████████| 128/128 [00:30<00:00,  4.22it/s]\n",
      "100%|██████████| 128/128 [00:27<00:00,  4.71it/s]\n",
      "100%|██████████| 128/128 [00:23<00:00,  5.41it/s]\n",
      "100%|██████████| 128/128 [00:22<00:00,  5.81it/s]\n",
      "100%|██████████| 128/128 [00:19<00:00,  6.59it/s]\n",
      "100%|██████████| 128/128 [00:18<00:00,  7.10it/s]\n",
      "100%|██████████| 128/128 [00:15<00:00,  8.07it/s]\n",
      "100%|██████████| 128/128 [00:14<00:00,  8.81it/s]\n",
      "100%|██████████| 128/128 [00:12<00:00, 10.03it/s]\n",
      "100%|██████████| 128/128 [00:11<00:00, 10.94it/s]\n",
      "100%|██████████| 128/128 [00:10<00:00, 12.30it/s]\n",
      "100%|██████████| 128/128 [00:09<00:00, 13.16it/s]\n",
      "100%|██████████| 128/128 [00:08<00:00, 15.48it/s]\n",
      "100%|██████████| 128/128 [00:07<00:00, 16.92it/s]\n",
      "100%|██████████| 128/128 [00:06<00:00, 18.81it/s]\n",
      "100%|██████████| 128/128 [00:06<00:00, 20.90it/s]\n",
      "100%|██████████| 128/128 [00:05<00:00, 24.52it/s]\n",
      "100%|██████████| 128/128 [00:04<00:00, 26.08it/s]\n",
      "100%|██████████| 128/128 [00:04<00:00, 28.58it/s]\n",
      "100%|██████████| 128/128 [00:04<00:00, 31.12it/s]\n",
      "100%|██████████| 128/128 [00:03<00:00, 33.37it/s]\n",
      "100%|██████████| 128/128 [00:03<00:00, 37.33it/s]\n"
     ]
    },
    {
     "data": {
      "text/plain": [
       "[[array([[[ 0.05063291,  0.01265823,  0.01265823, ..., -0.02531646,\n",
       "            0.08860759,  0.13291139],\n",
       "          [ 0.05063291,  0.01265823,  0.01265823, ..., -0.02531646,\n",
       "            0.08860759,  0.13291139],\n",
       "          [ 0.05063291,  0.01265823,  0.01265823, ..., -0.02531646,\n",
       "            0.08860759,  0.13291139],\n",
       "          [ 0.05063291,  0.01265823,  0.01265823, ..., -0.02531646,\n",
       "            0.08860759,  0.13291139],\n",
       "          [ 0.05063291,  0.01265823,  0.01265823, ..., -0.02531646,\n",
       "            0.08860759,  0.13291139]],\n",
       "  \n",
       "         [[ 0.        , -0.01265823,  0.13291139, ...,  0.02531646,\n",
       "            0.01265823,  0.01265823],\n",
       "          [ 0.        , -0.01265823,  0.13291139, ...,  0.02531646,\n",
       "            0.01265823,  0.01265823],\n",
       "          [ 0.        , -0.01265823,  0.13291139, ...,  0.02531646,\n",
       "            0.01265823,  0.01265823],\n",
       "          [ 0.        , -0.01265823,  0.13291139, ...,  0.02531646,\n",
       "            0.01265823,  0.01265823],\n",
       "          [ 0.        , -0.01265823,  0.13291139, ...,  0.02531646,\n",
       "            0.01265823,  0.01265823]],\n",
       "  \n",
       "         [[ 0.01898734, -0.01265823,  0.05696203, ...,  0.30379747,\n",
       "           -0.01265823,  0.00632911],\n",
       "          [ 0.01898734, -0.01265823,  0.05696203, ...,  0.30379747,\n",
       "           -0.01265823,  0.00632911],\n",
       "          [ 0.01898734, -0.01265823,  0.05696203, ...,  0.30379747,\n",
       "           -0.01265823,  0.00632911],\n",
       "          [ 0.01898734, -0.01265823,  0.05696203, ...,  0.30379747,\n",
       "           -0.01265823,  0.00632911],\n",
       "          [ 0.01898734, -0.01265823,  0.05696203, ...,  0.30379747,\n",
       "           -0.01265823,  0.00632911]],\n",
       "  \n",
       "         ...,\n",
       "  \n",
       "         [[-0.01898734, -0.01265823,  0.20253165, ..., -0.02531646,\n",
       "           -0.00632911, -0.00632911],\n",
       "          [-0.01898734, -0.01265823,  0.20253165, ..., -0.02531646,\n",
       "           -0.00632911, -0.00632911],\n",
       "          [-0.01898734, -0.01265823,  0.20253165, ..., -0.02531646,\n",
       "           -0.00632911, -0.00632911],\n",
       "          [-0.01898734, -0.01265823,  0.20253165, ..., -0.02531646,\n",
       "           -0.00632911, -0.00632911],\n",
       "          [-0.01898734, -0.01265823,  0.20253165, ..., -0.02531646,\n",
       "           -0.00632911, -0.00632911]],\n",
       "  \n",
       "         [[-0.01898734, -0.01265823, -0.02531646, ..., -0.01265823,\n",
       "            0.01265823, -0.01898734],\n",
       "          [-0.01898734, -0.01265823, -0.02531646, ..., -0.01265823,\n",
       "            0.01265823, -0.01898734],\n",
       "          [-0.01898734, -0.01265823, -0.02531646, ..., -0.01265823,\n",
       "            0.01265823, -0.01898734],\n",
       "          [-0.01898734, -0.01265823, -0.02531646, ..., -0.01265823,\n",
       "            0.01265823, -0.01898734],\n",
       "          [-0.01898734, -0.01265823, -0.02531646, ..., -0.01265823,\n",
       "            0.01265823, -0.01898734]],\n",
       "  \n",
       "         [[ 0.43670886, -0.03797468, -0.01265823, ..., -0.00632911,\n",
       "            0.01265823, -0.01265823],\n",
       "          [ 0.43670886, -0.03797468, -0.01265823, ..., -0.00632911,\n",
       "            0.01265823, -0.01265823],\n",
       "          [ 0.43670886, -0.03797468, -0.01265823, ..., -0.00632911,\n",
       "            0.01265823, -0.01265823],\n",
       "          [ 0.43670886, -0.03797468, -0.01265823, ..., -0.00632911,\n",
       "            0.01265823, -0.01265823],\n",
       "          [ 0.43670886, -0.03797468, -0.01265823, ..., -0.00632911,\n",
       "            0.01265823, -0.01265823]]])],\n",
       " [array([[[ 0.04669261,  0.0233463 ,  0.        , ..., -0.0077821 ,\n",
       "            0.07003891,  0.13229572],\n",
       "          [ 0.04669261,  0.0233463 ,  0.        , ..., -0.0077821 ,\n",
       "            0.07003891,  0.13229572],\n",
       "          [ 0.04669261,  0.0233463 ,  0.        , ..., -0.0077821 ,\n",
       "            0.07003891,  0.13229572],\n",
       "          [ 0.04669261,  0.0233463 ,  0.        , ..., -0.0077821 ,\n",
       "            0.07003891,  0.13229572],\n",
       "          [ 0.04669261,  0.0233463 ,  0.        , ..., -0.0077821 ,\n",
       "            0.07003891,  0.13229572]],\n",
       "  \n",
       "         [[ 0.        , -0.0077821 ,  0.13229572, ...,  0.0233463 ,\n",
       "            0.0155642 ,  0.0155642 ],\n",
       "          [ 0.        , -0.0077821 ,  0.13229572, ...,  0.0233463 ,\n",
       "            0.0155642 ,  0.0155642 ],\n",
       "          [ 0.        , -0.0077821 ,  0.13229572, ...,  0.0233463 ,\n",
       "            0.0155642 ,  0.0155642 ],\n",
       "          [ 0.        , -0.0077821 ,  0.13229572, ...,  0.0233463 ,\n",
       "            0.0155642 ,  0.0155642 ],\n",
       "          [ 0.        , -0.0077821 ,  0.13229572, ...,  0.0233463 ,\n",
       "            0.0155642 ,  0.0155642 ]],\n",
       "  \n",
       "         [[ 0.0233463 , -0.0077821 ,  0.05447471, ...,  0.30350195,\n",
       "           -0.0155642 ,  0.0077821 ],\n",
       "          [ 0.0233463 , -0.0077821 ,  0.05447471, ...,  0.30350195,\n",
       "           -0.0155642 ,  0.0077821 ],\n",
       "          [ 0.0233463 , -0.0077821 ,  0.05447471, ...,  0.30350195,\n",
       "           -0.0155642 ,  0.0077821 ],\n",
       "          [ 0.0233463 , -0.0077821 ,  0.05447471, ...,  0.30350195,\n",
       "           -0.0155642 ,  0.0077821 ],\n",
       "          [ 0.0233463 , -0.0077821 ,  0.05447471, ...,  0.30350195,\n",
       "           -0.0155642 ,  0.0077821 ]],\n",
       "  \n",
       "         ...,\n",
       "  \n",
       "         [[-0.0155642 , -0.0077821 ,  0.20233463, ..., -0.0233463 ,\n",
       "            0.        , -0.0077821 ],\n",
       "          [-0.0155642 , -0.0077821 ,  0.20233463, ..., -0.0233463 ,\n",
       "            0.        , -0.0077821 ],\n",
       "          [-0.0155642 , -0.0077821 ,  0.20233463, ..., -0.0233463 ,\n",
       "            0.        , -0.0077821 ],\n",
       "          [-0.0155642 , -0.0077821 ,  0.20233463, ..., -0.0233463 ,\n",
       "            0.        , -0.0077821 ],\n",
       "          [-0.0155642 , -0.0077821 ,  0.20233463, ..., -0.0233463 ,\n",
       "            0.        , -0.0077821 ]],\n",
       "  \n",
       "         [[-0.0155642 , -0.0155642 , -0.0233463 , ..., -0.0077821 ,\n",
       "            0.0155642 , -0.0155642 ],\n",
       "          [-0.0155642 , -0.0155642 , -0.0233463 , ..., -0.0077821 ,\n",
       "            0.0155642 , -0.0155642 ],\n",
       "          [-0.0155642 , -0.0155642 , -0.0233463 , ..., -0.0077821 ,\n",
       "            0.0155642 , -0.0155642 ],\n",
       "          [-0.0155642 , -0.0155642 , -0.0233463 , ..., -0.0077821 ,\n",
       "            0.0155642 , -0.0155642 ],\n",
       "          [-0.0155642 , -0.0155642 , -0.0233463 , ..., -0.0077821 ,\n",
       "            0.0155642 , -0.0155642 ]],\n",
       "  \n",
       "         [[ 0.42801556, -0.03891051, -0.0077821 , ..., -0.0077821 ,\n",
       "            0.0155642 , -0.0155642 ],\n",
       "          [ 0.42801556, -0.03891051, -0.0077821 , ..., -0.0077821 ,\n",
       "            0.0155642 , -0.0155642 ],\n",
       "          [ 0.42801556, -0.03891051, -0.0077821 , ..., -0.0077821 ,\n",
       "            0.0155642 , -0.0155642 ],\n",
       "          [ 0.42801556, -0.03891051, -0.0077821 , ..., -0.0077821 ,\n",
       "            0.0155642 , -0.0155642 ],\n",
       "          [ 0.42801556, -0.03891051, -0.0077821 , ..., -0.0077821 ,\n",
       "            0.0155642 , -0.0155642 ]]])],\n",
       " [array([[[ 0.05769231,  0.01923077,  0.00961538, ..., -0.00961538,\n",
       "            0.07692308,  0.13461538],\n",
       "          [ 0.05769231,  0.01923077,  0.00961538, ..., -0.00961538,\n",
       "            0.07692308,  0.13461538],\n",
       "          [ 0.05769231,  0.01923077,  0.00961538, ..., -0.00961538,\n",
       "            0.07692308,  0.13461538],\n",
       "          [ 0.05769231,  0.01923077,  0.00961538, ..., -0.00961538,\n",
       "            0.07692308,  0.13461538],\n",
       "          [ 0.05769231,  0.01923077,  0.00961538, ..., -0.00961538,\n",
       "            0.07692308,  0.13461538]],\n",
       "  \n",
       "         [[ 0.00961538, -0.00961538,  0.13461538, ...,  0.02884615,\n",
       "            0.01923077,  0.01923077],\n",
       "          [ 0.00961538, -0.00961538,  0.13461538, ...,  0.02884615,\n",
       "            0.01923077,  0.01923077],\n",
       "          [ 0.00961538, -0.00961538,  0.13461538, ...,  0.02884615,\n",
       "            0.01923077,  0.01923077],\n",
       "          [ 0.00961538, -0.00961538,  0.13461538, ...,  0.02884615,\n",
       "            0.01923077,  0.01923077],\n",
       "          [ 0.00961538, -0.00961538,  0.13461538, ...,  0.02884615,\n",
       "            0.01923077,  0.01923077]],\n",
       "  \n",
       "         [[ 0.02884615, -0.00961538,  0.05769231, ...,  0.29807692,\n",
       "           -0.00961538,  0.00961538],\n",
       "          [ 0.02884615, -0.00961538,  0.05769231, ...,  0.29807692,\n",
       "           -0.00961538,  0.00961538],\n",
       "          [ 0.02884615, -0.00961538,  0.05769231, ...,  0.29807692,\n",
       "           -0.00961538,  0.00961538],\n",
       "          [ 0.02884615, -0.00961538,  0.05769231, ...,  0.29807692,\n",
       "           -0.00961538,  0.00961538],\n",
       "          [ 0.02884615, -0.00961538,  0.05769231, ...,  0.29807692,\n",
       "           -0.00961538,  0.00961538]],\n",
       "  \n",
       "         ...,\n",
       "  \n",
       "         [[-0.00961538, -0.00961538,  0.20192308, ..., -0.01923077,\n",
       "            0.        , -0.00961538],\n",
       "          [-0.00961538, -0.00961538,  0.20192308, ..., -0.01923077,\n",
       "            0.        , -0.00961538],\n",
       "          [-0.00961538, -0.00961538,  0.20192308, ..., -0.01923077,\n",
       "            0.        , -0.00961538],\n",
       "          [-0.00961538, -0.00961538,  0.20192308, ..., -0.01923077,\n",
       "            0.        , -0.00961538],\n",
       "          [-0.00961538, -0.00961538,  0.20192308, ..., -0.01923077,\n",
       "            0.        , -0.00961538]],\n",
       "  \n",
       "         [[-0.00961538, -0.00961538, -0.01923077, ..., -0.00961538,\n",
       "            0.01923077, -0.00961538],\n",
       "          [-0.00961538, -0.00961538, -0.01923077, ..., -0.00961538,\n",
       "            0.01923077, -0.00961538],\n",
       "          [-0.00961538, -0.00961538, -0.01923077, ..., -0.00961538,\n",
       "            0.01923077, -0.00961538],\n",
       "          [-0.00961538, -0.00961538, -0.01923077, ..., -0.00961538,\n",
       "            0.01923077, -0.00961538],\n",
       "          [-0.00961538, -0.00961538, -0.01923077, ..., -0.00961538,\n",
       "            0.01923077, -0.00961538]],\n",
       "  \n",
       "         [[ 0.43269231, -0.02884615,  0.        , ...,  0.        ,\n",
       "            0.01923077, -0.00961538],\n",
       "          [ 0.43269231, -0.02884615,  0.        , ...,  0.        ,\n",
       "            0.01923077, -0.00961538],\n",
       "          [ 0.43269231, -0.02884615,  0.        , ...,  0.        ,\n",
       "            0.01923077, -0.00961538],\n",
       "          [ 0.43269231, -0.02884615,  0.        , ...,  0.        ,\n",
       "            0.01923077, -0.00961538],\n",
       "          [ 0.43269231, -0.02884615,  0.        , ...,  0.        ,\n",
       "            0.01923077, -0.00961538]]])],\n",
       " [array([[[ 0.0591716 ,  0.02366864,  0.01183432, ..., -0.01183432,\n",
       "            0.08284024,  0.15384615],\n",
       "          [ 0.0591716 ,  0.02366864,  0.01183432, ..., -0.01183432,\n",
       "            0.08284024,  0.15384615],\n",
       "          [ 0.0591716 ,  0.02366864,  0.01183432, ..., -0.01183432,\n",
       "            0.08284024,  0.15384615],\n",
       "          [ 0.0591716 ,  0.02366864,  0.01183432, ..., -0.01183432,\n",
       "            0.08284024,  0.15384615],\n",
       "          [ 0.0591716 ,  0.02366864,  0.01183432, ..., -0.01183432,\n",
       "            0.08284024,  0.15384615]],\n",
       "  \n",
       "         [[ 0.01183432,  0.        ,  0.13017751, ...,  0.03550296,\n",
       "            0.02366864,  0.02366864],\n",
       "          [ 0.01183432,  0.        ,  0.13017751, ...,  0.03550296,\n",
       "            0.02366864,  0.02366864],\n",
       "          [ 0.01183432,  0.        ,  0.13017751, ...,  0.03550296,\n",
       "            0.02366864,  0.02366864],\n",
       "          [ 0.01183432,  0.        ,  0.13017751, ...,  0.03550296,\n",
       "            0.02366864,  0.02366864],\n",
       "          [ 0.01183432,  0.        ,  0.13017751, ...,  0.03550296,\n",
       "            0.02366864,  0.02366864]],\n",
       "  \n",
       "         [[ 0.03550296,  0.        ,  0.07100592, ...,  0.31952663,\n",
       "           -0.01183432,  0.01183432],\n",
       "          [ 0.03550296,  0.        ,  0.07100592, ...,  0.31952663,\n",
       "           -0.01183432,  0.01183432],\n",
       "          [ 0.03550296,  0.        ,  0.07100592, ...,  0.31952663,\n",
       "           -0.01183432,  0.01183432],\n",
       "          [ 0.03550296,  0.        ,  0.07100592, ...,  0.31952663,\n",
       "           -0.01183432,  0.01183432],\n",
       "          [ 0.03550296,  0.        ,  0.07100592, ...,  0.31952663,\n",
       "           -0.01183432,  0.01183432]],\n",
       "  \n",
       "         ...,\n",
       "  \n",
       "         [[-0.01183432,  0.        ,  0.21301775, ..., -0.01183432,\n",
       "            0.01183432,  0.        ],\n",
       "          [-0.01183432,  0.        ,  0.21301775, ..., -0.01183432,\n",
       "            0.01183432,  0.        ],\n",
       "          [-0.01183432,  0.        ,  0.21301775, ..., -0.01183432,\n",
       "            0.01183432,  0.        ],\n",
       "          [-0.01183432,  0.        ,  0.21301775, ..., -0.01183432,\n",
       "            0.01183432,  0.        ],\n",
       "          [-0.01183432,  0.        ,  0.21301775, ..., -0.01183432,\n",
       "            0.01183432,  0.        ]],\n",
       "  \n",
       "         [[-0.01183432, -0.01183432, -0.02366864, ...,  0.        ,\n",
       "            0.02366864, -0.01183432],\n",
       "          [-0.01183432, -0.01183432, -0.02366864, ...,  0.        ,\n",
       "            0.02366864, -0.01183432],\n",
       "          [-0.01183432, -0.01183432, -0.02366864, ...,  0.        ,\n",
       "            0.02366864, -0.01183432],\n",
       "          [-0.01183432, -0.01183432, -0.02366864, ...,  0.        ,\n",
       "            0.02366864, -0.01183432],\n",
       "          [-0.01183432, -0.01183432, -0.02366864, ...,  0.        ,\n",
       "            0.02366864, -0.01183432]],\n",
       "  \n",
       "         [[ 0.43786982, -0.02366864,  0.01183432, ...,  0.        ,\n",
       "            0.02366864, -0.01183432],\n",
       "          [ 0.43786982, -0.02366864,  0.01183432, ...,  0.        ,\n",
       "            0.02366864, -0.01183432],\n",
       "          [ 0.43786982, -0.02366864,  0.01183432, ...,  0.        ,\n",
       "            0.02366864, -0.01183432],\n",
       "          [ 0.43786982, -0.02366864,  0.01183432, ...,  0.        ,\n",
       "            0.02366864, -0.01183432],\n",
       "          [ 0.43786982, -0.02366864,  0.01183432, ...,  0.        ,\n",
       "            0.02366864, -0.01183432]]])],\n",
       " [array([[[ 0.05797101,  0.02898551,  0.01449275, ...,  0.        ,\n",
       "            0.07246377,  0.14492754],\n",
       "          [ 0.05797101,  0.02898551,  0.01449275, ...,  0.        ,\n",
       "            0.07246377,  0.14492754],\n",
       "          [ 0.05797101,  0.02898551,  0.01449275, ...,  0.        ,\n",
       "            0.07246377,  0.14492754],\n",
       "          [ 0.05797101,  0.02898551,  0.01449275, ...,  0.        ,\n",
       "            0.07246377,  0.14492754],\n",
       "          [ 0.05797101,  0.02898551,  0.01449275, ...,  0.        ,\n",
       "            0.07246377,  0.14492754]],\n",
       "  \n",
       "         [[ 0.01449275,  0.        ,  0.14492754, ...,  0.04347826,\n",
       "            0.02898551,  0.02898551],\n",
       "          [ 0.01449275,  0.        ,  0.14492754, ...,  0.04347826,\n",
       "            0.02898551,  0.02898551],\n",
       "          [ 0.01449275,  0.        ,  0.14492754, ...,  0.04347826,\n",
       "            0.02898551,  0.02898551],\n",
       "          [ 0.01449275,  0.        ,  0.14492754, ...,  0.04347826,\n",
       "            0.02898551,  0.02898551],\n",
       "          [ 0.01449275,  0.        ,  0.14492754, ...,  0.04347826,\n",
       "            0.02898551,  0.02898551]],\n",
       "  \n",
       "         [[ 0.04347826,  0.        ,  0.07246377, ...,  0.31884058,\n",
       "            0.        ,  0.01449275],\n",
       "          [ 0.04347826,  0.        ,  0.07246377, ...,  0.31884058,\n",
       "            0.        ,  0.01449275],\n",
       "          [ 0.04347826,  0.        ,  0.07246377, ...,  0.31884058,\n",
       "            0.        ,  0.01449275],\n",
       "          [ 0.04347826,  0.        ,  0.07246377, ...,  0.31884058,\n",
       "            0.        ,  0.01449275],\n",
       "          [ 0.04347826,  0.        ,  0.07246377, ...,  0.31884058,\n",
       "            0.        ,  0.01449275]],\n",
       "  \n",
       "         ...,\n",
       "  \n",
       "         [[ 0.        ,  0.        ,  0.2173913 , ..., -0.01449275,\n",
       "            0.01449275,  0.        ],\n",
       "          [ 0.        ,  0.        ,  0.2173913 , ..., -0.01449275,\n",
       "            0.01449275,  0.        ],\n",
       "          [ 0.        ,  0.        ,  0.2173913 , ..., -0.01449275,\n",
       "            0.01449275,  0.        ],\n",
       "          [ 0.        ,  0.        ,  0.2173913 , ..., -0.01449275,\n",
       "            0.01449275,  0.        ],\n",
       "          [ 0.        ,  0.        ,  0.2173913 , ..., -0.01449275,\n",
       "            0.01449275,  0.        ]],\n",
       "  \n",
       "         [[ 0.        ,  0.        , -0.01449275, ...,  0.        ,\n",
       "            0.02898551,  0.        ],\n",
       "          [ 0.        ,  0.        , -0.01449275, ...,  0.        ,\n",
       "            0.02898551,  0.        ],\n",
       "          [ 0.        ,  0.        , -0.01449275, ...,  0.        ,\n",
       "            0.02898551,  0.        ],\n",
       "          [ 0.        ,  0.        , -0.01449275, ...,  0.        ,\n",
       "            0.02898551,  0.        ],\n",
       "          [ 0.        ,  0.        , -0.01449275, ...,  0.        ,\n",
       "            0.02898551,  0.        ]],\n",
       "  \n",
       "         [[ 0.43478261, -0.02898551,  0.01449275, ...,  0.        ,\n",
       "            0.02898551,  0.        ],\n",
       "          [ 0.43478261, -0.02898551,  0.01449275, ...,  0.        ,\n",
       "            0.02898551,  0.        ],\n",
       "          [ 0.43478261, -0.02898551,  0.01449275, ...,  0.        ,\n",
       "            0.02898551,  0.        ],\n",
       "          [ 0.43478261, -0.02898551,  0.01449275, ...,  0.        ,\n",
       "            0.02898551,  0.        ],\n",
       "          [ 0.43478261, -0.02898551,  0.01449275, ...,  0.        ,\n",
       "            0.02898551,  0.        ]]])],\n",
       " [array([[[ 0.07142857,  0.03571429,  0.03571429, ...,  0.        ,\n",
       "            0.08928571,  0.14285714],\n",
       "          [ 0.07142857,  0.03571429,  0.03571429, ...,  0.        ,\n",
       "            0.08928571,  0.14285714],\n",
       "          [ 0.07142857,  0.03571429,  0.03571429, ...,  0.        ,\n",
       "            0.08928571,  0.14285714],\n",
       "          [ 0.07142857,  0.03571429,  0.03571429, ...,  0.        ,\n",
       "            0.08928571,  0.14285714],\n",
       "          [ 0.07142857,  0.03571429,  0.03571429, ...,  0.        ,\n",
       "            0.08928571,  0.14285714]],\n",
       "  \n",
       "         [[ 0.01785714,  0.01785714,  0.16071429, ...,  0.03571429,\n",
       "            0.03571429,  0.03571429],\n",
       "          [ 0.01785714,  0.01785714,  0.16071429, ...,  0.03571429,\n",
       "            0.03571429,  0.03571429],\n",
       "          [ 0.01785714,  0.01785714,  0.16071429, ...,  0.03571429,\n",
       "            0.03571429,  0.03571429],\n",
       "          [ 0.01785714,  0.01785714,  0.16071429, ...,  0.03571429,\n",
       "            0.03571429,  0.03571429],\n",
       "          [ 0.01785714,  0.01785714,  0.16071429, ...,  0.03571429,\n",
       "            0.03571429,  0.03571429]],\n",
       "  \n",
       "         [[ 0.03571429,  0.01785714,  0.08928571, ...,  0.32142857,\n",
       "            0.        ,  0.01785714],\n",
       "          [ 0.03571429,  0.01785714,  0.08928571, ...,  0.32142857,\n",
       "            0.        ,  0.01785714],\n",
       "          [ 0.03571429,  0.01785714,  0.08928571, ...,  0.32142857,\n",
       "            0.        ,  0.01785714],\n",
       "          [ 0.03571429,  0.01785714,  0.08928571, ...,  0.32142857,\n",
       "            0.        ,  0.01785714],\n",
       "          [ 0.03571429,  0.01785714,  0.08928571, ...,  0.32142857,\n",
       "            0.        ,  0.01785714]],\n",
       "  \n",
       "         ...,\n",
       "  \n",
       "         [[ 0.        ,  0.01785714,  0.21428571, ...,  0.        ,\n",
       "            0.01785714,  0.        ],\n",
       "          [ 0.        ,  0.01785714,  0.21428571, ...,  0.        ,\n",
       "            0.01785714,  0.        ],\n",
       "          [ 0.        ,  0.01785714,  0.21428571, ...,  0.        ,\n",
       "            0.01785714,  0.        ],\n",
       "          [ 0.        ,  0.01785714,  0.21428571, ...,  0.        ,\n",
       "            0.01785714,  0.        ],\n",
       "          [ 0.        ,  0.01785714,  0.21428571, ...,  0.        ,\n",
       "            0.01785714,  0.        ]],\n",
       "  \n",
       "         [[ 0.        ,  0.        , -0.01785714, ...,  0.        ,\n",
       "            0.03571429,  0.        ],\n",
       "          [ 0.        ,  0.        , -0.01785714, ...,  0.        ,\n",
       "            0.03571429,  0.        ],\n",
       "          [ 0.        ,  0.        , -0.01785714, ...,  0.        ,\n",
       "            0.03571429,  0.        ],\n",
       "          [ 0.        ,  0.        , -0.01785714, ...,  0.        ,\n",
       "            0.03571429,  0.        ],\n",
       "          [ 0.        ,  0.        , -0.01785714, ...,  0.        ,\n",
       "            0.03571429,  0.        ]],\n",
       "  \n",
       "         [[ 0.42857143, -0.01785714,  0.01785714, ...,  0.        ,\n",
       "            0.03571429,  0.        ],\n",
       "          [ 0.42857143, -0.01785714,  0.01785714, ...,  0.        ,\n",
       "            0.03571429,  0.        ],\n",
       "          [ 0.42857143, -0.01785714,  0.01785714, ...,  0.        ,\n",
       "            0.03571429,  0.        ],\n",
       "          [ 0.42857143, -0.01785714,  0.01785714, ...,  0.        ,\n",
       "            0.03571429,  0.        ],\n",
       "          [ 0.42857143, -0.01785714,  0.01785714, ...,  0.        ,\n",
       "            0.03571429,  0.        ]]])],\n",
       " [array([[[0.08791209, 0.04395604, 0.04395604, ..., 0.02197802,\n",
       "           0.10989011, 0.13186813],\n",
       "          [0.08791209, 0.04395604, 0.04395604, ..., 0.02197802,\n",
       "           0.10989011, 0.13186813],\n",
       "          [0.08791209, 0.04395604, 0.04395604, ..., 0.02197802,\n",
       "           0.10989011, 0.13186813],\n",
       "          [0.08791209, 0.04395604, 0.04395604, ..., 0.02197802,\n",
       "           0.10989011, 0.13186813],\n",
       "          [0.08791209, 0.04395604, 0.04395604, ..., 0.02197802,\n",
       "           0.10989011, 0.13186813]],\n",
       "  \n",
       "         [[0.04395604, 0.02197802, 0.15384615, ..., 0.04395604,\n",
       "           0.04395604, 0.04395604],\n",
       "          [0.04395604, 0.02197802, 0.15384615, ..., 0.04395604,\n",
       "           0.04395604, 0.04395604],\n",
       "          [0.04395604, 0.02197802, 0.15384615, ..., 0.04395604,\n",
       "           0.04395604, 0.04395604],\n",
       "          [0.04395604, 0.02197802, 0.15384615, ..., 0.04395604,\n",
       "           0.04395604, 0.04395604],\n",
       "          [0.04395604, 0.02197802, 0.15384615, ..., 0.04395604,\n",
       "           0.04395604, 0.04395604]],\n",
       "  \n",
       "         [[0.06593407, 0.02197802, 0.08791209, ..., 0.28571429,\n",
       "           0.        , 0.02197802],\n",
       "          [0.06593407, 0.02197802, 0.08791209, ..., 0.28571429,\n",
       "           0.        , 0.02197802],\n",
       "          [0.06593407, 0.02197802, 0.08791209, ..., 0.28571429,\n",
       "           0.        , 0.02197802],\n",
       "          [0.06593407, 0.02197802, 0.08791209, ..., 0.28571429,\n",
       "           0.        , 0.02197802],\n",
       "          [0.06593407, 0.02197802, 0.08791209, ..., 0.28571429,\n",
       "           0.        , 0.02197802]],\n",
       "  \n",
       "         ...,\n",
       "  \n",
       "         [[0.02197802, 0.02197802, 0.21978022, ..., 0.        ,\n",
       "           0.02197802, 0.02197802],\n",
       "          [0.02197802, 0.02197802, 0.21978022, ..., 0.        ,\n",
       "           0.02197802, 0.02197802],\n",
       "          [0.02197802, 0.02197802, 0.21978022, ..., 0.        ,\n",
       "           0.02197802, 0.02197802],\n",
       "          [0.02197802, 0.02197802, 0.21978022, ..., 0.        ,\n",
       "           0.02197802, 0.02197802],\n",
       "          [0.02197802, 0.02197802, 0.21978022, ..., 0.        ,\n",
       "           0.02197802, 0.02197802]],\n",
       "  \n",
       "         [[0.02197802, 0.02197802, 0.        , ..., 0.        ,\n",
       "           0.04395604, 0.        ],\n",
       "          [0.02197802, 0.02197802, 0.        , ..., 0.        ,\n",
       "           0.04395604, 0.        ],\n",
       "          [0.02197802, 0.02197802, 0.        , ..., 0.        ,\n",
       "           0.04395604, 0.        ],\n",
       "          [0.02197802, 0.02197802, 0.        , ..., 0.        ,\n",
       "           0.04395604, 0.        ],\n",
       "          [0.02197802, 0.02197802, 0.        , ..., 0.        ,\n",
       "           0.04395604, 0.        ]],\n",
       "  \n",
       "         [[0.46153846, 0.        , 0.04395604, ..., 0.02197802,\n",
       "           0.04395604, 0.02197802],\n",
       "          [0.46153846, 0.        , 0.04395604, ..., 0.02197802,\n",
       "           0.04395604, 0.02197802],\n",
       "          [0.46153846, 0.        , 0.04395604, ..., 0.02197802,\n",
       "           0.04395604, 0.02197802],\n",
       "          [0.46153846, 0.        , 0.04395604, ..., 0.02197802,\n",
       "           0.04395604, 0.02197802],\n",
       "          [0.46153846, 0.        , 0.04395604, ..., 0.02197802,\n",
       "           0.04395604, 0.02197802]]])],\n",
       " [array([[[0.10810811, 0.05405405, 0.05405405, ..., 0.        ,\n",
       "           0.13513514, 0.13513514],\n",
       "          [0.10810811, 0.05405405, 0.05405405, ..., 0.        ,\n",
       "           0.13513514, 0.13513514],\n",
       "          [0.10810811, 0.05405405, 0.05405405, ..., 0.        ,\n",
       "           0.13513514, 0.13513514],\n",
       "          [0.10810811, 0.05405405, 0.05405405, ..., 0.        ,\n",
       "           0.13513514, 0.13513514],\n",
       "          [0.10810811, 0.05405405, 0.05405405, ..., 0.        ,\n",
       "           0.13513514, 0.13513514]],\n",
       "  \n",
       "         [[0.05405405, 0.02702703, 0.16216216, ..., 0.05405405,\n",
       "           0.05405405, 0.05405405],\n",
       "          [0.05405405, 0.02702703, 0.16216216, ..., 0.05405405,\n",
       "           0.05405405, 0.05405405],\n",
       "          [0.05405405, 0.02702703, 0.16216216, ..., 0.05405405,\n",
       "           0.05405405, 0.05405405],\n",
       "          [0.05405405, 0.02702703, 0.16216216, ..., 0.05405405,\n",
       "           0.05405405, 0.05405405],\n",
       "          [0.05405405, 0.02702703, 0.16216216, ..., 0.05405405,\n",
       "           0.05405405, 0.05405405]],\n",
       "  \n",
       "         [[0.08108108, 0.02702703, 0.10810811, ..., 0.32432432,\n",
       "           0.02702703, 0.05405405],\n",
       "          [0.08108108, 0.02702703, 0.10810811, ..., 0.32432432,\n",
       "           0.02702703, 0.05405405],\n",
       "          [0.08108108, 0.02702703, 0.10810811, ..., 0.32432432,\n",
       "           0.02702703, 0.05405405],\n",
       "          [0.08108108, 0.02702703, 0.10810811, ..., 0.32432432,\n",
       "           0.02702703, 0.05405405],\n",
       "          [0.08108108, 0.02702703, 0.10810811, ..., 0.32432432,\n",
       "           0.02702703, 0.05405405]],\n",
       "  \n",
       "         ...,\n",
       "  \n",
       "         [[0.02702703, 0.02702703, 0.21621622, ..., 0.        ,\n",
       "           0.05405405, 0.02702703],\n",
       "          [0.02702703, 0.02702703, 0.21621622, ..., 0.        ,\n",
       "           0.05405405, 0.02702703],\n",
       "          [0.02702703, 0.02702703, 0.21621622, ..., 0.        ,\n",
       "           0.05405405, 0.02702703],\n",
       "          [0.02702703, 0.02702703, 0.21621622, ..., 0.        ,\n",
       "           0.05405405, 0.02702703],\n",
       "          [0.02702703, 0.02702703, 0.21621622, ..., 0.        ,\n",
       "           0.05405405, 0.02702703]],\n",
       "  \n",
       "         [[0.02702703, 0.02702703, 0.        , ..., 0.02702703,\n",
       "           0.05405405, 0.        ],\n",
       "          [0.02702703, 0.02702703, 0.        , ..., 0.02702703,\n",
       "           0.05405405, 0.        ],\n",
       "          [0.02702703, 0.02702703, 0.        , ..., 0.02702703,\n",
       "           0.05405405, 0.        ],\n",
       "          [0.02702703, 0.02702703, 0.        , ..., 0.02702703,\n",
       "           0.05405405, 0.        ],\n",
       "          [0.02702703, 0.02702703, 0.        , ..., 0.02702703,\n",
       "           0.05405405, 0.        ]],\n",
       "  \n",
       "         [[0.45945946, 0.        , 0.05405405, ..., 0.02702703,\n",
       "           0.05405405, 0.02702703],\n",
       "          [0.45945946, 0.        , 0.05405405, ..., 0.02702703,\n",
       "           0.05405405, 0.02702703],\n",
       "          [0.45945946, 0.        , 0.05405405, ..., 0.02702703,\n",
       "           0.05405405, 0.02702703],\n",
       "          [0.45945946, 0.        , 0.05405405, ..., 0.02702703,\n",
       "           0.05405405, 0.02702703],\n",
       "          [0.45945946, 0.        , 0.05405405, ..., 0.02702703,\n",
       "           0.05405405, 0.02702703]]])],\n",
       " [array([[[0.13333333, 0.06666667, 0.06666667, ..., 0.03333333,\n",
       "           0.13333333, 0.16666667],\n",
       "          [0.13333333, 0.06666667, 0.06666667, ..., 0.03333333,\n",
       "           0.13333333, 0.16666667],\n",
       "          [0.13333333, 0.06666667, 0.06666667, ..., 0.03333333,\n",
       "           0.13333333, 0.16666667],\n",
       "          [0.13333333, 0.06666667, 0.06666667, ..., 0.03333333,\n",
       "           0.13333333, 0.16666667],\n",
       "          [0.13333333, 0.06666667, 0.06666667, ..., 0.03333333,\n",
       "           0.13333333, 0.16666667]],\n",
       "  \n",
       "         [[0.06666667, 0.03333333, 0.2       , ..., 0.06666667,\n",
       "           0.06666667, 0.06666667],\n",
       "          [0.06666667, 0.03333333, 0.2       , ..., 0.06666667,\n",
       "           0.06666667, 0.06666667],\n",
       "          [0.06666667, 0.03333333, 0.2       , ..., 0.06666667,\n",
       "           0.06666667, 0.06666667],\n",
       "          [0.06666667, 0.03333333, 0.2       , ..., 0.06666667,\n",
       "           0.06666667, 0.06666667],\n",
       "          [0.06666667, 0.03333333, 0.2       , ..., 0.06666667,\n",
       "           0.06666667, 0.06666667]],\n",
       "  \n",
       "         [[0.1       , 0.06666667, 0.13333333, ..., 0.4       ,\n",
       "           0.03333333, 0.03333333],\n",
       "          [0.1       , 0.06666667, 0.13333333, ..., 0.4       ,\n",
       "           0.03333333, 0.03333333],\n",
       "          [0.1       , 0.06666667, 0.13333333, ..., 0.4       ,\n",
       "           0.03333333, 0.03333333],\n",
       "          [0.1       , 0.06666667, 0.13333333, ..., 0.4       ,\n",
       "           0.03333333, 0.03333333],\n",
       "          [0.1       , 0.06666667, 0.13333333, ..., 0.4       ,\n",
       "           0.03333333, 0.03333333]],\n",
       "  \n",
       "         ...,\n",
       "  \n",
       "         [[0.03333333, 0.03333333, 0.26666667, ..., 0.        ,\n",
       "           0.06666667, 0.06666667],\n",
       "          [0.03333333, 0.03333333, 0.26666667, ..., 0.        ,\n",
       "           0.06666667, 0.06666667],\n",
       "          [0.03333333, 0.03333333, 0.26666667, ..., 0.        ,\n",
       "           0.06666667, 0.06666667],\n",
       "          [0.03333333, 0.03333333, 0.26666667, ..., 0.        ,\n",
       "           0.06666667, 0.06666667],\n",
       "          [0.03333333, 0.03333333, 0.26666667, ..., 0.        ,\n",
       "           0.06666667, 0.06666667]],\n",
       "  \n",
       "         [[0.03333333, 0.03333333, 0.03333333, ..., 0.03333333,\n",
       "           0.06666667, 0.03333333],\n",
       "          [0.03333333, 0.03333333, 0.03333333, ..., 0.03333333,\n",
       "           0.06666667, 0.03333333],\n",
       "          [0.03333333, 0.03333333, 0.03333333, ..., 0.03333333,\n",
       "           0.06666667, 0.03333333],\n",
       "          [0.03333333, 0.03333333, 0.03333333, ..., 0.03333333,\n",
       "           0.06666667, 0.03333333],\n",
       "          [0.03333333, 0.03333333, 0.03333333, ..., 0.03333333,\n",
       "           0.06666667, 0.03333333]],\n",
       "  \n",
       "         [[0.46666667, 0.03333333, 0.06666667, ..., 0.03333333,\n",
       "           0.06666667, 0.06666667],\n",
       "          [0.46666667, 0.03333333, 0.06666667, ..., 0.03333333,\n",
       "           0.06666667, 0.06666667],\n",
       "          [0.46666667, 0.03333333, 0.06666667, ..., 0.03333333,\n",
       "           0.06666667, 0.06666667],\n",
       "          [0.46666667, 0.03333333, 0.06666667, ..., 0.03333333,\n",
       "           0.06666667, 0.06666667],\n",
       "          [0.46666667, 0.03333333, 0.06666667, ..., 0.03333333,\n",
       "           0.06666667, 0.06666667]]])],\n",
       " [array([[[0.16666667, 0.08333333, 0.08333333, ..., 0.04166667,\n",
       "           0.16666667, 0.16666667],\n",
       "          [0.16666667, 0.08333333, 0.08333333, ..., 0.04166667,\n",
       "           0.16666667, 0.16666667],\n",
       "          [0.16666667, 0.08333333, 0.08333333, ..., 0.04166667,\n",
       "           0.16666667, 0.16666667],\n",
       "          [0.16666667, 0.08333333, 0.08333333, ..., 0.04166667,\n",
       "           0.16666667, 0.16666667],\n",
       "          [0.16666667, 0.08333333, 0.08333333, ..., 0.04166667,\n",
       "           0.16666667, 0.16666667]],\n",
       "  \n",
       "         [[       nan,        nan,        nan, ...,        nan,\n",
       "                  nan,        nan],\n",
       "          [0.08333333, 0.08333333, 0.20833333, ..., 0.08333333,\n",
       "           0.08333333, 0.08333333],\n",
       "          [0.08333333, 0.08333333, 0.20833333, ..., 0.08333333,\n",
       "           0.08333333, 0.08333333],\n",
       "          [0.08333333, 0.08333333, 0.20833333, ..., 0.08333333,\n",
       "           0.08333333, 0.08333333],\n",
       "          [0.08333333, 0.08333333, 0.20833333, ..., 0.08333333,\n",
       "           0.08333333, 0.08333333]],\n",
       "  \n",
       "         [[0.125     , 0.08333333, 0.16666667, ..., 0.33333333,\n",
       "           0.04166667, 0.08333333],\n",
       "          [0.125     , 0.08333333, 0.16666667, ..., 0.33333333,\n",
       "           0.04166667, 0.08333333],\n",
       "          [0.125     , 0.08333333, 0.16666667, ..., 0.33333333,\n",
       "           0.04166667, 0.08333333],\n",
       "          [0.125     , 0.08333333, 0.16666667, ..., 0.33333333,\n",
       "           0.04166667, 0.08333333],\n",
       "          [0.125     , 0.08333333, 0.16666667, ..., 0.33333333,\n",
       "           0.04166667, 0.08333333]],\n",
       "  \n",
       "         ...,\n",
       "  \n",
       "         [[0.08333333, 0.04166667, 0.25      , ..., 0.04166667,\n",
       "           0.08333333, 0.08333333],\n",
       "          [0.08333333, 0.04166667, 0.25      , ..., 0.04166667,\n",
       "           0.08333333, 0.08333333],\n",
       "          [0.08333333, 0.04166667, 0.25      , ..., 0.04166667,\n",
       "           0.08333333, 0.08333333],\n",
       "          [0.08333333, 0.04166667, 0.25      , ..., 0.04166667,\n",
       "           0.08333333, 0.08333333],\n",
       "          [0.08333333, 0.04166667, 0.25      , ..., 0.04166667,\n",
       "           0.08333333, 0.08333333]],\n",
       "  \n",
       "         [[0.08333333, 0.04166667, 0.04166667, ..., 0.04166667,\n",
       "           0.08333333, 0.04166667],\n",
       "          [0.08333333, 0.04166667, 0.04166667, ..., 0.04166667,\n",
       "           0.08333333, 0.04166667],\n",
       "          [0.08333333, 0.04166667, 0.04166667, ..., 0.04166667,\n",
       "           0.08333333, 0.04166667],\n",
       "          [0.08333333, 0.04166667, 0.04166667, ..., 0.04166667,\n",
       "           0.08333333, 0.04166667],\n",
       "          [0.08333333, 0.04166667, 0.04166667, ..., 0.04166667,\n",
       "           0.08333333, 0.04166667]],\n",
       "  \n",
       "         [[0.45833333, 0.04166667, 0.08333333, ..., 0.04166667,\n",
       "           0.08333333, 0.08333333],\n",
       "          [0.45833333, 0.04166667, 0.08333333, ..., 0.04166667,\n",
       "           0.08333333, 0.08333333],\n",
       "          [0.45833333, 0.04166667, 0.08333333, ..., 0.04166667,\n",
       "           0.08333333, 0.08333333],\n",
       "          [0.45833333, 0.04166667, 0.08333333, ..., 0.04166667,\n",
       "           0.08333333, 0.08333333],\n",
       "          [0.45833333, 0.04166667, 0.08333333, ..., 0.04166667,\n",
       "           0.08333333, 0.08333333]]])],\n",
       " [array([[[0.20512821, 0.15384615, 0.15384615, ..., 0.1025641 ,\n",
       "           0.20512821, 0.15384615],\n",
       "          [0.20512821, 0.15384615, 0.15384615, ..., 0.1025641 ,\n",
       "           0.20512821, 0.15384615],\n",
       "          [0.20512821, 0.15384615, 0.15384615, ..., 0.1025641 ,\n",
       "           0.20512821, 0.15384615],\n",
       "          [0.20512821, 0.15384615, 0.15384615, ..., 0.1025641 ,\n",
       "           0.20512821, 0.15384615],\n",
       "          [0.20512821, 0.15384615, 0.15384615, ..., 0.1025641 ,\n",
       "           0.20512821, 0.15384615]],\n",
       "  \n",
       "         [[0.1025641 , 0.1025641 , 0.25641026, ..., 0.15384615,\n",
       "           0.1025641 , 0.1025641 ],\n",
       "          [0.1025641 , 0.1025641 , 0.25641026, ..., 0.15384615,\n",
       "           0.1025641 , 0.1025641 ],\n",
       "          [0.1025641 , 0.1025641 , 0.25641026, ..., 0.15384615,\n",
       "           0.1025641 , 0.1025641 ],\n",
       "          [0.1025641 , 0.1025641 , 0.25641026, ..., 0.15384615,\n",
       "           0.1025641 , 0.1025641 ],\n",
       "          [0.1025641 , 0.1025641 , 0.25641026, ..., 0.15384615,\n",
       "           0.1025641 , 0.1025641 ]],\n",
       "  \n",
       "         [[0.15384615, 0.1025641 , 0.20512821, ..., 0.35897436,\n",
       "           0.1025641 , 0.1025641 ],\n",
       "          [0.15384615, 0.1025641 , 0.20512821, ..., 0.35897436,\n",
       "           0.1025641 , 0.1025641 ],\n",
       "          [0.15384615, 0.1025641 , 0.20512821, ..., 0.35897436,\n",
       "           0.1025641 , 0.1025641 ],\n",
       "          [0.15384615, 0.1025641 , 0.20512821, ..., 0.35897436,\n",
       "           0.1025641 , 0.1025641 ],\n",
       "          [0.15384615, 0.1025641 , 0.20512821, ..., 0.35897436,\n",
       "           0.1025641 , 0.1025641 ]],\n",
       "  \n",
       "         ...,\n",
       "  \n",
       "         [[0.1025641 , 0.1025641 , 0.30769231, ..., 0.05128205,\n",
       "           0.1025641 , 0.1025641 ],\n",
       "          [0.1025641 , 0.1025641 , 0.30769231, ..., 0.05128205,\n",
       "           0.1025641 , 0.1025641 ],\n",
       "          [0.1025641 , 0.1025641 , 0.30769231, ..., 0.05128205,\n",
       "           0.1025641 , 0.1025641 ],\n",
       "          [0.1025641 , 0.1025641 , 0.30769231, ..., 0.05128205,\n",
       "           0.1025641 , 0.1025641 ],\n",
       "          [0.1025641 , 0.1025641 , 0.30769231, ..., 0.05128205,\n",
       "           0.1025641 , 0.1025641 ]],\n",
       "  \n",
       "         [[0.1025641 , 0.1025641 , 0.1025641 , ..., 0.1025641 ,\n",
       "           0.15384615, 0.1025641 ],\n",
       "          [0.1025641 , 0.1025641 , 0.1025641 , ..., 0.1025641 ,\n",
       "           0.15384615, 0.1025641 ],\n",
       "          [0.1025641 , 0.1025641 , 0.1025641 , ..., 0.1025641 ,\n",
       "           0.15384615, 0.1025641 ],\n",
       "          [0.1025641 , 0.1025641 , 0.1025641 , ..., 0.1025641 ,\n",
       "           0.15384615, 0.1025641 ],\n",
       "          [0.1025641 , 0.1025641 , 0.1025641 , ..., 0.1025641 ,\n",
       "           0.15384615, 0.1025641 ]],\n",
       "  \n",
       "         [[0.51282051, 0.05128205, 0.15384615, ..., 0.1025641 ,\n",
       "           0.1025641 , 0.1025641 ],\n",
       "          [0.51282051, 0.05128205, 0.15384615, ..., 0.1025641 ,\n",
       "           0.1025641 , 0.1025641 ],\n",
       "          [0.51282051, 0.05128205, 0.15384615, ..., 0.1025641 ,\n",
       "           0.1025641 , 0.1025641 ],\n",
       "          [0.51282051, 0.05128205, 0.15384615, ..., 0.1025641 ,\n",
       "           0.1025641 , 0.1025641 ],\n",
       "          [0.51282051, 0.05128205, 0.15384615, ..., 0.1025641 ,\n",
       "           0.1025641 , 0.1025641 ]]])],\n",
       " [array([[[0.25  , 0.1875, 0.1875, ..., 0.125 , 0.25  , 0.1875],\n",
       "          [0.25  , 0.1875, 0.1875, ..., 0.125 , 0.25  , 0.1875],\n",
       "          [0.25  , 0.1875, 0.1875, ..., 0.125 , 0.25  , 0.1875],\n",
       "          [0.25  , 0.1875, 0.1875, ..., 0.125 , 0.25  , 0.1875],\n",
       "          [0.25  , 0.1875, 0.1875, ..., 0.125 , 0.25  , 0.1875]],\n",
       "  \n",
       "         [[   nan,    nan,    nan, ...,    nan,    nan,    nan],\n",
       "          [0.1875, 0.125 , 0.25  , ..., 0.125 , 0.125 , 0.1875],\n",
       "          [0.1875, 0.125 , 0.25  , ..., 0.125 , 0.125 , 0.1875],\n",
       "          [0.1875, 0.125 , 0.25  , ..., 0.125 , 0.125 , 0.1875],\n",
       "          [0.1875, 0.125 , 0.25  , ..., 0.125 , 0.125 , 0.1875]],\n",
       "  \n",
       "         [[0.1875, 0.125 , 0.25  , ..., 0.4375, 0.125 , 0.125 ],\n",
       "          [0.1875, 0.125 , 0.25  , ..., 0.4375, 0.125 , 0.125 ],\n",
       "          [0.1875, 0.125 , 0.25  , ..., 0.4375, 0.125 , 0.125 ],\n",
       "          [0.1875, 0.125 , 0.25  , ..., 0.4375, 0.125 , 0.125 ],\n",
       "          [0.1875, 0.125 , 0.25  , ..., 0.4375, 0.125 , 0.125 ]],\n",
       "  \n",
       "         ...,\n",
       "  \n",
       "         [[0.125 , 0.125 , 0.3125, ..., 0.0625, 0.1875, 0.125 ],\n",
       "          [0.125 , 0.125 , 0.3125, ..., 0.0625, 0.1875, 0.125 ],\n",
       "          [0.125 , 0.125 , 0.3125, ..., 0.0625, 0.1875, 0.125 ],\n",
       "          [0.125 , 0.125 , 0.3125, ..., 0.0625, 0.1875, 0.125 ],\n",
       "          [0.125 , 0.125 , 0.3125, ..., 0.0625, 0.1875, 0.125 ]],\n",
       "  \n",
       "         [[0.125 , 0.125 , 0.125 , ..., 0.125 , 0.1875, 0.125 ],\n",
       "          [0.125 , 0.125 , 0.125 , ..., 0.125 , 0.1875, 0.125 ],\n",
       "          [0.125 , 0.125 , 0.125 , ..., 0.125 , 0.1875, 0.125 ],\n",
       "          [0.125 , 0.125 , 0.125 , ..., 0.125 , 0.1875, 0.125 ],\n",
       "          [0.125 , 0.125 , 0.125 , ..., 0.125 , 0.1875, 0.125 ]],\n",
       "  \n",
       "         [[0.5   , 0.125 , 0.1875, ..., 0.125 , 0.1875, 0.125 ],\n",
       "          [0.5   , 0.125 , 0.1875, ..., 0.125 , 0.1875, 0.125 ],\n",
       "          [0.5   , 0.125 , 0.1875, ..., 0.125 , 0.1875, 0.125 ],\n",
       "          [0.5   , 0.125 , 0.1875, ..., 0.125 , 0.1875, 0.125 ],\n",
       "          [0.5   , 0.125 , 0.1875, ..., 0.125 , 0.1875, 0.125 ]]])],\n",
       " [array([[[0.30769231, 0.23076923, 0.23076923, ..., 0.15384615,\n",
       "           0.23076923, 0.23076923],\n",
       "          [0.30769231, 0.23076923, 0.23076923, ..., 0.15384615,\n",
       "           0.23076923, 0.23076923],\n",
       "          [0.30769231, 0.23076923, 0.23076923, ..., 0.15384615,\n",
       "           0.23076923, 0.23076923],\n",
       "          [0.30769231, 0.23076923, 0.23076923, ..., 0.15384615,\n",
       "           0.23076923, 0.23076923],\n",
       "          [0.30769231, 0.23076923, 0.23076923, ..., 0.15384615,\n",
       "           0.23076923, 0.23076923]],\n",
       "  \n",
       "         [[0.23076923, 0.23076923, 0.38461538, ..., 0.23076923,\n",
       "           0.23076923, 0.23076923],\n",
       "          [0.23076923, 0.23076923, 0.38461538, ..., 0.23076923,\n",
       "           0.23076923, 0.23076923],\n",
       "          [0.23076923, 0.23076923, 0.38461538, ..., 0.23076923,\n",
       "           0.23076923, 0.23076923],\n",
       "          [0.23076923, 0.23076923, 0.38461538, ..., 0.23076923,\n",
       "           0.23076923, 0.23076923],\n",
       "          [0.23076923, 0.23076923, 0.38461538, ..., 0.23076923,\n",
       "           0.23076923, 0.23076923]],\n",
       "  \n",
       "         [[0.30769231, 0.23076923, 0.30769231, ..., 0.46153846,\n",
       "           0.15384615, 0.15384615],\n",
       "          [0.30769231, 0.23076923, 0.30769231, ..., 0.46153846,\n",
       "           0.15384615, 0.15384615],\n",
       "          [0.30769231, 0.23076923, 0.30769231, ..., 0.46153846,\n",
       "           0.15384615, 0.15384615],\n",
       "          [0.30769231, 0.23076923, 0.30769231, ..., 0.46153846,\n",
       "           0.15384615, 0.15384615],\n",
       "          [0.30769231, 0.23076923, 0.30769231, ..., 0.46153846,\n",
       "           0.15384615, 0.15384615]],\n",
       "  \n",
       "         ...,\n",
       "  \n",
       "         [[0.23076923, 0.15384615, 0.38461538, ..., 0.15384615,\n",
       "           0.23076923, 0.23076923],\n",
       "          [0.23076923, 0.15384615, 0.38461538, ..., 0.15384615,\n",
       "           0.23076923, 0.23076923],\n",
       "          [0.23076923, 0.15384615, 0.38461538, ..., 0.15384615,\n",
       "           0.23076923, 0.23076923],\n",
       "          [0.23076923, 0.15384615, 0.38461538, ..., 0.15384615,\n",
       "           0.23076923, 0.23076923],\n",
       "          [0.23076923, 0.15384615, 0.38461538, ..., 0.15384615,\n",
       "           0.23076923, 0.23076923]],\n",
       "  \n",
       "         [[0.23076923, 0.23076923, 0.23076923, ..., 0.15384615,\n",
       "           0.23076923, 0.15384615],\n",
       "          [0.23076923, 0.23076923, 0.23076923, ..., 0.15384615,\n",
       "           0.23076923, 0.15384615],\n",
       "          [0.23076923, 0.23076923, 0.23076923, ..., 0.15384615,\n",
       "           0.23076923, 0.15384615],\n",
       "          [0.23076923, 0.23076923, 0.23076923, ..., 0.15384615,\n",
       "           0.23076923, 0.15384615],\n",
       "          [0.23076923, 0.23076923, 0.23076923, ..., 0.15384615,\n",
       "           0.23076923, 0.15384615]],\n",
       "  \n",
       "         [[0.61538462, 0.15384615, 0.23076923, ..., 0.15384615,\n",
       "           0.23076923, 0.23076923],\n",
       "          [0.61538462, 0.15384615, 0.23076923, ..., 0.15384615,\n",
       "           0.23076923, 0.23076923],\n",
       "          [0.61538462, 0.15384615, 0.23076923, ..., 0.15384615,\n",
       "           0.23076923, 0.23076923],\n",
       "          [0.61538462, 0.15384615, 0.23076923, ..., 0.15384615,\n",
       "           0.23076923, 0.23076923],\n",
       "          [0.61538462, 0.15384615, 0.23076923, ..., 0.15384615,\n",
       "           0.23076923, 0.23076923]]])],\n",
       " [array([[[0.47619048, 0.38095238, 0.38095238, ..., 0.28571429,\n",
       "           0.38095238, 0.28571429],\n",
       "          [0.47619048, 0.38095238, 0.38095238, ..., 0.28571429,\n",
       "           0.38095238, 0.28571429],\n",
       "          [0.47619048, 0.38095238, 0.38095238, ..., 0.28571429,\n",
       "           0.38095238, 0.28571429],\n",
       "          [0.47619048, 0.38095238, 0.38095238, ..., 0.28571429,\n",
       "           0.38095238, 0.28571429],\n",
       "          [0.47619048, 0.38095238, 0.38095238, ..., 0.28571429,\n",
       "           0.38095238, 0.28571429]],\n",
       "  \n",
       "         [[0.38095238, 0.28571429, 0.47619048, ..., 0.28571429,\n",
       "           0.28571429, 0.28571429],\n",
       "          [0.38095238, 0.28571429, 0.47619048, ..., 0.28571429,\n",
       "           0.28571429, 0.28571429],\n",
       "          [0.38095238, 0.28571429, 0.47619048, ..., 0.28571429,\n",
       "           0.28571429, 0.28571429],\n",
       "          [0.38095238, 0.28571429, 0.47619048, ..., 0.28571429,\n",
       "           0.28571429, 0.28571429],\n",
       "          [0.38095238, 0.28571429, 0.47619048, ..., 0.28571429,\n",
       "           0.28571429, 0.28571429]],\n",
       "  \n",
       "         [[0.38095238, 0.28571429, 0.38095238, ..., 0.47619048,\n",
       "           0.28571429, 0.28571429],\n",
       "          [0.38095238, 0.28571429, 0.38095238, ..., 0.47619048,\n",
       "           0.28571429, 0.28571429],\n",
       "          [0.38095238, 0.28571429, 0.38095238, ..., 0.47619048,\n",
       "           0.28571429, 0.28571429],\n",
       "          [0.38095238, 0.28571429, 0.38095238, ..., 0.47619048,\n",
       "           0.28571429, 0.28571429],\n",
       "          [0.38095238, 0.28571429, 0.38095238, ..., 0.47619048,\n",
       "           0.28571429, 0.28571429]],\n",
       "  \n",
       "         ...,\n",
       "  \n",
       "         [[0.28571429, 0.28571429, 0.47619048, ..., 0.19047619,\n",
       "           0.38095238, 0.28571429],\n",
       "          [0.28571429, 0.28571429, 0.47619048, ..., 0.19047619,\n",
       "           0.38095238, 0.28571429],\n",
       "          [0.28571429, 0.28571429, 0.47619048, ..., 0.19047619,\n",
       "           0.38095238, 0.28571429],\n",
       "          [0.28571429, 0.28571429, 0.47619048, ..., 0.19047619,\n",
       "           0.38095238, 0.28571429],\n",
       "          [0.28571429, 0.28571429, 0.47619048, ..., 0.19047619,\n",
       "           0.38095238, 0.28571429]],\n",
       "  \n",
       "         [[0.28571429, 0.28571429, 0.19047619, ..., 0.28571429,\n",
       "           0.38095238, 0.28571429],\n",
       "          [0.28571429, 0.28571429, 0.19047619, ..., 0.28571429,\n",
       "           0.38095238, 0.28571429],\n",
       "          [0.28571429, 0.28571429, 0.19047619, ..., 0.28571429,\n",
       "           0.38095238, 0.28571429],\n",
       "          [0.28571429, 0.28571429, 0.19047619, ..., 0.28571429,\n",
       "           0.38095238, 0.28571429],\n",
       "          [0.28571429, 0.28571429, 0.19047619, ..., 0.28571429,\n",
       "           0.38095238, 0.28571429]],\n",
       "  \n",
       "         [[       nan,        nan,        nan, ...,        nan,\n",
       "                  nan,        nan],\n",
       "          [0.66666667, 0.28571429, 0.28571429, ..., 0.28571429,\n",
       "           0.38095238, 0.28571429],\n",
       "          [0.66666667, 0.28571429, 0.28571429, ..., 0.28571429,\n",
       "           0.38095238, 0.28571429],\n",
       "          [0.66666667, 0.28571429, 0.28571429, ..., 0.28571429,\n",
       "           0.38095238, 0.28571429],\n",
       "          [0.66666667, 0.28571429, 0.28571429, ..., 0.28571429,\n",
       "           0.38095238, 0.28571429]]])],\n",
       " [array([[[       nan,        nan,        nan, ...,        nan,\n",
       "                  nan,        nan],\n",
       "          [0.58823529, 0.47058824, 0.47058824, ..., 0.35294118,\n",
       "           0.47058824, 0.35294118],\n",
       "          [0.58823529, 0.47058824, 0.47058824, ..., 0.35294118,\n",
       "           0.47058824, 0.35294118],\n",
       "          [0.58823529, 0.47058824, 0.47058824, ..., 0.35294118,\n",
       "           0.47058824, 0.35294118],\n",
       "          [0.58823529, 0.47058824, 0.47058824, ..., 0.35294118,\n",
       "           0.47058824, 0.35294118]],\n",
       "  \n",
       "         [[0.47058824, 0.47058824, 0.58823529, ..., 0.47058824,\n",
       "           0.47058824, 0.35294118],\n",
       "          [0.47058824, 0.47058824, 0.58823529, ..., 0.47058824,\n",
       "           0.47058824, 0.35294118],\n",
       "          [0.47058824, 0.47058824, 0.58823529, ..., 0.47058824,\n",
       "           0.47058824, 0.35294118],\n",
       "          [0.47058824, 0.47058824, 0.58823529, ..., 0.47058824,\n",
       "           0.47058824, 0.35294118],\n",
       "          [0.47058824, 0.47058824, 0.58823529, ..., 0.47058824,\n",
       "           0.47058824, 0.35294118]],\n",
       "  \n",
       "         [[0.58823529, 0.47058824, 0.58823529, ..., 0.47058824,\n",
       "           0.47058824, 0.47058824],\n",
       "          [0.58823529, 0.47058824, 0.58823529, ..., 0.47058824,\n",
       "           0.47058824, 0.47058824],\n",
       "          [0.58823529, 0.47058824, 0.58823529, ..., 0.47058824,\n",
       "           0.47058824, 0.47058824],\n",
       "          [0.58823529, 0.47058824, 0.58823529, ..., 0.47058824,\n",
       "           0.47058824, 0.47058824],\n",
       "          [0.58823529, 0.47058824, 0.58823529, ..., 0.47058824,\n",
       "           0.47058824, 0.47058824]],\n",
       "  \n",
       "         ...,\n",
       "  \n",
       "         [[0.47058824, 0.35294118, 0.58823529, ..., 0.35294118,\n",
       "           0.47058824, 0.35294118],\n",
       "          [0.47058824, 0.35294118, 0.58823529, ..., 0.35294118,\n",
       "           0.47058824, 0.35294118],\n",
       "          [0.47058824, 0.35294118, 0.58823529, ..., 0.35294118,\n",
       "           0.47058824, 0.35294118],\n",
       "          [0.47058824, 0.35294118, 0.58823529, ..., 0.35294118,\n",
       "           0.47058824, 0.35294118],\n",
       "          [0.47058824, 0.35294118, 0.58823529, ..., 0.35294118,\n",
       "           0.47058824, 0.35294118]],\n",
       "  \n",
       "         [[0.47058824, 0.35294118, 0.47058824, ..., 0.35294118,\n",
       "           0.47058824, 0.47058824],\n",
       "          [0.47058824, 0.35294118, 0.47058824, ..., 0.35294118,\n",
       "           0.47058824, 0.47058824],\n",
       "          [0.47058824, 0.35294118, 0.47058824, ..., 0.35294118,\n",
       "           0.47058824, 0.47058824],\n",
       "          [0.47058824, 0.35294118, 0.47058824, ..., 0.35294118,\n",
       "           0.47058824, 0.47058824],\n",
       "          [0.47058824, 0.35294118, 0.47058824, ..., 0.35294118,\n",
       "           0.47058824, 0.47058824]],\n",
       "  \n",
       "         [[0.94117647, 0.35294118, 0.47058824, ..., 0.35294118,\n",
       "           0.47058824, 0.47058824],\n",
       "          [0.94117647, 0.35294118, 0.47058824, ..., 0.35294118,\n",
       "           0.47058824, 0.47058824],\n",
       "          [0.94117647, 0.35294118, 0.47058824, ..., 0.35294118,\n",
       "           0.47058824, 0.47058824],\n",
       "          [0.94117647, 0.35294118, 0.47058824, ..., 0.35294118,\n",
       "           0.47058824, 0.47058824],\n",
       "          [0.94117647, 0.35294118, 0.47058824, ..., 0.35294118,\n",
       "           0.47058824, 0.47058824]]])],\n",
       " [array([[[ 0.71428571,  0.71428571,  0.71428571, ...,  0.57142857,\n",
       "            0.57142857,  0.42857143],\n",
       "          [ 0.71428571,  0.71428571,  0.71428571, ...,  0.57142857,\n",
       "            0.57142857,  0.42857143],\n",
       "          [ 0.71428571,  0.71428571,  0.71428571, ...,  0.57142857,\n",
       "            0.57142857,  0.42857143],\n",
       "          [ 0.71428571,  0.71428571,  0.71428571, ...,  0.57142857,\n",
       "            0.57142857,  0.42857143],\n",
       "          [ 0.71428571,  0.71428571,  0.71428571, ...,  0.57142857,\n",
       "            0.57142857,  0.42857143]],\n",
       "  \n",
       "         [[ 0.57142857,  0.57142857,  0.71428571, ...,  0.57142857,\n",
       "            0.57142857,  0.57142857],\n",
       "          [ 0.57142857,  0.57142857,  0.71428571, ...,  0.57142857,\n",
       "            0.57142857,  0.57142857],\n",
       "          [ 0.57142857,  0.57142857,  0.71428571, ...,  0.57142857,\n",
       "            0.57142857,  0.57142857],\n",
       "          [ 0.57142857,  0.57142857,  0.71428571, ...,  0.57142857,\n",
       "            0.57142857,  0.57142857],\n",
       "          [ 0.57142857,  0.57142857,  0.71428571, ...,  0.57142857,\n",
       "            0.57142857,  0.57142857]],\n",
       "  \n",
       "         [[ 0.71428571,  0.57142857,  0.71428571, ...,  0.85714286,\n",
       "            0.57142857,  0.42857143],\n",
       "          [ 0.71428571,  0.57142857,  0.71428571, ...,  0.85714286,\n",
       "            0.57142857,  0.42857143],\n",
       "          [ 0.71428571,  0.57142857,  0.71428571, ...,  0.85714286,\n",
       "            0.57142857,  0.42857143],\n",
       "          [ 0.71428571,  0.57142857,  0.71428571, ...,  0.85714286,\n",
       "            0.57142857,  0.42857143],\n",
       "          [ 0.71428571,  0.57142857,  0.71428571, ...,  0.85714286,\n",
       "            0.57142857,  0.42857143]],\n",
       "  \n",
       "         ...,\n",
       "  \n",
       "         [[ 0.57142857,  0.42857143,  0.85714286, ...,  0.57142857,\n",
       "            0.71428571,  0.57142857],\n",
       "          [ 0.57142857,  0.42857143,  0.85714286, ...,  0.57142857,\n",
       "            0.71428571,  0.57142857],\n",
       "          [ 0.57142857,  0.42857143,  0.85714286, ...,  0.57142857,\n",
       "            0.71428571,  0.57142857],\n",
       "          [ 0.57142857,  0.42857143,  0.85714286, ...,  0.57142857,\n",
       "            0.71428571,  0.57142857],\n",
       "          [ 0.57142857,  0.42857143,  0.85714286, ...,  0.57142857,\n",
       "            0.71428571,  0.57142857]],\n",
       "  \n",
       "         [[ 0.57142857,  0.57142857,  0.57142857, ...,  0.57142857,\n",
       "            0.71428571,  0.57142857],\n",
       "          [ 0.57142857,  0.57142857,  0.57142857, ...,  0.57142857,\n",
       "            0.71428571,  0.57142857],\n",
       "          [ 0.57142857,  0.57142857,  0.57142857, ...,  0.57142857,\n",
       "            0.71428571,  0.57142857],\n",
       "          [ 0.57142857,  0.57142857,  0.57142857, ...,  0.57142857,\n",
       "            0.71428571,  0.57142857],\n",
       "          [ 0.57142857,  0.57142857,  0.57142857, ...,  0.57142857,\n",
       "            0.71428571,  0.57142857]],\n",
       "  \n",
       "         [[-1.        ,  0.57142857,  0.57142857, ...,  0.57142857,\n",
       "            0.71428571,  0.71428571],\n",
       "          [-1.        ,  0.57142857,  0.57142857, ...,  0.57142857,\n",
       "            0.71428571,  0.71428571],\n",
       "          [-1.        ,  0.57142857,  0.57142857, ...,  0.57142857,\n",
       "            0.71428571,  0.71428571],\n",
       "          [-1.        ,  0.57142857,  0.57142857, ...,  0.57142857,\n",
       "            0.71428571,  0.71428571],\n",
       "          [-1.        ,  0.57142857,  0.57142857, ...,  0.57142857,\n",
       "            0.71428571,  0.71428571]]])],\n",
       " [array([[[        nan,         nan,         nan, ...,         nan,\n",
       "                   nan,         nan],\n",
       "          [-0.90909091,  0.90909091, -0.90909091, ...,  0.72727273,\n",
       "            0.90909091,  0.90909091],\n",
       "          [-0.90909091,  0.90909091, -0.90909091, ...,  0.72727273,\n",
       "            0.90909091,  0.90909091],\n",
       "          [-0.90909091,  0.90909091, -0.90909091, ...,  0.72727273,\n",
       "            0.90909091,  0.90909091],\n",
       "          [-0.90909091,  0.90909091, -0.90909091, ...,  0.72727273,\n",
       "            0.90909091,  0.90909091]],\n",
       "  \n",
       "         [[-0.90909091,  0.90909091, -0.90909091, ...,  0.90909091,\n",
       "            0.90909091,  0.90909091],\n",
       "          [-0.90909091,  0.90909091, -0.90909091, ...,  0.90909091,\n",
       "            0.90909091,  0.90909091],\n",
       "          [-0.90909091,  0.90909091, -0.90909091, ...,  0.90909091,\n",
       "            0.90909091,  0.90909091],\n",
       "          [-0.90909091,  0.90909091, -0.90909091, ...,  0.90909091,\n",
       "            0.90909091,  0.90909091],\n",
       "          [-0.90909091,  0.90909091, -0.90909091, ...,  0.90909091,\n",
       "            0.90909091,  0.90909091]],\n",
       "  \n",
       "         [[-0.90909091,  0.90909091, -0.90909091, ...,  0.72727273,\n",
       "            0.90909091,  0.90909091],\n",
       "          [-0.90909091,  0.90909091, -0.90909091, ...,  0.72727273,\n",
       "            0.90909091,  0.90909091],\n",
       "          [-0.90909091,  0.90909091, -0.90909091, ...,  0.72727273,\n",
       "            0.90909091,  0.90909091],\n",
       "          [-0.90909091,  0.90909091, -0.90909091, ...,  0.72727273,\n",
       "            0.90909091,  0.90909091],\n",
       "          [-0.90909091,  0.90909091, -0.90909091, ...,  0.72727273,\n",
       "            0.90909091,  0.90909091]],\n",
       "  \n",
       "         ...,\n",
       "  \n",
       "         [[        nan,         nan,         nan, ...,         nan,\n",
       "                   nan,         nan],\n",
       "          [ 0.90909091,  0.90909091, -0.90909091, ...,  0.90909091,\n",
       "            0.90909091,  0.90909091],\n",
       "          [ 0.90909091,  0.90909091, -0.90909091, ...,  0.90909091,\n",
       "            0.90909091,  0.90909091],\n",
       "          [ 0.90909091,  0.90909091, -0.90909091, ...,  0.90909091,\n",
       "            0.90909091,  0.90909091],\n",
       "          [ 0.90909091,  0.90909091, -0.90909091, ...,  0.90909091,\n",
       "            0.90909091,  0.90909091]],\n",
       "  \n",
       "         [[ 0.90909091,  0.90909091,  0.90909091, ...,  0.90909091,\n",
       "            0.90909091,  0.90909091],\n",
       "          [ 0.90909091,  0.90909091,  0.90909091, ...,  0.90909091,\n",
       "            0.90909091,  0.90909091],\n",
       "          [ 0.90909091,  0.90909091,  0.90909091, ...,  0.90909091,\n",
       "            0.90909091,  0.90909091],\n",
       "          [ 0.90909091,  0.90909091,  0.90909091, ...,  0.90909091,\n",
       "            0.90909091,  0.90909091],\n",
       "          [ 0.90909091,  0.90909091,  0.90909091, ...,  0.90909091,\n",
       "            0.90909091,  0.90909091]],\n",
       "  \n",
       "         [[        nan,         nan,         nan, ...,         nan,\n",
       "                   nan,         nan],\n",
       "          [-0.72727273,  0.90909091,  0.90909091, ...,  0.90909091,\n",
       "            0.90909091,  0.90909091],\n",
       "          [-0.72727273,  0.90909091,  0.90909091, ...,  0.90909091,\n",
       "            0.90909091,  0.90909091],\n",
       "          [-0.72727273,  0.90909091,  0.90909091, ...,  0.90909091,\n",
       "            0.90909091,  0.90909091],\n",
       "          [-0.72727273,  0.90909091,  0.90909091, ...,  0.90909091,\n",
       "            0.90909091,  0.90909091]]])],\n",
       " [array([[[ 0.        ,  0.22222222, -0.22222222, ...,  0.88888889,\n",
       "            0.44444444,  0.66666667],\n",
       "          [ 0.        ,  0.22222222, -0.22222222, ...,  0.88888889,\n",
       "            0.44444444,  0.66666667],\n",
       "          [ 0.        ,  0.22222222, -0.22222222, ...,  0.88888889,\n",
       "            0.44444444,  0.66666667],\n",
       "          [ 0.        ,  0.22222222, -0.22222222, ...,  0.88888889,\n",
       "            0.44444444,  0.66666667],\n",
       "          [ 0.        ,  0.22222222, -0.22222222, ...,  0.88888889,\n",
       "            0.44444444,  0.66666667]],\n",
       "  \n",
       "         [[ 0.66666667,  0.88888889, -0.88888889, ...,  0.66666667,\n",
       "            0.        ,  0.66666667],\n",
       "          [ 0.66666667,  0.88888889, -0.88888889, ...,  0.66666667,\n",
       "            0.        ,  0.66666667],\n",
       "          [ 0.66666667,  0.88888889, -0.88888889, ...,  0.66666667,\n",
       "            0.        ,  0.66666667],\n",
       "          [ 0.66666667,  0.88888889, -0.88888889, ...,  0.66666667,\n",
       "            0.        ,  0.66666667],\n",
       "          [ 0.66666667,  0.88888889, -0.88888889, ...,  0.66666667,\n",
       "            0.        ,  0.66666667]],\n",
       "  \n",
       "         [[-0.44444444,  0.66666667, -0.22222222, ...,  0.22222222,\n",
       "           -0.66666667, -0.88888889],\n",
       "          [-0.44444444,  0.66666667, -0.22222222, ...,  0.22222222,\n",
       "           -0.66666667, -0.88888889],\n",
       "          [-0.44444444,  0.66666667, -0.22222222, ...,  0.22222222,\n",
       "           -0.66666667, -0.88888889],\n",
       "          [-0.44444444,  0.66666667, -0.22222222, ...,  0.22222222,\n",
       "           -0.66666667, -0.88888889],\n",
       "          [-0.44444444,  0.66666667, -0.22222222, ...,  0.22222222,\n",
       "           -0.66666667, -0.88888889]],\n",
       "  \n",
       "         ...,\n",
       "  \n",
       "         [[-0.66666667,  0.88888889, -0.22222222, ..., -0.88888889,\n",
       "           -0.44444444, -0.66666667],\n",
       "          [-0.66666667,  0.88888889, -0.22222222, ..., -0.88888889,\n",
       "           -0.44444444, -0.66666667],\n",
       "          [-0.66666667,  0.88888889, -0.22222222, ..., -0.88888889,\n",
       "           -0.44444444, -0.66666667],\n",
       "          [-0.66666667,  0.88888889, -0.22222222, ..., -0.88888889,\n",
       "           -0.44444444, -0.66666667],\n",
       "          [-0.66666667,  0.88888889, -0.22222222, ..., -0.88888889,\n",
       "           -0.44444444, -0.66666667]],\n",
       "  \n",
       "         [[-0.66666667, -0.66666667, -0.66666667, ...,  0.88888889,\n",
       "           -0.44444444, -0.88888889],\n",
       "          [-0.66666667, -0.66666667, -0.66666667, ...,  0.88888889,\n",
       "           -0.44444444, -0.88888889],\n",
       "          [-0.66666667, -0.66666667, -0.66666667, ...,  0.88888889,\n",
       "           -0.44444444, -0.88888889],\n",
       "          [-0.66666667, -0.66666667, -0.66666667, ...,  0.88888889,\n",
       "           -0.44444444, -0.88888889],\n",
       "          [-0.66666667, -0.66666667, -0.66666667, ...,  0.88888889,\n",
       "           -0.44444444, -0.88888889]],\n",
       "  \n",
       "         [[-0.22222222, -0.66666667,  0.66666667, ...,  0.88888889,\n",
       "           -0.66666667,  0.88888889],\n",
       "          [-0.22222222, -0.66666667,  0.66666667, ...,  0.88888889,\n",
       "           -0.66666667,  0.88888889],\n",
       "          [-0.22222222, -0.66666667,  0.66666667, ...,  0.88888889,\n",
       "           -0.66666667,  0.88888889],\n",
       "          [-0.22222222, -0.66666667,  0.66666667, ...,  0.88888889,\n",
       "           -0.66666667,  0.88888889],\n",
       "          [-0.22222222, -0.66666667,  0.66666667, ...,  0.88888889,\n",
       "           -0.66666667,  0.88888889]]])],\n",
       " [array([[[        nan,         nan,         nan, ...,         nan,\n",
       "                   nan,         nan],\n",
       "          [ 0.28571429,  0.        ,  0.        , ..., -0.57142857,\n",
       "           -0.57142857, -0.57142857],\n",
       "          [ 0.28571429,  0.        ,  0.        , ..., -0.57142857,\n",
       "           -0.57142857, -0.57142857],\n",
       "          [ 0.28571429,  0.        ,  0.        , ..., -0.57142857,\n",
       "           -0.57142857, -0.57142857],\n",
       "          [ 0.28571429,  0.        ,  0.        , ..., -0.57142857,\n",
       "           -0.57142857, -0.57142857]],\n",
       "  \n",
       "         [[-0.28571429, -0.28571429,  0.        , ..., -0.85714286,\n",
       "           -0.57142857, -0.57142857],\n",
       "          [-0.28571429, -0.28571429,  0.        , ..., -0.85714286,\n",
       "           -0.57142857, -0.57142857],\n",
       "          [-0.28571429, -0.28571429,  0.        , ..., -0.85714286,\n",
       "           -0.57142857, -0.57142857],\n",
       "          [-0.28571429, -0.28571429,  0.        , ..., -0.85714286,\n",
       "           -0.57142857, -0.57142857],\n",
       "          [-0.28571429, -0.28571429,  0.        , ..., -0.85714286,\n",
       "           -0.57142857, -0.57142857]],\n",
       "  \n",
       "         [[ 0.        , -0.85714286,  0.28571429, ..., -0.85714286,\n",
       "            0.28571429, -0.28571429],\n",
       "          [ 0.        , -0.85714286,  0.28571429, ..., -0.85714286,\n",
       "            0.28571429, -0.28571429],\n",
       "          [ 0.        , -0.85714286,  0.28571429, ..., -0.85714286,\n",
       "            0.28571429, -0.28571429],\n",
       "          [ 0.        , -0.85714286,  0.28571429, ..., -0.85714286,\n",
       "            0.28571429, -0.28571429],\n",
       "          [ 0.        , -0.85714286,  0.28571429, ..., -0.85714286,\n",
       "            0.28571429, -0.28571429]],\n",
       "  \n",
       "         ...,\n",
       "  \n",
       "         [[-0.28571429, -0.85714286,  0.        , ..., -0.57142857,\n",
       "           -0.28571429, -0.57142857],\n",
       "          [-0.28571429, -0.85714286,  0.        , ..., -0.57142857,\n",
       "           -0.28571429, -0.57142857],\n",
       "          [-0.28571429, -0.85714286,  0.        , ..., -0.57142857,\n",
       "           -0.28571429, -0.57142857],\n",
       "          [-0.28571429, -0.85714286,  0.        , ..., -0.57142857,\n",
       "           -0.28571429, -0.57142857],\n",
       "          [-0.28571429, -0.85714286,  0.        , ..., -0.57142857,\n",
       "           -0.28571429, -0.57142857]],\n",
       "  \n",
       "         [[-0.28571429, -0.28571429,  0.        , ..., -0.28571429,\n",
       "           -0.28571429, -0.57142857],\n",
       "          [-0.28571429, -0.28571429,  0.        , ..., -0.28571429,\n",
       "           -0.28571429, -0.57142857],\n",
       "          [-0.28571429, -0.28571429,  0.        , ..., -0.28571429,\n",
       "           -0.28571429, -0.57142857],\n",
       "          [-0.28571429, -0.28571429,  0.        , ..., -0.28571429,\n",
       "           -0.28571429, -0.57142857],\n",
       "          [-0.28571429, -0.28571429,  0.        , ..., -0.28571429,\n",
       "           -0.28571429, -0.57142857]],\n",
       "  \n",
       "         [[ 0.28571429, -0.57142857, -0.85714286, ..., -0.57142857,\n",
       "            0.28571429, -0.85714286],\n",
       "          [ 0.28571429, -0.57142857, -0.85714286, ..., -0.57142857,\n",
       "            0.28571429, -0.85714286],\n",
       "          [ 0.28571429, -0.57142857, -0.85714286, ..., -0.57142857,\n",
       "            0.28571429, -0.85714286],\n",
       "          [ 0.28571429, -0.57142857, -0.85714286, ..., -0.57142857,\n",
       "            0.28571429, -0.85714286],\n",
       "          [ 0.28571429, -0.57142857, -0.85714286, ..., -0.57142857,\n",
       "            0.28571429, -0.85714286]]])],\n",
       " [array([[[ 0.        ,  0.        ,  0.        , ...,  0.        ,\n",
       "           -0.33333333,  0.        ],\n",
       "          [ 0.        ,  0.        ,  0.        , ...,  0.        ,\n",
       "           -0.33333333,  0.        ],\n",
       "          [ 0.        ,  0.        ,  0.        , ...,  0.        ,\n",
       "           -0.33333333,  0.        ],\n",
       "          [ 0.        ,  0.        ,  0.        , ...,  0.        ,\n",
       "           -0.33333333,  0.        ],\n",
       "          [ 0.        ,  0.        ,  0.        , ...,  0.        ,\n",
       "           -0.33333333,  0.        ]],\n",
       "  \n",
       "         [[ 0.33333333,  0.        ,  0.33333333, ...,  0.        ,\n",
       "            0.        ,  0.        ],\n",
       "          [ 0.33333333,  0.        ,  0.33333333, ...,  0.        ,\n",
       "            0.        ,  0.        ],\n",
       "          [ 0.33333333,  0.        ,  0.33333333, ...,  0.        ,\n",
       "            0.        ,  0.        ],\n",
       "          [ 0.33333333,  0.        ,  0.33333333, ...,  0.        ,\n",
       "            0.        ,  0.        ],\n",
       "          [ 0.33333333,  0.        ,  0.33333333, ...,  0.        ,\n",
       "            0.        ,  0.        ]],\n",
       "  \n",
       "         [[        nan,         nan,         nan, ...,         nan,\n",
       "                   nan,         nan],\n",
       "          [ 0.        ,  0.        ,  0.33333333, ..., -0.33333333,\n",
       "            0.        , -0.33333333],\n",
       "          [ 0.        ,  0.        ,  0.33333333, ..., -0.33333333,\n",
       "            0.        , -0.33333333],\n",
       "          [ 0.        ,  0.        ,  0.33333333, ..., -0.33333333,\n",
       "            0.        , -0.33333333],\n",
       "          [ 0.        ,  0.        ,  0.33333333, ..., -0.33333333,\n",
       "            0.        , -0.33333333]],\n",
       "  \n",
       "         ...,\n",
       "  \n",
       "         [[ 0.        ,  0.        ,  0.33333333, ...,  0.        ,\n",
       "            0.        ,  0.        ],\n",
       "          [ 0.        ,  0.        ,  0.33333333, ...,  0.        ,\n",
       "            0.        ,  0.        ],\n",
       "          [ 0.        ,  0.        ,  0.33333333, ...,  0.        ,\n",
       "            0.        ,  0.        ],\n",
       "          [        nan,         nan,         nan, ...,         nan,\n",
       "                   nan,         nan],\n",
       "          [ 0.        ,  0.        ,  0.33333333, ...,  0.        ,\n",
       "            0.        ,  0.        ]],\n",
       "  \n",
       "         [[ 0.        ,  0.        ,  0.        , ...,  0.        ,\n",
       "            0.        ,  0.        ],\n",
       "          [ 0.        ,  0.        ,  0.        , ...,  0.        ,\n",
       "            0.        ,  0.        ],\n",
       "          [ 0.        ,  0.        ,  0.        , ...,  0.        ,\n",
       "            0.        ,  0.        ],\n",
       "          [        nan,         nan,         nan, ...,         nan,\n",
       "                   nan,         nan],\n",
       "          [ 0.        ,  0.        ,  0.        , ...,  0.        ,\n",
       "            0.        ,  0.        ]],\n",
       "  \n",
       "         [[        nan,         nan,         nan, ...,         nan,\n",
       "                   nan,         nan],\n",
       "          [ 0.33333333, -0.33333333,  0.        , ...,  0.        ,\n",
       "            0.        ,  0.        ],\n",
       "          [ 0.33333333, -0.33333333,  0.        , ...,  0.        ,\n",
       "            0.        ,  0.        ],\n",
       "          [ 0.33333333, -0.33333333,  0.        , ...,  0.        ,\n",
       "            0.        ,  0.        ],\n",
       "          [ 0.33333333, -0.33333333,  0.        , ...,  0.        ,\n",
       "            0.        ,  0.        ]]])],\n",
       " [array([[[-0.4, -0.4, -0.8, ...,  0. ,  0. ,  0.8],\n",
       "          [-0.4, -0.4, -0.8, ...,  0. ,  0. ,  0.8],\n",
       "          [-0.4, -0.4, -0.8, ...,  0. ,  0. ,  0.8],\n",
       "          [-0.4, -0.4, -0.8, ...,  0. ,  0. ,  0.8],\n",
       "          [-0.4, -0.4, -0.8, ...,  0. ,  0. ,  0.8]],\n",
       "  \n",
       "         [[ nan,  nan,  nan, ...,  nan,  nan,  nan],\n",
       "          [ 0.4,  0. ,  0.4, ...,  0.4,  0. ,  0. ],\n",
       "          [ 0.4,  0. ,  0.4, ...,  0.4,  0. ,  0. ],\n",
       "          [ 0.4,  0. ,  0.4, ...,  0.4,  0. ,  0. ],\n",
       "          [ 0.4,  0. ,  0.4, ...,  0.4,  0. ,  0. ]],\n",
       "  \n",
       "         [[-0.4,  0. , -0.4, ...,  0.4, -0.4,  0.4],\n",
       "          [-0.4,  0. , -0.4, ...,  0.4, -0.4,  0.4],\n",
       "          [-0.4,  0. , -0.4, ...,  0.4, -0.4,  0.4],\n",
       "          [-0.4,  0. , -0.4, ...,  0.4, -0.4,  0.4],\n",
       "          [-0.4,  0. , -0.4, ...,  0.4, -0.4,  0.4]],\n",
       "  \n",
       "         ...,\n",
       "  \n",
       "         [[-0.8,  0. , -0.4, ...,  0. , -0.4,  0.4],\n",
       "          [-0.8,  0. , -0.4, ...,  0. , -0.4,  0.4],\n",
       "          [-0.8,  0. , -0.4, ...,  0. , -0.4,  0.4],\n",
       "          [-0.8,  0. , -0.4, ...,  0. , -0.4,  0.4],\n",
       "          [-0.8,  0. , -0.4, ...,  0. , -0.4,  0.4]],\n",
       "  \n",
       "         [[ nan,  nan,  nan, ...,  nan,  nan,  nan],\n",
       "          [ 0. ,  0. , -0.4, ...,  0.4,  0.4,  0. ],\n",
       "          [ 0. ,  0. , -0.4, ...,  0.4,  0.4,  0. ],\n",
       "          [ 0. ,  0. , -0.4, ...,  0.4,  0.4,  0. ],\n",
       "          [ 0. ,  0. , -0.4, ...,  0.4,  0.4,  0. ]],\n",
       "  \n",
       "         [[ nan,  nan,  nan, ...,  nan,  nan,  nan],\n",
       "          [ 0. ,  0. , -0.4, ...,  0. , -0.4,  0.8],\n",
       "          [ 0. ,  0. , -0.4, ...,  0. , -0.4,  0.8],\n",
       "          [ 0. ,  0. , -0.4, ...,  0. , -0.4,  0.8],\n",
       "          [ 0. ,  0. , -0.4, ...,  0. , -0.4,  0.8]]])]]"
      ]
     },
     "execution_count": 47,
     "metadata": {},
     "output_type": "execute_result"
    }
   ],
   "source": [
    "res = test_sensitivity(dts)"
   ]
  },
  {
   "cell_type": "code",
   "execution_count": 55,
   "metadata": {},
   "outputs": [
    {
     "data": {
      "text/plain": [
       "1"
      ]
     },
     "execution_count": 55,
     "metadata": {},
     "output_type": "execute_result"
    }
   ],
   "source": [
    "len(res[0])"
   ]
  },
  {
   "cell_type": "code",
   "execution_count": 70,
   "metadata": {},
   "outputs": [
    {
     "data": {
      "text/plain": [
       "(128, 5, 10)"
      ]
     },
     "execution_count": 70,
     "metadata": {},
     "output_type": "execute_result"
    }
   ],
   "source": [
    "res[0][0].shape"
   ]
  },
  {
   "cell_type": "code",
   "execution_count": 62,
   "metadata": {},
   "outputs": [],
   "source": [
    "res2 = [np.mean(model.predict(o[0], method=\"dynamic_mode\") == y_subset) for o in res]"
   ]
  },
  {
   "cell_type": "code",
   "execution_count": 64,
   "metadata": {},
   "outputs": [
    {
     "data": {
      "text/plain": [
       "[<matplotlib.lines.Line2D at 0x7fe0f04a9280>]"
      ]
     },
     "execution_count": 64,
     "metadata": {},
     "output_type": "execute_result"
    },
    {
     "data": {
      "image/png": "[encoded data removed]",
      "text/plain": [
       "<Figure size 432x288 with 1 Axes>"
      ]
     },
     "metadata": {
      "needs_background": "light"
     },
     "output_type": "display_data"
    }
   ],
   "source": [
    "plt.semilogx(points, res2)"
   ]
  },
  {
   "cell_type": "code",
   "execution_count": 66,
   "metadata": {},
   "outputs": [
    {
     "data": {
      "text/plain": [
       "[<matplotlib.lines.Line2D at 0x7fe0d875aca0>]"
      ]
     },
     "execution_count": 66,
     "metadata": {},
     "output_type": "execute_result"
    },
    {
     "data": {
      "image/png": "[encoded data removed]",
      "text/plain": [
       "<Figure size 432x288 with 1 Axes>"
      ]
     },
     "metadata": {
      "needs_background": "light"
     },
     "output_type": "display_data"
    }
   ],
   "source": [
    "plt.semilogx(dts, res2)"
   ]
  },
  {
   "cell_type": "code",
   "execution_count": null,
   "metadata": {},
   "outputs": [],
   "source": []
  },
  {
   "cell_type": "code",
   "execution_count": null,
   "metadata": {},
   "outputs": [],
   "source": [
    "#full dynamic execution on test set - takes a few hours"
   ]
  },
  {
   "cell_type": "code",
   "execution_count": null,
   "metadata": {
    "scrolled": true
   },
   "outputs": [],
   "source": [
    "all_yhs = model.evaluate(ds_test, method=\"dynamic\")"
   ]
  },
  {
   "cell_type": "code",
   "execution_count": null,
   "metadata": {},
   "outputs": [],
   "source": [
    "np.savez_compressed(\"fashion_yhs_dynamic.npz\", yhs=all_yhs.numpy(), ys=y_test)"
   ]
  },
  {
   "cell_type": "code",
   "execution_count": null,
   "metadata": {},
   "outputs": [],
   "source": [
    "yhmode = model.predict(all_yhs, \"mode\").ravel()"
   ]
  },
  {
   "cell_type": "code",
   "execution_count": null,
   "metadata": {},
   "outputs": [],
   "source": [
    "yhmean = model.predict(all_yhs, \"dynamic_mean\")"
   ]
  },
  {
   "cell_type": "code",
   "execution_count": null,
   "metadata": {},
   "outputs": [],
   "source": [
    "np.mean(yhmode == y_test)"
   ]
  },
  {
   "cell_type": "code",
   "execution_count": null,
   "metadata": {},
   "outputs": [],
   "source": [
    "np.mean(yhmean == y_test)"
   ]
  },
  {
   "cell_type": "code",
   "execution_count": null,
   "metadata": {},
   "outputs": [],
   "source": [
    "zs = model.dense1.solutions[0].y"
   ]
  },
  {
   "cell_type": "code",
   "execution_count": null,
   "metadata": {},
   "outputs": [],
   "source": [
    "zs = model.dense1.solutions[1].y"
   ]
  },
  {
   "cell_type": "code",
   "execution_count": null,
   "metadata": {
    "scrolled": true
   },
   "outputs": [],
   "source": [
    "zs.shape"
   ]
  },
  {
   "cell_type": "code",
   "execution_count": null,
   "metadata": {},
   "outputs": [],
   "source": [
    "model.evaluate(ds_test)"
   ]
  },
  {
   "cell_type": "code",
   "execution_count": null,
   "metadata": {},
   "outputs": [],
   "source": [
    "def train_and_save(num):\n",
    "    model = PhasorModel(input_shape, \n",
    "                    onehot_offset=0.0, \n",
    "                    onehot_phase=0.5,\n",
    "                    projection=\"dot\",\n",
    "                   \n",
    "                   exec_time=5.0,\n",
    "                   repeats=5,\n",
    "                   max_step=0.02)\n",
    "    model.compile(optimizer=\"rmsprop\")\n",
    "    loss = model.train(ds_train, 2)\n",
    "    \n",
    "    yh_static = model.evaluate(ds_test, method=\"static\")\n",
    "    yh_dynamic = model.evaluate(ds_test, method=\"dynamic\")\n",
    "    \n",
    "    name = \"fashion_model_\"+str(num)+\".npz\"\n",
    "    np.savez_compressed(name, \n",
    "                        yh_static=yh_static.numpy(),\n",
    "                        yh_dynamic=yh_dynamic.numpy(),\n",
    "                        ys=y_test.numpy())"
   ]
  },
  {
   "cell_type": "code",
   "execution_count": null,
   "metadata": {},
   "outputs": [],
   "source": [
    "train_and_save(5)"
   ]
  },
  {
   "cell_type": "code",
   "execution_count": null,
   "metadata": {
    "scrolled": true
   },
   "outputs": [],
   "source": [
    "for i in range(4):\n",
    "    train_and_save(i)"
   ]
  },
  {
   "cell_type": "code",
   "execution_count": null,
   "metadata": {},
   "outputs": [],
   "source": [
    "train_and_save(4)"
   ]
  },
  {
   "cell_type": "code",
   "execution_count": null,
   "metadata": {
    "scrolled": true
   },
   "outputs": [],
   "source": [
    "for i in range(6,8):\n",
    "    train_and_save(i)"
   ]
  },
  {
   "cell_type": "code",
   "execution_count": null,
   "metadata": {},
   "outputs": [],
   "source": []
  }
 ],
 "metadata": {
  "kernelspec": {
   "display_name": "Python 3",
   "language": "python",
   "name": "python3"
  },
  "language_info": {
   "codemirror_mode": {
    "name": "ipython",
    "version": 3
   },
   "file_extension": ".py",
   "mimetype": "text/x-python",
   "name": "python",
   "nbconvert_exporter": "python",
   "pygments_lexer": "ipython3",
   "version": "3.8.5"
  }
 },
 "nbformat": 4,
 "nbformat_minor": 4
}
